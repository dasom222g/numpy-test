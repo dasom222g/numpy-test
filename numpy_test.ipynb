{
  "nbformat": 4,
  "nbformat_minor": 0,
  "metadata": {
    "colab": {
      "provenance": [],
      "authorship_tag": "ABX9TyP2SpVQhzpTuEZizzLP7+YF",
      "include_colab_link": true
    },
    "kernelspec": {
      "name": "python3",
      "display_name": "Python 3"
    },
    "language_info": {
      "name": "python"
    }
  },
  "cells": [
    {
      "cell_type": "markdown",
      "metadata": {
        "id": "view-in-github",
        "colab_type": "text"
      },
      "source": [
        "<a href=\"https://colab.research.google.com/github/dasom222g/numpy-test/blob/main/numpy_test.ipynb\" target=\"_parent\"><img src=\"https://colab.research.google.com/assets/colab-badge.svg\" alt=\"Open In Colab\"/></a>"
      ]
    },
    {
      "cell_type": "code",
      "source": [
        "from google.colab import drive\n",
        "drive.mount('/content/drive')"
      ],
      "metadata": {
        "id": "UnKnBb0SC7FM",
        "colab": {
          "base_uri": "https://localhost:8080/"
        },
        "outputId": "5c579e22-417e-4d77-c8be-cad68b17197c"
      },
      "execution_count": 4,
      "outputs": [
        {
          "output_type": "stream",
          "name": "stdout",
          "text": [
            "Mounted at /content/drive\n"
          ]
        }
      ]
    },
    {
      "cell_type": "code",
      "execution_count": null,
      "metadata": {
        "id": "x-GEYfqTWecY"
      },
      "outputs": [],
      "source": [
        "# NumPy L1 문제 모음\n",
        "# 날짜: 2024-01-19\n",
        "\n",
        "import numpy as np\n",
        "\n",
        "# 문제 1: numpy를 np로 import하고 버전을 출력하세요\n",
        "print(\"문제 1 결과:\")\n",
        "print(np.__version__)\n",
        "print(\"\\n\")\n",
        "\n",
        "# 문제 2: 0부터 9까지의 1차원 배열을 생성하세요\n",
        "print(\"문제 2 결과:\")\n",
        "arr2 =\n",
        "print(arr2)\n",
        "print(\"\\n\")\n",
        "\n",
        "# 문제 3: 3x3 크기의 boolean 배열을 생성하세요(모든 값은 True)\n",
        "print(\"문제 3 결과:\")\n",
        "arr3 =\n",
        "print(arr3)\n",
        "print(\"\\n\")\n",
        "\n",
        "# 문제 4: arr에서 홀수만 추출하세요\n",
        "print(\"문제 4 결과:\")\n",
        "arr4 = np.array([0, 1, 2, 3, 4, 5, 6, 7, 8, 9])\n",
        "result4 =\n",
        "print(result4)\n",
        "print(\"\\n\")\n",
        "\n",
        "# 문제 5: arr에서 홀수를 모두 -1로 교체하세요\n",
        "print(\"문제 5 결과:\")\n",
        "arr5 = np.array([0, 1, 2, 3, 4, 5, 6, 7, 8, 9])\n",
        "result5 =\n",
        "print(result5)\n",
        "print(\"\\n\")\n",
        "\n",
        "# 문제 6: arr에서 3보다 큰 값이 있는지 확인하는 코드를 작성하세요\n",
        "print(\"문제 6 결과:\")\n",
        "arr6 = np.array([1, 2, 3, 4, 5])\n",
        "result6 =\n",
        "print(result6)\n",
        "print(\"\\n\")\n",
        "\n",
        "# 문제 7: arr에서 첫번째 행만 출력하세요\n",
        "print(\"문제 7 결과:\")\n",
        "arr7 = np.array([[1,2,3], [4,5,6], [7,8,9]])\n",
        "result7 =\n",
        "print(result7)\n",
        "print(\"\\n\")\n",
        "\n",
        "# 문제 8: arr에서 2번째 열만 출력하세요\n",
        "print(\"문제 8 결과:\")\n",
        "arr8 = np.array([[1,2,3], [4,5,6], [7,8,9]])\n",
        "result8 =\n",
        "print(result8)\n",
        "print(\"\\n\")\n",
        "\n",
        "# 문제 9: arr에서 1,2행의 1,2열만 출력하세요\n",
        "print(\"문제 9 결과:\")\n",
        "arr9 = np.array([[1,2,3], [4,5,6], [7,8,9]])\n",
        "result9 =\n",
        "print(result9)\n",
        "print(\"\\n\")\n",
        "\n",
        "# 문제 10: 5x5 단위행렬(Identity matrix)을 생성하세요\n",
        "print(\"문제 10 결과:\")\n",
        "result10 =\n",
        "print(result10)\n",
        "print(\"\\n\")\n",
        "\n",
        "# 문제 11: 0부터 8까지의 숫자를 생성하고 3x3 행렬로 reshape하세요\n",
        "print(\"문제 11 결과:\")\n",
        "result11 =\n",
        "print(result11)\n",
        "print(\"\\n\")\n",
        "\n",
        "# 문제 12: 두 배열 a = [1,2,3]과 b = [4,5,6]을 수직으로 쌓으세요(vertical stack)\n",
        "print(\"문제 12 결과:\")\n",
        "a12 = np.array([1, 2, 3])\n",
        "b12 = np.array([4, 5, 6])\n",
        "result12 =\n",
        "print(result12)\n",
        "print(\"\\n\")\n",
        "\n",
        "# 문제 13: 두 배열을 수평으로 쌓으세요(horizontal stack)\n",
        "print(\"문제 13 결과:\")\n",
        "a13 = np.array([1, 2, 3])\n",
        "b13 = np.array([4, 5, 6])\n",
        "result13 =\n",
        "print(result13)\n",
        "print(\"\\n\")\n",
        "```"
      ]
    }
  ]
}