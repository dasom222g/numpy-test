{
  "cells": [
    {
      "cell_type": "markdown",
      "metadata": {
        "id": "view-in-github",
        "colab_type": "text"
      },
      "source": [
        "<a href=\"https://colab.research.google.com/github/dasom222g/numpy-test/blob/main/01_NumPy_%E1%84%89%E1%85%B5%E1%86%AF%E1%84%89%E1%85%B3%E1%86%B8_%E1%84%8F%E1%85%A9%E1%84%83%E1%85%B3.ipynb\" target=\"_parent\"><img src=\"https://colab.research.google.com/assets/colab-badge.svg\" alt=\"Open In Colab\"/></a>"
      ]
    },
    {
      "cell_type": "markdown",
      "metadata": {
        "nbpresent": {
          "id": "a00a5059-101b-4f62-bac3-0c6049620deb"
        },
        "id": "AXy-3TzmrPqb"
      },
      "source": [
        "# 데이터 분석을 위한 패키지"
      ]
    },
    {
      "cell_type": "markdown",
      "metadata": {
        "id": "e6iQ6igorPqq"
      },
      "source": [
        "## 1. 배열 데이터를 효과적으로 다루는 NumPy"
      ]
    },
    {
      "cell_type": "markdown",
      "metadata": {
        "id": "nO9ICRMMrPqt"
      },
      "source": [
        "### 넘파이 연습 사이트: https://www.machinelearningplus.com/python/101-numpy-exercises-python/"
      ]
    },
    {
      "cell_type": "markdown",
      "metadata": {
        "id": "YW8MPs2FrPqv"
      },
      "source": [
        "### 1.1 넘파이 모듈 불러오기"
      ]
    },
    {
      "cell_type": "code",
      "execution_count": 2,
      "metadata": {
        "nbpresent": {
          "id": "9e8ce122-b1df-430b-b94c-2511fe66389f"
        },
        "id": "rlei_ZEOrPqw",
        "colab": {
          "base_uri": "https://localhost:8080/",
          "height": 36
        },
        "outputId": "67598df2-0337-4100-b235-9745984a6516"
      },
      "outputs": [
        {
          "output_type": "execute_result",
          "data": {
            "text/plain": [
              "'1.26.4'"
            ],
            "application/vnd.google.colaboratory.intrinsic+json": {
              "type": "string"
            }
          },
          "metadata": {},
          "execution_count": 2
        }
      ],
      "source": [
        "import numpy as np\n",
        "\n",
        "np.__version__"
      ]
    },
    {
      "cell_type": "markdown",
      "metadata": {
        "nbpresent": {
          "id": "18fa478a-80cb-47a5-ae5e-d861a083f7cd"
        },
        "id": "DV6RdydbrPq1"
      },
      "source": [
        "### 1.2 배열 생성하기"
      ]
    },
    {
      "cell_type": "code",
      "source": [
        "np.array([123])"
      ],
      "metadata": {
        "colab": {
          "base_uri": "https://localhost:8080/"
        },
        "id": "0puSpDQef7Lq",
        "outputId": "3454de43-f1be-4d76-abbe-7d7bbfea091f"
      },
      "execution_count": 6,
      "outputs": [
        {
          "output_type": "execute_result",
          "data": {
            "text/plain": [
              "array([123])"
            ]
          },
          "metadata": {},
          "execution_count": 6
        }
      ]
    },
    {
      "cell_type": "markdown",
      "metadata": {
        "id": "ij4byT6YrPq4"
      },
      "source": [
        "#### 시퀀스 데이터로부터 1차원 배열 생성"
      ]
    },
    {
      "cell_type": "code",
      "execution_count": null,
      "metadata": {
        "nbpresent": {
          "id": "5f71eb4e-f55e-4f00-96bc-722d7e241a66"
        },
        "colab": {
          "base_uri": "https://localhost:8080/"
        },
        "id": "LTmhd38yrPq7",
        "outputId": "65918cf2-dbf1-4352-aa82-2decad8f3881"
      },
      "outputs": [
        {
          "output_type": "execute_result",
          "data": {
            "text/plain": [
              "array([0, 1, 2, 3, 4, 5])"
            ]
          },
          "metadata": {},
          "execution_count": 2
        }
      ],
      "source": [
        "import numpy as np\n",
        "\n",
        "data1 = [0, 1, 2, 3, 4, 5]\n",
        "a1 = np.array(data1)\n",
        "a1"
      ]
    },
    {
      "cell_type": "code",
      "execution_count": null,
      "metadata": {
        "id": "qH2sAW-XrPrA",
        "outputId": "6e29d400-078a-4052-bdd6-e2c63b7a9014",
        "colab": {
          "base_uri": "https://localhost:8080/"
        }
      },
      "outputs": [
        {
          "output_type": "stream",
          "name": "stdout",
          "text": [
            "<class 'list'>\n",
            "<class 'numpy.ndarray'>\n"
          ]
        }
      ],
      "source": [
        "# Q. data1과 a1의 데이터 타입 확인해보기 <힌트: type()>\n",
        "print(type(data1))\n",
        "print(type(a1))"
      ]
    },
    {
      "cell_type": "code",
      "source": [
        "# list는 실수와 정수 공존 가능하지만 넘파이는 공존 불가하여 정수도 실수로 변환\n",
        "data2 = [1, 2, 4]\n",
        "a2 = np.array(data2)\n",
        "a2.dtype"
      ],
      "metadata": {
        "colab": {
          "base_uri": "https://localhost:8080/"
        },
        "id": "vxhmtgYwx2wR",
        "outputId": "2dbbc982-491d-47c8-f3b3-bfcffbe209b9"
      },
      "execution_count": 11,
      "outputs": [
        {
          "output_type": "execute_result",
          "data": {
            "text/plain": [
              "dtype('int64')"
            ]
          },
          "metadata": {},
          "execution_count": 11
        }
      ]
    },
    {
      "cell_type": "code",
      "execution_count": null,
      "metadata": {
        "nbpresent": {
          "id": "4f067f0f-f488-409b-bd2b-b56b87a767de"
        },
        "id": "sm-yCGV4rPrE",
        "outputId": "a7fb2b05-4f5b-4795-9893-fd7fe6290577",
        "colab": {
          "base_uri": "https://localhost:8080/"
        }
      },
      "outputs": [
        {
          "output_type": "execute_result",
          "data": {
            "text/plain": [
              "array([ 0.1,  5. ,  4. , 12. ,  0.5])"
            ]
          },
          "metadata": {},
          "execution_count": 4
        }
      ],
      "source": [
        "# list는 실수와 정수 공존 가능하지만 넘파이는 공존 불가하여 정수도 실수로 변환\n",
        "# 넘파이는 수치계산에 특화된 라이브러기이기 때문\n",
        "data2 = [0.1, 5, 4, 12, 0.5]\n",
        "a2 = np.array(data2)\n",
        "a2"
      ]
    },
    {
      "cell_type": "code",
      "execution_count": null,
      "metadata": {
        "nbpresent": {
          "id": "8c96f42b-7142-4360-b36d-26baaec54605"
        },
        "id": "0ZIyb3LPrPrI",
        "outputId": "90fabbba-19c2-445d-b10c-2b90500e657d",
        "colab": {
          "base_uri": "https://localhost:8080/"
        }
      },
      "outputs": [
        {
          "output_type": "execute_result",
          "data": {
            "text/plain": [
              "dtype('int64')"
            ]
          },
          "metadata": {},
          "execution_count": 6
        }
      ],
      "source": [
        "# array를 이루고있는 요소들의 타입 확인(dtype)\n",
        "a1.dtype"
      ]
    },
    {
      "cell_type": "code",
      "execution_count": null,
      "metadata": {
        "nbpresent": {
          "id": "34879198-e061-4749-9bd7-8e0a7820dcd1"
        },
        "id": "GgZ30FdQrPrK",
        "outputId": "0c8da38d-d41c-43b5-dee3-fa33b091a961",
        "colab": {
          "base_uri": "https://localhost:8080/"
        }
      },
      "outputs": [
        {
          "output_type": "execute_result",
          "data": {
            "text/plain": [
              "dtype('float64')"
            ]
          },
          "metadata": {},
          "execution_count": 7
        }
      ],
      "source": [
        "a2.dtype"
      ]
    },
    {
      "cell_type": "markdown",
      "metadata": {
        "id": "pCuLNbRXrPrM"
      },
      "source": [
        "#### array( )에 리스트 데이터를 직접 넣어서 배열 객체를 생성"
      ]
    },
    {
      "cell_type": "code",
      "source": [
        "np.array([[1, 2, 3], [1, 2, 3], [1, 2, 3]])"
      ],
      "metadata": {
        "colab": {
          "base_uri": "https://localhost:8080/"
        },
        "id": "ZU3PGTLAyNHM",
        "outputId": "37199522-ca72-47f0-d7a2-228981e18a3a"
      },
      "execution_count": 12,
      "outputs": [
        {
          "output_type": "execute_result",
          "data": {
            "text/plain": [
              "array([[1, 2, 3],\n",
              "       [1, 2, 3],\n",
              "       [1, 2, 3]])"
            ]
          },
          "metadata": {},
          "execution_count": 12
        }
      ]
    },
    {
      "cell_type": "code",
      "execution_count": null,
      "metadata": {
        "nbpresent": {
          "id": "c8f76150-5cb1-48ee-97dc-a21962811c13"
        },
        "id": "rR3GvtvYrPrN",
        "outputId": "077717b5-b21b-41e4-d67e-ba2a6a320467"
      },
      "outputs": [
        {
          "data": {
            "text/plain": [
              "array([0.5 , 2.  , 0.01, 8.  ])"
            ]
          },
          "execution_count": 16,
          "metadata": {},
          "output_type": "execute_result"
        }
      ],
      "source": [
        "np.array([0.5, 2, 0.01, 8])"
      ]
    },
    {
      "cell_type": "code",
      "execution_count": null,
      "metadata": {
        "nbpresent": {
          "id": "27fe706c-9327-4844-9521-3e436c33a60c"
        },
        "id": "WQb_22X0rPrO",
        "outputId": "b446e44f-4c9b-42ab-fe12-b48bcdd6538d"
      },
      "outputs": [
        {
          "data": {
            "text/plain": [
              "array([[1, 2, 3],\n",
              "       [4, 5, 6],\n",
              "       [7, 8, 9]])"
            ]
          },
          "execution_count": 17,
          "metadata": {},
          "output_type": "execute_result"
        }
      ],
      "source": [
        "np.array([[1,2,3], [4,5,6], [7,8,9]])"
      ]
    },
    {
      "cell_type": "markdown",
      "metadata": {
        "nbpresent": {
          "id": "992c8f6c-4041-4ef1-930b-5ad3f5b4b65d"
        },
        "id": "i1v0dKVFrPrP"
      },
      "source": [
        "#### 범위를 지정해 배열 생성\n",
        "\n",
        "**arr_obj = np.arange(start, stop, step)** <br>\n",
        "→ **start부터 시작해서 stop 전까지 step만큼 계속 더해 배열 생성**"
      ]
    },
    {
      "cell_type": "code",
      "source": [
        "np.arange(1, 11, 2)"
      ],
      "metadata": {
        "colab": {
          "base_uri": "https://localhost:8080/"
        },
        "id": "X70MUwMWyZMv",
        "outputId": "dcff46d9-d13f-46b4-f1e5-2b292cafefb5"
      },
      "execution_count": 20,
      "outputs": [
        {
          "output_type": "execute_result",
          "data": {
            "text/plain": [
              "array([1, 3, 5, 7, 9])"
            ]
          },
          "metadata": {},
          "execution_count": 20
        }
      ]
    },
    {
      "cell_type": "code",
      "execution_count": null,
      "metadata": {
        "nbpresent": {
          "id": "5f2dd4a9-34e1-4b11-a609-5872b5388bae"
        },
        "id": "aoroChgCrPrR",
        "outputId": "dcfd99c8-c6bf-495c-ab3e-e98de9015230",
        "colab": {
          "base_uri": "https://localhost:8080/"
        }
      },
      "outputs": [
        {
          "output_type": "execute_result",
          "data": {
            "text/plain": [
              "array([1, 2, 3, 4, 5, 6, 7, 8, 9])"
            ]
          },
          "metadata": {},
          "execution_count": 13
        }
      ],
      "source": [
        "# range()와 같은 규칙\n",
        "np.arange(1, 10) # np.arange(1, 10, 1)"
      ]
    },
    {
      "cell_type": "code",
      "execution_count": null,
      "metadata": {
        "nbpresent": {
          "id": "66eb7421-5131-4042-8663-19a471dc2060"
        },
        "id": "hUGZUdaYrPrS",
        "outputId": "19132730-28d3-40d3-a0f0-dec1edb0b55c",
        "colab": {
          "base_uri": "https://localhost:8080/"
        }
      },
      "outputs": [
        {
          "output_type": "execute_result",
          "data": {
            "text/plain": [
              "array([0, 1, 2, 3, 4])"
            ]
          },
          "metadata": {},
          "execution_count": 14
        }
      ],
      "source": [
        "np.arange(5) # np.arange(0, 5, 1)"
      ]
    },
    {
      "cell_type": "code",
      "source": [
        "# Q. arange()를 사용하여 array([4, 6, 8, 10, 12, 14]) 배열을 만들어보기\n",
        "# 아래에 코드를 작성하세요\n",
        "np.arange(4, 15, 2)"
      ],
      "metadata": {
        "colab": {
          "base_uri": "https://localhost:8080/"
        },
        "id": "mDQV9bobztKS",
        "outputId": "99d9a902-2a83-415e-f4b3-59898daa806e"
      },
      "execution_count": 27,
      "outputs": [
        {
          "output_type": "execute_result",
          "data": {
            "text/plain": [
              "array([ 4,  6,  8, 10, 12, 14])"
            ]
          },
          "metadata": {},
          "execution_count": 27
        }
      ]
    },
    {
      "cell_type": "code",
      "execution_count": 49,
      "metadata": {
        "nbpresent": {
          "id": "c1f42511-fc6f-4e62-9cc5-1a72650b5845"
        },
        "id": "5xWsEc_IrPrT"
      },
      "outputs": [],
      "source": [
        "# Q. arange()를 사용하여 array([4, 6, 8, 10, 12, 14]) 배열을 만들어보기\n",
        "# 아래에 코드를 작성하세요\n",
        "\n",
        "arr = np.arange(4, 15, 2)"
      ]
    },
    {
      "cell_type": "code",
      "source": [
        "# 1차원 배열을 reshape()을 이용해 2차원 배열로 변경\n",
        "np.arange(1, 10).reshape(3, 3)\n",
        "\n",
        "np.arange(12).reshape(3, 4)\n",
        "\n",
        "np.arange(12).reshape(3, 4).shape"
      ],
      "metadata": {
        "colab": {
          "base_uri": "https://localhost:8080/"
        },
        "id": "1ynIo6DQ0IEq",
        "outputId": "a35256f9-2685-4197-f53c-e0c2bf2b484a"
      },
      "execution_count": 54,
      "outputs": [
        {
          "output_type": "execute_result",
          "data": {
            "text/plain": [
              "(3, 4)"
            ]
          },
          "metadata": {},
          "execution_count": 54
        }
      ]
    },
    {
      "cell_type": "code",
      "execution_count": null,
      "metadata": {
        "nbpresent": {
          "id": "63b42c5c-ac60-4432-9197-ed176bf2d2e0"
        },
        "scrolled": true,
        "id": "ZeZoFq1QrPrV",
        "outputId": "93492c31-9c21-41df-9f2e-099038e2f66a",
        "colab": {
          "base_uri": "https://localhost:8080/"
        }
      },
      "outputs": [
        {
          "output_type": "execute_result",
          "data": {
            "text/plain": [
              "array([[ 0,  1,  2],\n",
              "       [ 3,  4,  5],\n",
              "       [ 6,  7,  8],\n",
              "       [ 9, 10, 11]])"
            ]
          },
          "metadata": {},
          "execution_count": 16
        }
      ],
      "source": [
        "# 1차원 배열을 reshape()을 이용해 2차원 배열로 변경\n",
        "np.arange(12).reshape(4, 3) # 행, 열 갯수"
      ]
    },
    {
      "cell_type": "code",
      "execution_count": null,
      "metadata": {
        "id": "1Zyg8NkFrPrX",
        "outputId": "17ac277a-3c1a-45a2-b2f8-401d4d35cbba",
        "colab": {
          "base_uri": "https://localhost:8080/"
        }
      },
      "outputs": [
        {
          "output_type": "execute_result",
          "data": {
            "text/plain": [
              "(4, 3)"
            ]
          },
          "metadata": {},
          "execution_count": 17
        }
      ],
      "source": [
        "b1 = np.arange(12).reshape(4, 3)\n",
        "b1.shape"
      ]
    },
    {
      "cell_type": "code",
      "execution_count": null,
      "metadata": {
        "id": "p1MSe6eUrPrZ",
        "outputId": "ff3e0ae3-3458-450f-b63d-f01758c6d9bc",
        "colab": {
          "base_uri": "https://localhost:8080/"
        }
      },
      "outputs": [
        {
          "output_type": "execute_result",
          "data": {
            "text/plain": [
              "(5,)"
            ]
          },
          "metadata": {},
          "execution_count": 18
        }
      ],
      "source": [
        "# n개의 요소를 갖는 1차원 배열의 shape은 (n,)로 표시된다.\n",
        "b2 = np.arange(5)\n",
        "b2.shape"
      ]
    },
    {
      "cell_type": "markdown",
      "metadata": {
        "id": "temITsdurPra"
      },
      "source": [
        "#### 범위의 시작과 끝을 지정하고 데이터의 개수를 지정해 Numpy 배열 생성 linspace( )\n",
        "- 시작값과 끝값을 지정한 개수만큼 균등하게 나눈 배열 생성\n",
        "- linspace(시작값, 끝값, 갯수)"
      ]
    },
    {
      "cell_type": "code",
      "source": [
        "arr3 = np.linspace(1, 10, 30)\n",
        "# len(arr3)\n",
        "arr3"
      ],
      "metadata": {
        "colab": {
          "base_uri": "https://localhost:8080/"
        },
        "id": "Y1mQgsnd2KUt",
        "outputId": "61d410c2-0d50-4816-8ad9-ee4ecd4631ce"
      },
      "execution_count": 64,
      "outputs": [
        {
          "output_type": "execute_result",
          "data": {
            "text/plain": [
              "array([ 1.        ,  1.31034483,  1.62068966,  1.93103448,  2.24137931,\n",
              "        2.55172414,  2.86206897,  3.17241379,  3.48275862,  3.79310345,\n",
              "        4.10344828,  4.4137931 ,  4.72413793,  5.03448276,  5.34482759,\n",
              "        5.65517241,  5.96551724,  6.27586207,  6.5862069 ,  6.89655172,\n",
              "        7.20689655,  7.51724138,  7.82758621,  8.13793103,  8.44827586,\n",
              "        8.75862069,  9.06896552,  9.37931034,  9.68965517, 10.        ])"
            ]
          },
          "metadata": {},
          "execution_count": 64
        }
      ]
    },
    {
      "cell_type": "code",
      "execution_count": null,
      "metadata": {
        "id": "4tNHs0rKrPrc",
        "outputId": "343a462f-8065-4cc3-ce60-957ef30dc257",
        "colab": {
          "base_uri": "https://localhost:8080/"
        }
      },
      "outputs": [
        {
          "output_type": "execute_result",
          "data": {
            "text/plain": [
              "array([ 1.,  2.,  3.,  4.,  5.,  6.,  7.,  8.,  9., 10.])"
            ]
          },
          "metadata": {},
          "execution_count": 19
        }
      ],
      "source": [
        "np.linspace(1, 10, 10) # 시작, 마지막 값, 갯수"
      ]
    },
    {
      "cell_type": "code",
      "execution_count": 67,
      "metadata": {
        "id": "pKjelRscrPrc",
        "outputId": "a9303f23-be36-4d79-a71e-f4423db75836",
        "colab": {
          "base_uri": "https://localhost:8080/"
        }
      },
      "outputs": [
        {
          "output_type": "execute_result",
          "data": {
            "text/plain": [
              "3.141592653589793"
            ]
          },
          "metadata": {},
          "execution_count": 67
        }
      ],
      "source": [
        "np.linspace(0, np.pi, 20 )\n",
        "np.pi"
      ]
    },
    {
      "cell_type": "markdown",
      "metadata": {
        "id": "_oy7iLQmrPrd"
      },
      "source": [
        "#### 특별한 형태의 배열 생성\n",
        "**<결과를 보고 어떤 메소드인지 추측해보자!>**"
      ]
    },
    {
      "cell_type": "code",
      "source": [
        "# 0으로 채우기\n",
        "\n",
        "np.zeros(3)\n",
        "np.zeros(9).reshape(3, 3)"
      ],
      "metadata": {
        "colab": {
          "base_uri": "https://localhost:8080/"
        },
        "id": "T6nkDb5Q23U4",
        "outputId": "e7500cbe-67fb-4024-ae2e-08f391af2b0e"
      },
      "execution_count": 71,
      "outputs": [
        {
          "output_type": "execute_result",
          "data": {
            "text/plain": [
              "array([[0., 0., 0.],\n",
              "       [0., 0., 0.],\n",
              "       [0., 0., 0.]])"
            ]
          },
          "metadata": {},
          "execution_count": 71
        }
      ]
    },
    {
      "cell_type": "code",
      "source": [
        "# 1로 채우기\n",
        "np.ones(6).reshape(2, 3)"
      ],
      "metadata": {
        "colab": {
          "base_uri": "https://localhost:8080/"
        },
        "id": "Pt5a_0BL23Cj",
        "outputId": "02ea2667-c0d1-4014-cfc6-f4f374bf4348"
      },
      "execution_count": 73,
      "outputs": [
        {
          "output_type": "execute_result",
          "data": {
            "text/plain": [
              "array([[1., 1., 1.],\n",
              "       [1., 1., 1.]])"
            ]
          },
          "metadata": {},
          "execution_count": 73
        }
      ]
    },
    {
      "cell_type": "code",
      "source": [
        "# 단위행렬로 5, 5 배열 만들기\n",
        "np.eye(5)"
      ],
      "metadata": {
        "colab": {
          "base_uri": "https://localhost:8080/"
        },
        "id": "GqpDZpC522gY",
        "outputId": "5ea81613-fcf9-4ced-b82a-5178cefa0ece"
      },
      "execution_count": 76,
      "outputs": [
        {
          "output_type": "execute_result",
          "data": {
            "text/plain": [
              "array([[1., 0., 0., 0., 0.],\n",
              "       [0., 1., 0., 0., 0.],\n",
              "       [0., 0., 1., 0., 0.],\n",
              "       [0., 0., 0., 1., 0.],\n",
              "       [0., 0., 0., 0., 1.]])"
            ]
          },
          "metadata": {},
          "execution_count": 76
        }
      ]
    },
    {
      "cell_type": "code",
      "execution_count": null,
      "metadata": {
        "nbpresent": {
          "id": "ec1bca5f-3476-4abb-928f-6c071fac203a"
        },
        "id": "4iMdEDSQrPre",
        "outputId": "aac7a903-783e-4ef3-daaf-cc7700742f4c"
      },
      "outputs": [
        {
          "data": {
            "text/plain": [
              "array([0., 0., 0., 0., 0., 0., 0., 0., 0., 0.])"
            ]
          },
          "execution_count": 43,
          "metadata": {},
          "output_type": "execute_result"
        }
      ],
      "source": [
        "np.zeros(10) # 0으로 갯수만큼 채우기"
      ]
    },
    {
      "cell_type": "code",
      "execution_count": null,
      "metadata": {
        "nbpresent": {
          "id": "daee3ad5-0f22-44b2-b473-8980d1a58e53"
        },
        "id": "RZvyGl2_rPre",
        "outputId": "c881e765-6706-4a80-915d-13f0884d4f3c"
      },
      "outputs": [
        {
          "data": {
            "text/plain": [
              "array([[0., 0., 0., 0.],\n",
              "       [0., 0., 0., 0.],\n",
              "       [0., 0., 0., 0.]])"
            ]
          },
          "execution_count": 44,
          "metadata": {},
          "output_type": "execute_result"
        }
      ],
      "source": [
        "np.zeros((3,4)) # 0으로 3행 4열 채우기"
      ]
    },
    {
      "cell_type": "code",
      "execution_count": null,
      "metadata": {
        "nbpresent": {
          "id": "e906fa8c-b178-45b9-9591-31f3af9ac3ae"
        },
        "id": "fNZBYXRrrPrf",
        "outputId": "bd056eab-b006-4c30-e386-4f59a7c5146c"
      },
      "outputs": [
        {
          "data": {
            "text/plain": [
              "array([1., 1., 1., 1., 1.])"
            ]
          },
          "execution_count": 46,
          "metadata": {},
          "output_type": "execute_result"
        }
      ],
      "source": [
        "np.ones(5) # 1로 갯수만큼 채우기"
      ]
    },
    {
      "cell_type": "code",
      "execution_count": null,
      "metadata": {
        "nbpresent": {
          "id": "4ca86a90-74ed-42a2-a46d-a42d4a28ddb5"
        },
        "id": "GXXqUvNirPrg",
        "outputId": "f9d6ad7f-4dd9-41fd-8f30-df38c33a3ead",
        "colab": {
          "base_uri": "https://localhost:8080/"
        }
      },
      "outputs": [
        {
          "output_type": "execute_result",
          "data": {
            "text/plain": [
              "array([[1., 1., 1., 1., 1.],\n",
              "       [1., 1., 1., 1., 1.],\n",
              "       [1., 1., 1., 1., 1.]])"
            ]
          },
          "metadata": {},
          "execution_count": 23
        }
      ],
      "source": [
        "np.ones((3,5))"
      ]
    },
    {
      "cell_type": "code",
      "execution_count": null,
      "metadata": {
        "nbpresent": {
          "id": "963a3cc5-3883-435d-a090-afad780451ea"
        },
        "id": "Mz2wVNZGrPrh",
        "outputId": "102bf3d8-3d27-4da2-b232-5e7c8a00d8a7",
        "colab": {
          "base_uri": "https://localhost:8080/"
        }
      },
      "outputs": [
        {
          "output_type": "execute_result",
          "data": {
            "text/plain": [
              "array([[1., 0., 0., 0., 0.],\n",
              "       [0., 1., 0., 0., 0.],\n",
              "       [0., 0., 1., 0., 0.],\n",
              "       [0., 0., 0., 1., 0.],\n",
              "       [0., 0., 0., 0., 1.]])"
            ]
          },
          "metadata": {},
          "execution_count": 24
        }
      ],
      "source": [
        "np.eye(5) # 단위행렬 (5x5)\n",
        "# 대각선이 1"
      ]
    },
    {
      "cell_type": "markdown",
      "metadata": {
        "nbpresent": {
          "id": "8439f472-17a2-4baa-86bc-ff64e9b3d704"
        },
        "id": "I46bFd0DrPrh"
      },
      "source": [
        "### 1.3 배열의 데이터 타입 변환"
      ]
    },
    {
      "cell_type": "code",
      "source": [
        "# 아래 배열을 실수로 형변환하기\n",
        "str_a1 = np.array(['1.567', '0.123', '5.123', '9', '8'])\n",
        "num_a1 = str_a1.astype(float)\n",
        "str_a1.dtype, num_a1.dtype"
      ],
      "metadata": {
        "colab": {
          "base_uri": "https://localhost:8080/"
        },
        "id": "crfzbo403v8B",
        "outputId": "bc1fea59-98a5-4759-c96c-335984665836"
      },
      "execution_count": 84,
      "outputs": [
        {
          "output_type": "execute_result",
          "data": {
            "text/plain": [
              "(dtype('<U5'), dtype('float64'))"
            ]
          },
          "metadata": {},
          "execution_count": 84
        }
      ]
    },
    {
      "cell_type": "code",
      "source": [
        "num_list = np.array([1.12, 3.14, 5.86])\n",
        "num_list = num_list.astype(int)\n",
        "num_list, num_list.dtype"
      ],
      "metadata": {
        "colab": {
          "base_uri": "https://localhost:8080/"
        },
        "id": "PV_SH5qK4te0",
        "outputId": "5f00627e-1cb2-400b-8374-371b664cc8c0"
      },
      "execution_count": 88,
      "outputs": [
        {
          "output_type": "execute_result",
          "data": {
            "text/plain": [
              "(array([1, 3, 5]), dtype('int64'))"
            ]
          },
          "metadata": {},
          "execution_count": 88
        }
      ]
    },
    {
      "cell_type": "code",
      "execution_count": null,
      "metadata": {
        "nbpresent": {
          "id": "645ae3c6-8414-435e-a321-26c0ecfe5485"
        },
        "id": "EtMsQb71rPri",
        "outputId": "d9dc06e6-f5ef-453f-89d5-03b2ffb258f7"
      },
      "outputs": [
        {
          "data": {
            "text/plain": [
              "array(['1.5', '0.62', '2', '3.14', '3.141592'], dtype='<U8')"
            ]
          },
          "execution_count": 51,
          "metadata": {},
          "output_type": "execute_result"
        }
      ],
      "source": [
        "# dtype = '<U8'은 데이터의 형식이 유니코드이며 문자의 수는 최대 8개라는 것을 의미\n",
        "# U: 문자열\n",
        "# 8: 요소중 가장 긴 문자열의 갯수로 n자리 문자열을 담았다는 의미\n",
        "np.array(['1.5', '0.62', '2', '3.14', '3.141592'])"
      ]
    },
    {
      "cell_type": "code",
      "execution_count": null,
      "metadata": {
        "nbpresent": {
          "id": "be3ce681-c2f1-4b77-938b-d731ff638994"
        },
        "id": "T-b9nvQTrPri",
        "outputId": "b50c9fcb-32d2-46b9-c43d-e1bd5d4efedf"
      },
      "outputs": [
        {
          "data": {
            "text/plain": [
              "array([1.567, 0.123, 5.123, 9.   , 8.   ])"
            ]
          },
          "execution_count": 34,
          "metadata": {},
          "output_type": "execute_result"
        }
      ],
      "source": [
        "str_a1 = np.array(['1.567', '0.123', '5.123', '9', '8'])\n",
        "num_a1 = str_a1.astype(float) # Numpy 배열의 형 변환\n",
        "num_a1"
      ]
    },
    {
      "cell_type": "code",
      "execution_count": null,
      "metadata": {
        "id": "kMjOiRZbrPrj",
        "outputId": "4c6b890a-b723-4644-bf80-d68fff44d635"
      },
      "outputs": [
        {
          "data": {
            "text/plain": [
              "dtype('<U5')"
            ]
          },
          "execution_count": 38,
          "metadata": {},
          "output_type": "execute_result"
        }
      ],
      "source": [
        "str_a1.dtype"
      ]
    },
    {
      "cell_type": "code",
      "execution_count": null,
      "metadata": {
        "nbpresent": {
          "id": "a62c4cd9-9b6c-4a93-ab3c-2433ceac4255"
        },
        "id": "NgKloCITrPrk",
        "outputId": "4a69b891-1f15-4863-8cb5-8422f1a7eabd"
      },
      "outputs": [
        {
          "data": {
            "text/plain": [
              "dtype('float64')"
            ]
          },
          "execution_count": 39,
          "metadata": {},
          "output_type": "execute_result"
        }
      ],
      "source": [
        "num_a1.dtype"
      ]
    },
    {
      "cell_type": "code",
      "execution_count": null,
      "metadata": {
        "nbpresent": {
          "id": "7540392f-5b0c-4b3d-af05-d16b033e489f"
        },
        "id": "_fs4SAParPrm",
        "outputId": "f1c2cad3-58f8-413b-9ba3-856ebf4e8246"
      },
      "outputs": [
        {
          "data": {
            "text/plain": [
              "array([1, 3, 5, 7, 9])"
            ]
          },
          "execution_count": 44,
          "metadata": {},
          "output_type": "execute_result"
        }
      ],
      "source": [
        "str_a2 = np.array(['1', '3', '5', '7', '9'])\n",
        "num_a2 = str_a2.astype(int)\n",
        "num_a2"
      ]
    },
    {
      "cell_type": "code",
      "execution_count": null,
      "metadata": {
        "id": "U3eQiAzVrPrn",
        "outputId": "6d269895-a5f9-4702-d698-ca17d9d2e446"
      },
      "outputs": [
        {
          "data": {
            "text/plain": [
              "dtype('<U1')"
            ]
          },
          "execution_count": 45,
          "metadata": {},
          "output_type": "execute_result"
        }
      ],
      "source": [
        "str_a2.dtype"
      ]
    },
    {
      "cell_type": "code",
      "execution_count": null,
      "metadata": {
        "id": "mMJNVsDPrPro",
        "outputId": "06931cb4-9d64-4dbc-ee46-710b77e5a2ec"
      },
      "outputs": [
        {
          "data": {
            "text/plain": [
              "dtype('int64')"
            ]
          },
          "execution_count": 46,
          "metadata": {},
          "output_type": "execute_result"
        }
      ],
      "source": [
        "num_a2.dtype"
      ]
    },
    {
      "cell_type": "code",
      "execution_count": 87,
      "metadata": {
        "collapsed": true,
        "nbpresent": {
          "id": "e7b1eeb3-a8bd-4612-a8b9-41ee0d6b816f"
        },
        "id": "0B9MduUwrPrp",
        "outputId": "0c8d1b97-da8c-44ae-c678-871827bc9821",
        "colab": {
          "base_uri": "https://localhost:8080/"
        }
      },
      "outputs": [
        {
          "output_type": "execute_result",
          "data": {
            "text/plain": [
              "array([10, 21,  0,  4,  5])"
            ]
          },
          "metadata": {},
          "execution_count": 87
        }
      ],
      "source": [
        "# Q. 어떤 결과가 나올지 예측해보기\n",
        "num_f1 = np.array([10, 21, 0.549, 4.75, 5.98])\n",
        "num_i1 = num_f1.astype(int) # 소수점은 버림\n",
        "num_i1"
      ]
    },
    {
      "cell_type": "code",
      "execution_count": null,
      "metadata": {
        "scrolled": true,
        "id": "yu46351CrPrq",
        "outputId": "4429db72-1358-402b-f05b-5660c963f94d"
      },
      "outputs": [
        {
          "data": {
            "text/plain": [
              "dtype('float64')"
            ]
          },
          "execution_count": 50,
          "metadata": {},
          "output_type": "execute_result"
        }
      ],
      "source": [
        "num_f1.dtype"
      ]
    },
    {
      "cell_type": "code",
      "execution_count": null,
      "metadata": {
        "id": "H7kKi8tyrPrq",
        "outputId": "bc0deb26-a68a-4e2f-b3c3-23e5733e2884"
      },
      "outputs": [
        {
          "data": {
            "text/plain": [
              "dtype('int64')"
            ]
          },
          "execution_count": 51,
          "metadata": {},
          "output_type": "execute_result"
        }
      ],
      "source": [
        "num_i1.dtype"
      ]
    },
    {
      "cell_type": "markdown",
      "metadata": {
        "id": "Yuq6a8ggrPrr"
      },
      "source": [
        "### 1.4 난수 배열의 생성"
      ]
    },
    {
      "cell_type": "code",
      "source": [
        "# 랜덤 숫자 생성\n",
        "np.random.rand(2, 3)"
      ],
      "metadata": {
        "colab": {
          "base_uri": "https://localhost:8080/"
        },
        "id": "dDHr6cK_6tx8",
        "outputId": "334be5a9-5c06-4f96-fb8a-883780d10931"
      },
      "execution_count": 12,
      "outputs": [
        {
          "output_type": "execute_result",
          "data": {
            "text/plain": [
              "array([[0.0403212 , 0.77809339, 0.64887758],\n",
              "       [0.87099242, 0.88595392, 0.81618521]])"
            ]
          },
          "metadata": {},
          "execution_count": 12
        }
      ]
    },
    {
      "cell_type": "code",
      "execution_count": null,
      "metadata": {
        "id": "zWCMEC7prPrs",
        "outputId": "63976e1a-869b-41c4-b531-fa14efaa395a"
      },
      "outputs": [
        {
          "data": {
            "text/plain": [
              "array([[0.92384499, 0.82369026, 0.92870186],\n",
              "       [0.90420224, 0.58788516, 0.12008253]])"
            ]
          },
          "execution_count": 54,
          "metadata": {},
          "output_type": "execute_result"
        }
      ],
      "source": [
        "# rand(): [0. 1) 사이의 실수 난수를 갖는 넘파이 배열 생성\n",
        "\n",
        "np.random.rand(2,3) # 2 x 3의 2차원 배열의 실수 난수 생성"
      ]
    },
    {
      "cell_type": "code",
      "execution_count": 17,
      "metadata": {
        "id": "8G9ysCefrPrs",
        "outputId": "541328b9-098b-491a-fcdb-4e2082eb1dc2",
        "colab": {
          "base_uri": "https://localhost:8080/"
        }
      },
      "outputs": [
        {
          "output_type": "execute_result",
          "data": {
            "text/plain": [
              "array([0.75558804])"
            ]
          },
          "metadata": {},
          "execution_count": 17
        }
      ],
      "source": [
        "a = np.random.rand(1) # 사이즈를 입력하지 않으면 1로 간주\n",
        "a"
      ]
    },
    {
      "cell_type": "code",
      "execution_count": null,
      "metadata": {
        "id": "1ekC4YHyrPrt",
        "outputId": "0e0d7ebf-1f09-4923-d34c-63942ebe10f2"
      },
      "outputs": [
        {
          "data": {
            "text/plain": [
              "array([[[0.71304727, 0.12760328, 0.88253148, 0.15323534],\n",
              "        [0.27935776, 0.2452722 , 0.6645442 , 0.65875127],\n",
              "        [0.5577089 , 0.64975905, 0.07422378, 0.68700157]],\n",
              "\n",
              "       [[0.69905723, 0.2651267 , 0.06968332, 0.57024931],\n",
              "        [0.83741069, 0.0936674 , 0.83379752, 0.93905042],\n",
              "        [0.42266996, 0.52726699, 0.7937363 , 0.55499841]]])"
            ]
          },
          "execution_count": 56,
          "metadata": {},
          "output_type": "execute_result"
        }
      ],
      "source": [
        "np.random.rand(2,3,4) # 3차원"
      ]
    },
    {
      "cell_type": "code",
      "source": [
        "np.random.randint(1, 11, size=(1, 10))"
      ],
      "metadata": {
        "colab": {
          "base_uri": "https://localhost:8080/"
        },
        "id": "7E2ZowQM8rW4",
        "outputId": "9edbc435-e36d-4f58-8ec5-af6b184bcd8e"
      },
      "execution_count": 21,
      "outputs": [
        {
          "output_type": "execute_result",
          "data": {
            "text/plain": [
              "array([[ 3, 10,  9,  9,  1, 10,  3,  8,  1,  3]])"
            ]
          },
          "metadata": {},
          "execution_count": 21
        }
      ]
    },
    {
      "cell_type": "code",
      "source": [
        "np.random.randint(10, 20, size=(3, 3))"
      ],
      "metadata": {
        "colab": {
          "base_uri": "https://localhost:8080/"
        },
        "id": "knsDFXtN8VPr",
        "outputId": "5fd9561b-ef48-40a0-f53f-a004fd74975d"
      },
      "execution_count": 19,
      "outputs": [
        {
          "output_type": "execute_result",
          "data": {
            "text/plain": [
              "array([[15, 16, 14],\n",
              "       [16, 15, 12],\n",
              "       [16, 10, 10]])"
            ]
          },
          "metadata": {},
          "execution_count": 19
        }
      ]
    },
    {
      "cell_type": "code",
      "execution_count": null,
      "metadata": {
        "id": "F-bAmrLcrPrt",
        "outputId": "8025294f-b1e4-442f-99fb-b91669b7a371",
        "colab": {
          "base_uri": "https://localhost:8080/"
        }
      },
      "outputs": [
        {
          "output_type": "execute_result",
          "data": {
            "text/plain": [
              "array([[9, 9, 2, 9],\n",
              "       [4, 2, 5, 0],\n",
              "       [8, 5, 8, 3]])"
            ]
          },
          "metadata": {},
          "execution_count": 29
        }
      ],
      "source": [
        "# randint(): 지정한 범위에 해당하는 정수로 난수 배열을 생성\n",
        "# 시작값이 0이면 생략가능\n",
        "np.random.randint(10, size=(3, 4)) # 0부터 9까지"
      ]
    },
    {
      "cell_type": "code",
      "execution_count": null,
      "metadata": {
        "id": "bHb57mYorPru",
        "outputId": "f72ae0cb-10f5-4a8a-f665-706028ea5590",
        "colab": {
          "base_uri": "https://localhost:8080/"
        }
      },
      "outputs": [
        {
          "output_type": "execute_result",
          "data": {
            "text/plain": [
              "array([[ 7,  9,  1, 15],\n",
              "       [10, 12, 22, 17],\n",
              "       [10, 20, 26, 21]])"
            ]
          },
          "metadata": {},
          "execution_count": 31
        }
      ],
      "source": [
        "np.random.randint(1, 30, size=(3, 4))"
      ]
    },
    {
      "cell_type": "markdown",
      "metadata": {
        "nbpresent": {
          "id": "ee59bc8f-cf0f-4aaf-a8ae-b5c2763cc79b"
        },
        "id": "fRTiPuy7rPrv"
      },
      "source": [
        "### 1.5 배열의 연산"
      ]
    },
    {
      "cell_type": "markdown",
      "metadata": {
        "id": "bbtVVzXJrPrv"
      },
      "source": [
        "#### 기본 연산"
      ]
    },
    {
      "cell_type": "code",
      "execution_count": null,
      "metadata": {
        "id": "m2um1YYsrPrw",
        "outputId": "9da905ae-1580-4730-ecd8-ec37e375524d",
        "colab": {
          "base_uri": "https://localhost:8080/"
        }
      },
      "outputs": [
        {
          "output_type": "execute_result",
          "data": {
            "text/plain": [
              "[10, 20, 30, 40, 1, 2, 3, 4]"
            ]
          },
          "metadata": {},
          "execution_count": 32
        }
      ],
      "source": [
        "# 넘파이 배열의 연산을 살펴보기 전에... 리스트끼리도 연산이 되나요?\n",
        "lst1 = [10, 20, 30, 40]\n",
        "lst2 = [1, 2, 3, 4]\n",
        "lst1 + lst2"
      ]
    },
    {
      "cell_type": "code",
      "source": [
        "arr1 = np.array([10, 20, 30, 40])\n",
        "arr2 = np.array([1, 2, 3, 4])\n",
        "\n",
        "arr1 + arr2\n",
        "arr1 - arr2\n",
        "arr2 / arr1\n",
        "arr1 * arr2\n",
        "arr2 ** 2\n",
        "(arr1 / arr2 ** 2).dtype\n",
        "\n",
        "arr1 > 20 # boolean배열 리턴\n",
        "arr1[arr1 > 20] #  조건에 맞는 요소들 뽑아서 리턴\n"
      ],
      "metadata": {
        "colab": {
          "base_uri": "https://localhost:8080/"
        },
        "id": "0Ou4-y1F-fZM",
        "outputId": "3445c6c1-6c3a-45fd-ab76-47cb0da18585"
      },
      "execution_count": 45,
      "outputs": [
        {
          "output_type": "execute_result",
          "data": {
            "text/plain": [
              "array([30, 40])"
            ]
          },
          "metadata": {},
          "execution_count": 45
        }
      ]
    },
    {
      "cell_type": "code",
      "execution_count": null,
      "metadata": {
        "nbpresent": {
          "id": "31a5e2f1-017c-4d6d-aae3-1fb54ac75e9c"
        },
        "id": "lxFwPUvZrPrw"
      },
      "outputs": [],
      "source": [
        "arr1 = np.array([10, 20, 30, 40])\n",
        "arr2 = np.array([1, 2, 3, 4])"
      ]
    },
    {
      "cell_type": "markdown",
      "metadata": {
        "id": "t14UQXWQrPrx"
      },
      "source": [
        "**아래 연산 식에 대해 먼저 결과값을 예측해보고 직접 실행해보기**"
      ]
    },
    {
      "cell_type": "code",
      "execution_count": null,
      "metadata": {
        "nbpresent": {
          "id": "4f32ef1d-bbac-41a0-928b-75941eb6508c"
        },
        "id": "MYrfSoU4rPrx",
        "outputId": "04b78c2e-40ff-490f-d25c-447b3f8aa4ae",
        "colab": {
          "base_uri": "https://localhost:8080/"
        }
      },
      "outputs": [
        {
          "output_type": "execute_result",
          "data": {
            "text/plain": [
              "array([11, 22, 33, 44])"
            ]
          },
          "metadata": {},
          "execution_count": 34
        }
      ],
      "source": [
        "arr1 + arr2"
      ]
    },
    {
      "cell_type": "code",
      "execution_count": null,
      "metadata": {
        "id": "TAbdjx39rPry",
        "outputId": "9dd15a10-757f-4ccb-f9c3-66b7cb0779ba",
        "colab": {
          "base_uri": "https://localhost:8080/"
        }
      },
      "outputs": [
        {
          "output_type": "execute_result",
          "data": {
            "text/plain": [
              "array([ 9, 18, 27, 36])"
            ]
          },
          "metadata": {},
          "execution_count": 35
        }
      ],
      "source": [
        "arr1 - arr2"
      ]
    },
    {
      "cell_type": "code",
      "execution_count": null,
      "metadata": {
        "nbpresent": {
          "id": "bf735d32-362d-455e-b9df-4881cfaaa8ff"
        },
        "id": "-M0_DXV2rPry",
        "outputId": "070514f0-c4ed-4356-c40c-dcd20b33867a",
        "colab": {
          "base_uri": "https://localhost:8080/"
        }
      },
      "outputs": [
        {
          "output_type": "execute_result",
          "data": {
            "text/plain": [
              "array([2, 4, 6, 8])"
            ]
          },
          "metadata": {},
          "execution_count": 36
        }
      ],
      "source": [
        "arr2 * 2"
      ]
    },
    {
      "cell_type": "code",
      "execution_count": null,
      "metadata": {
        "nbpresent": {
          "id": "248b2673-a05f-447b-85ea-d537b8880f80"
        },
        "id": "Ysqeg1KLrPrz",
        "outputId": "187b8295-9b03-49e3-b3ae-90570fa95021",
        "colab": {
          "base_uri": "https://localhost:8080/"
        }
      },
      "outputs": [
        {
          "output_type": "execute_result",
          "data": {
            "text/plain": [
              "array([ 1,  4,  9, 16])"
            ]
          },
          "metadata": {},
          "execution_count": 37
        }
      ],
      "source": [
        "arr2 ** 2"
      ]
    },
    {
      "cell_type": "code",
      "execution_count": null,
      "metadata": {
        "nbpresent": {
          "id": "90778e0d-2726-4c96-bae9-af808aa17696"
        },
        "id": "ADamiCvkrPr0",
        "outputId": "38cacdf5-9c0e-4167-b87b-690a70c6e9e0",
        "colab": {
          "base_uri": "https://localhost:8080/"
        }
      },
      "outputs": [
        {
          "output_type": "execute_result",
          "data": {
            "text/plain": [
              "array([ 10,  40,  90, 160])"
            ]
          },
          "metadata": {},
          "execution_count": 38
        }
      ],
      "source": [
        "arr1 * arr2"
      ]
    },
    {
      "cell_type": "code",
      "execution_count": null,
      "metadata": {
        "nbpresent": {
          "id": "497bfe6b-1180-43ad-8d15-911730388b95"
        },
        "id": "m1-Mr1ZvrPr1",
        "outputId": "a5b59a4d-b2bf-4f06-f6f1-c64cc19841d8",
        "colab": {
          "base_uri": "https://localhost:8080/"
        }
      },
      "outputs": [
        {
          "output_type": "execute_result",
          "data": {
            "text/plain": [
              "array([10., 10., 10., 10.])"
            ]
          },
          "metadata": {},
          "execution_count": 39
        }
      ],
      "source": [
        "arr1 / arr2"
      ]
    },
    {
      "cell_type": "code",
      "execution_count": null,
      "metadata": {
        "collapsed": true,
        "nbpresent": {
          "id": "a91ef282-77b8-44fa-8f41-61b2733727ba"
        },
        "id": "ynbhIXoKrPr2",
        "outputId": "3b9f02dc-c227-4065-cc24-69eced554ddc",
        "colab": {
          "base_uri": "https://localhost:8080/"
        }
      },
      "outputs": [
        {
          "output_type": "execute_result",
          "data": {
            "text/plain": [
              "array([10.        ,  5.        ,  3.33333333,  2.5       ])"
            ]
          },
          "metadata": {},
          "execution_count": 40
        }
      ],
      "source": [
        "arr1 / (arr2 ** 2)"
      ]
    },
    {
      "cell_type": "code",
      "execution_count": null,
      "metadata": {
        "nbpresent": {
          "id": "b412697d-8109-4e03-8194-757e3f000fa1"
        },
        "id": "1doqIU_drPr4",
        "outputId": "909f1645-8a7d-49c4-d8e3-12fbd65e8ee5",
        "colab": {
          "base_uri": "https://localhost:8080/"
        }
      },
      "outputs": [
        {
          "output_type": "execute_result",
          "data": {
            "text/plain": [
              "array([False, False,  True,  True])"
            ]
          },
          "metadata": {},
          "execution_count": 41
        }
      ],
      "source": [
        "arr1 > 20 # 요소별로 비교하여 배열로 리턴"
      ]
    },
    {
      "cell_type": "code",
      "source": [
        "arr1[arr1 > 20] # true인 요소만 리턴"
      ],
      "metadata": {
        "colab": {
          "base_uri": "https://localhost:8080/"
        },
        "id": "Wi8lIWQd0jxk",
        "outputId": "fcf75d7f-01cb-43bd-8813-f6acf2729304"
      },
      "execution_count": null,
      "outputs": [
        {
          "output_type": "execute_result",
          "data": {
            "text/plain": [
              "array([30, 40])"
            ]
          },
          "metadata": {},
          "execution_count": 42
        }
      ]
    },
    {
      "cell_type": "code",
      "source": [
        "# 벡터 행렬: 각 요소별로 곱한다음 더한값으로 무조건 갯수는 1개만 나옴\n",
        "# 벡터: 숫자 여러개가 한줄로 나열된것 ([10, 20, 30, 40]) [1차원]\n",
        "# 스칼라: 숫자 한개 [0차원]\n",
        "# 매트릭스: 여러개의 벡터 [2차원 텐서]\n",
        "# 벡터, 스칼라, 매트릭스를 모두 다 '텐서'라고 함\n",
        "\n",
        "# 이미지는 4차원 텐서 - 면이기 때문에 2차원, rgb로 컬로 표현해서 +1차원, 여러개의 이미지라 배열로 관리하니 +1차원\n",
        "arr1 @ arr2 # [10, 20, 30, 40] @ [1, 2, 3, 4]"
      ],
      "metadata": {
        "colab": {
          "base_uri": "https://localhost:8080/"
        },
        "id": "oVsNlEi10uct",
        "outputId": "8a773d4c-fecd-4eba-f9f3-90800768b12b"
      },
      "execution_count": null,
      "outputs": [
        {
          "output_type": "execute_result",
          "data": {
            "text/plain": [
              "300"
            ]
          },
          "metadata": {},
          "execution_count": 43
        }
      ]
    },
    {
      "cell_type": "markdown",
      "metadata": {
        "nbpresent": {
          "id": "ed5d25ea-f078-4238-9911-6f56810dc8b6"
        },
        "id": "sWhINiE2rPr5"
      },
      "source": [
        "### 1.6 통계를 위한 연산"
      ]
    },
    {
      "cell_type": "code",
      "source": [
        "arr3 = np.arange(1, 6)\n",
        "arr3\n",
        "\n",
        "# 배열의 합과 평균\n",
        "arr3.sum(), arr3.mean()\n",
        "\n",
        "# 배열의 표준편차와 분산\n",
        "arr3.std(), arr3.var()\n",
        "\n",
        "# 배열의 최솟값, 최댓값\n",
        "arr3.min(), arr3.max()\n",
        "\n",
        "# 배열의 누적 합 구하기\n",
        "arr3.cumsum()\n",
        "\n",
        "# 배열의 누적 곱 구하기\n",
        "arr3.cumprod()"
      ],
      "metadata": {
        "colab": {
          "base_uri": "https://localhost:8080/"
        },
        "id": "k36rq20cEH8A",
        "outputId": "4f3e3a94-10ac-4eb2-ab26-162dd942204f"
      },
      "execution_count": 13,
      "outputs": [
        {
          "output_type": "execute_result",
          "data": {
            "text/plain": [
              "(1.4142135623730951, 2.0)"
            ]
          },
          "metadata": {},
          "execution_count": 13
        }
      ]
    },
    {
      "cell_type": "code",
      "execution_count": null,
      "metadata": {
        "nbpresent": {
          "id": "10bbf32c-3190-4853-b5b7-47d3048a2732"
        },
        "id": "ttbFH41orPr6",
        "outputId": "434b7a15-12f2-45a5-9d0c-a13d10e3c522"
      },
      "outputs": [
        {
          "data": {
            "text/plain": [
              "array([0, 1, 2, 3, 4])"
            ]
          },
          "execution_count": 82,
          "metadata": {},
          "output_type": "execute_result"
        }
      ],
      "source": [
        "arr3 = np.arange(5)\n",
        "arr3"
      ]
    },
    {
      "cell_type": "code",
      "execution_count": null,
      "metadata": {
        "nbpresent": {
          "id": "e431758a-85a8-47d9-9bc0-e4d601d4db09"
        },
        "id": "KXjGk_fkrPr7",
        "outputId": "1f7443c2-a1b8-4c7f-afe8-1ba35249fa28"
      },
      "outputs": [
        {
          "data": {
            "text/plain": [
              "[10, 2.0]"
            ]
          },
          "execution_count": 83,
          "metadata": {},
          "output_type": "execute_result"
        }
      ],
      "source": [
        "# 배열의 합과 평균\n",
        "[arr3.sum(), arr3.mean()]"
      ]
    },
    {
      "cell_type": "code",
      "execution_count": null,
      "metadata": {
        "nbpresent": {
          "id": "fb6fc3f3-1a8a-403c-84d5-1ea68bc354c1"
        },
        "id": "aBUTELgbrPr8",
        "outputId": "78c07051-0487-456e-9631-a1785423a3d6"
      },
      "outputs": [
        {
          "data": {
            "text/plain": [
              "[1.4142135623730951, 2.0]"
            ]
          },
          "execution_count": 84,
          "metadata": {},
          "output_type": "execute_result"
        }
      ],
      "source": [
        "# 배열의 표준편차와 분산\n",
        "[arr3.std(), arr3.var()]"
      ]
    },
    {
      "cell_type": "code",
      "execution_count": null,
      "metadata": {
        "nbpresent": {
          "id": "f102e256-50cc-43d9-94fc-7cb973bbbf9e"
        },
        "id": "YpnQfXMorPr9",
        "outputId": "65e17a9c-fb12-4ebd-a7d7-027f04a21755"
      },
      "outputs": [
        {
          "data": {
            "text/plain": [
              "[0, 4]"
            ]
          },
          "execution_count": 82,
          "metadata": {},
          "output_type": "execute_result"
        }
      ],
      "source": [
        "# 배열의 최솟값, 최댓값\n",
        "[arr3.min(), arr3.max()]"
      ]
    },
    {
      "cell_type": "code",
      "execution_count": null,
      "metadata": {
        "id": "sHOXcFi-rPr9",
        "outputId": "691dce26-c98f-4290-951b-c682ea3b74c3",
        "colab": {
          "base_uri": "https://localhost:8080/"
        }
      },
      "outputs": [
        {
          "output_type": "execute_result",
          "data": {
            "text/plain": [
              "array([1, 2, 3, 4])"
            ]
          },
          "metadata": {},
          "execution_count": 45
        }
      ],
      "source": [
        "arr4 = np.arange(1,5)\n",
        "arr4"
      ]
    },
    {
      "cell_type": "code",
      "execution_count": null,
      "metadata": {
        "nbpresent": {
          "id": "bafc5580-e051-4737-8631-2a8d3bf9c9cb"
        },
        "id": "40kLCTK6rPr-",
        "outputId": "9e3936ea-7d48-40a3-d17f-d7d054a2b92a",
        "colab": {
          "base_uri": "https://localhost:8080/"
        }
      },
      "outputs": [
        {
          "output_type": "execute_result",
          "data": {
            "text/plain": [
              "array([ 1,  3,  6, 10])"
            ]
          },
          "metadata": {},
          "execution_count": 46
        }
      ],
      "source": [
        "# 배열의 누적 합 구하기\n",
        "arr4.cumsum()"
      ]
    },
    {
      "cell_type": "code",
      "execution_count": null,
      "metadata": {
        "nbpresent": {
          "id": "a5b08f83-1ffd-4a88-941b-a8471101b857"
        },
        "id": "_SI2GARArPr_",
        "outputId": "5796b7bb-70e1-4554-beda-f4b3b44244d9",
        "colab": {
          "base_uri": "https://localhost:8080/"
        }
      },
      "outputs": [
        {
          "output_type": "execute_result",
          "data": {
            "text/plain": [
              "array([ 1,  2,  6, 24])"
            ]
          },
          "metadata": {},
          "execution_count": 47
        }
      ],
      "source": [
        "# 배열의 누적 곱 구하기\n",
        "arr4.cumprod()"
      ]
    },
    {
      "cell_type": "markdown",
      "source": [
        "arr1 = np.arange(4).reshape(2, 2)\n",
        "arr2 = np.arange(5, 11).reshape(2, 3)\n",
        "\n",
        "arr1, arr2"
      ],
      "metadata": {
        "id": "iU5MZ6sxIDSO"
      }
    },
    {
      "cell_type": "markdown",
      "metadata": {
        "nbpresent": {
          "id": "68113591-507a-4c02-9133-3cb8142de227"
        },
        "id": "qkrfT0w1rPsA"
      },
      "source": [
        "### 1.7 행렬 연산"
      ]
    },
    {
      "cell_type": "code",
      "source": [
        "arr1 = np.arange(4).reshape(2, 2)\n",
        "arr2 = np.arange(4, 10).reshape(2, 3)\n",
        "\n",
        "arr1, arr2"
      ],
      "metadata": {
        "colab": {
          "base_uri": "https://localhost:8080/"
        },
        "id": "uppJLP2rI11d",
        "outputId": "fbe4fa9f-485d-4d25-9319-0c1b2cf2940e"
      },
      "execution_count": 21,
      "outputs": [
        {
          "output_type": "execute_result",
          "data": {
            "text/plain": [
              "(array([[0, 1],\n",
              "        [2, 3]]),\n",
              " array([[4, 5, 6],\n",
              "        [7, 8, 9]]))"
            ]
          },
          "metadata": {},
          "execution_count": 21
        }
      ]
    },
    {
      "cell_type": "code",
      "source": [
        "# 내적곱\n",
        "np.dot(arr1, arr2)\n",
        "\n",
        "arr1 @ arr2\n",
        "\n",
        "arr1.dot(arr2)\n",
        "\n",
        "# 행과 열 교환\n",
        "np.transpose(arr1), arr2.T"
      ],
      "metadata": {
        "colab": {
          "base_uri": "https://localhost:8080/"
        },
        "id": "VtwypAPFJPMv",
        "outputId": "4affb1e1-6d4c-45a9-d5ad-75756da03cb7"
      },
      "execution_count": 27,
      "outputs": [
        {
          "output_type": "execute_result",
          "data": {
            "text/plain": [
              "(array([[0, 2],\n",
              "        [1, 3]]),\n",
              " array([[4, 7],\n",
              "        [5, 8],\n",
              "        [6, 9]]))"
            ]
          },
          "metadata": {},
          "execution_count": 27
        }
      ]
    },
    {
      "cell_type": "code",
      "source": [
        "A = np.array([0, 1, 2, 3]).reshape(2,2)\n",
        "A"
      ],
      "metadata": {
        "id": "POcbdssgI0qN"
      },
      "execution_count": null,
      "outputs": []
    },
    {
      "cell_type": "code",
      "execution_count": null,
      "metadata": {
        "id": "y3vk6YqOrPsB",
        "outputId": "e7ff511c-43bd-4408-d6b4-1770300e7b56",
        "colab": {
          "base_uri": "https://localhost:8080/"
        }
      },
      "outputs": [
        {
          "output_type": "execute_result",
          "data": {
            "text/plain": [
              "array([[3, 2],\n",
              "       [0, 1]])"
            ]
          },
          "metadata": {},
          "execution_count": 49
        }
      ],
      "source": [
        "B = np.array([3, 2, 0, 1]).reshape(2,2)\n",
        "B"
      ]
    },
    {
      "cell_type": "code",
      "execution_count": null,
      "metadata": {
        "id": "Mb6rzU8frPsC",
        "outputId": "a1eee913-12b2-4665-a43c-1e6a24d3d071"
      },
      "outputs": [
        {
          "data": {
            "text/plain": [
              "array([[0, 1],\n",
              "       [6, 7]])"
            ]
          },
          "execution_count": 95,
          "metadata": {},
          "output_type": "execute_result"
        }
      ],
      "source": [
        "# 행렬 간의 내적 구하는 방법1\n",
        "# 내적곱이 뭐야..\n",
        "# 행과 열을 벡터곱\n",
        "A.dot(B)"
      ]
    },
    {
      "cell_type": "code",
      "execution_count": null,
      "metadata": {
        "id": "iRbQksU6rPsD",
        "outputId": "f3dd9113-54f8-4e59-8ef1-c702636dfb23"
      },
      "outputs": [
        {
          "data": {
            "text/plain": [
              "array([[0, 1],\n",
              "       [6, 7]])"
            ]
          },
          "execution_count": 94,
          "metadata": {},
          "output_type": "execute_result"
        }
      ],
      "source": [
        "# 행렬 간의 내적 구하는 방법2\n",
        "np.dot(A,B)"
      ]
    },
    {
      "cell_type": "code",
      "execution_count": null,
      "metadata": {
        "id": "Sld4t0VFrPsE",
        "outputId": "cd8fdd6e-c56a-430e-fded-fcd3462ce0bf",
        "colab": {
          "base_uri": "https://localhost:8080/",
          "height": 183
        }
      },
      "outputs": [
        {
          "output_type": "error",
          "ename": "ValueError",
          "evalue": "shapes (2,2) and (3,2) not aligned: 2 (dim 1) != 3 (dim 0)",
          "traceback": [
            "\u001b[0;31m---------------------------------------------------------------------------\u001b[0m",
            "\u001b[0;31mValueError\u001b[0m                                Traceback (most recent call last)",
            "\u001b[0;32m<ipython-input-51-6fa40a9ab52d>\u001b[0m in \u001b[0;36m<cell line: 3>\u001b[0;34m()\u001b[0m\n\u001b[1;32m      1\u001b[0m \u001b[0mC\u001b[0m \u001b[0;34m=\u001b[0m \u001b[0mnp\u001b[0m\u001b[0;34m.\u001b[0m\u001b[0marray\u001b[0m\u001b[0;34m(\u001b[0m\u001b[0;34m[\u001b[0m\u001b[0;36m3\u001b[0m\u001b[0;34m,\u001b[0m \u001b[0;36m6\u001b[0m\u001b[0;34m,\u001b[0m \u001b[0;36m9\u001b[0m\u001b[0;34m,\u001b[0m \u001b[0;36m1\u001b[0m\u001b[0;34m,\u001b[0m \u001b[0;36m2\u001b[0m\u001b[0;34m,\u001b[0m \u001b[0;36m3\u001b[0m\u001b[0;34m]\u001b[0m\u001b[0;34m)\u001b[0m\u001b[0;34m.\u001b[0m\u001b[0mreshape\u001b[0m\u001b[0;34m(\u001b[0m\u001b[0;36m3\u001b[0m\u001b[0;34m,\u001b[0m\u001b[0;36m2\u001b[0m\u001b[0;34m)\u001b[0m\u001b[0;34m\u001b[0m\u001b[0;34m\u001b[0m\u001b[0m\n\u001b[1;32m      2\u001b[0m \u001b[0;31m# 열과 행의 갯수가 맞지않아서 에러\u001b[0m\u001b[0;34m\u001b[0m\u001b[0;34m\u001b[0m\u001b[0m\n\u001b[0;32m----> 3\u001b[0;31m \u001b[0mnp\u001b[0m\u001b[0;34m.\u001b[0m\u001b[0mdot\u001b[0m\u001b[0;34m(\u001b[0m\u001b[0mB\u001b[0m\u001b[0;34m,\u001b[0m\u001b[0mC\u001b[0m\u001b[0;34m)\u001b[0m\u001b[0;34m\u001b[0m\u001b[0;34m\u001b[0m\u001b[0m\n\u001b[0m",
            "\u001b[0;31mValueError\u001b[0m: shapes (2,2) and (3,2) not aligned: 2 (dim 1) != 3 (dim 0)"
          ]
        }
      ],
      "source": [
        "C = np.array([3, 6, 9, 1, 2, 3]).reshape(3,2)\n",
        "# 열과 행의 갯수가 맞지않아서 에러\n",
        "np.dot(B,C)"
      ]
    },
    {
      "cell_type": "code",
      "source": [
        "np.dot(C,B)"
      ],
      "metadata": {
        "colab": {
          "base_uri": "https://localhost:8080/"
        },
        "id": "nlYBZp4P7WFJ",
        "outputId": "aa8e46b3-8a2e-4bd3-b851-d8d19e9c946c"
      },
      "execution_count": null,
      "outputs": [
        {
          "output_type": "execute_result",
          "data": {
            "text/plain": [
              "array([[ 9, 12],\n",
              "       [27, 19],\n",
              "       [ 6,  7]])"
            ]
          },
          "metadata": {},
          "execution_count": 52
        }
      ]
    },
    {
      "cell_type": "code",
      "execution_count": null,
      "metadata": {
        "id": "GcHymPXkrPsF",
        "outputId": "5b5a2eed-4f28-4d5b-fc08-a624ac8d3d8d",
        "colab": {
          "base_uri": "https://localhost:8080/"
        }
      },
      "outputs": [
        {
          "output_type": "execute_result",
          "data": {
            "text/plain": [
              "array([[0, 2],\n",
              "       [1, 3]])"
            ]
          },
          "metadata": {},
          "execution_count": 55
        }
      ],
      "source": [
        "# 행렬 A의 전치행렬 구하기\n",
        "# 대각으로 값 교체, 수직->수평, 수평->수직으로 변형할때도 사용\n",
        "np.transpose(A)\n",
        "\n",
        "A.T # 동일"
      ]
    },
    {
      "cell_type": "code",
      "execution_count": null,
      "metadata": {
        "id": "yb2X2BxNrPsG",
        "outputId": "3c5c7219-d2e9-4d06-8488-7ca1c1670d72"
      },
      "outputs": [
        {
          "data": {
            "text/plain": [
              "array([[0, 2],\n",
              "       [1, 3]])"
            ]
          },
          "execution_count": 98,
          "metadata": {},
          "output_type": "execute_result"
        }
      ],
      "source": [
        "A.transpose()"
      ]
    },
    {
      "cell_type": "code",
      "source": [
        "A"
      ],
      "metadata": {
        "colab": {
          "base_uri": "https://localhost:8080/"
        },
        "id": "P8qGSKEW8VoZ",
        "outputId": "7c768b4e-a797-4441-a81c-a655de0c44d2"
      },
      "execution_count": null,
      "outputs": [
        {
          "output_type": "execute_result",
          "data": {
            "text/plain": [
              "array([[0, 1],\n",
              "       [2, 3]])"
            ]
          },
          "metadata": {},
          "execution_count": 56
        }
      ]
    },
    {
      "cell_type": "code",
      "execution_count": null,
      "metadata": {
        "id": "JQIK0amsrPsH",
        "outputId": "01f42d81-5e19-40cd-c262-e0ef5a114a57",
        "colab": {
          "base_uri": "https://localhost:8080/"
        }
      },
      "outputs": [
        {
          "output_type": "execute_result",
          "data": {
            "text/plain": [
              "array([[-1.5,  0.5],\n",
              "       [ 1. ,  0. ]])"
            ]
          },
          "metadata": {},
          "execution_count": 57
        }
      ],
      "source": [
        "# 행렬 A의 역행렬 구하기\n",
        "np.linalg.inv(A)"
      ]
    },
    {
      "cell_type": "code",
      "execution_count": null,
      "metadata": {
        "id": "fW20PtkTrPsI",
        "outputId": "da26f2d5-30af-4498-a839-ed9ec6fe9d65"
      },
      "outputs": [
        {
          "data": {
            "text/plain": [
              "-2.0"
            ]
          },
          "execution_count": 100,
          "metadata": {},
          "output_type": "execute_result"
        }
      ],
      "source": [
        "# 행렬 A의 행렬식 구하기\n",
        "# 몰라도 됨\n",
        "np.linalg.det(A)"
      ]
    },
    {
      "cell_type": "markdown",
      "metadata": {
        "nbpresent": {
          "id": "0266279b-0a9a-4625-bf56-25dcdc3ed960"
        },
        "id": "pALofl0IrPsJ"
      },
      "source": [
        "### 1.8 배열의 인덱싱과 슬라이싱\n",
        "- 인덱싱(Indexing): 배열의 위치나 조건을 지정해 배열의 원소를 선택하는 것\n",
        "- 슬라이싱(Slicing): 범위를 지정해 배열의 원소를 선택하는 것"
      ]
    },
    {
      "cell_type": "markdown",
      "metadata": {
        "nbpresent": {
          "id": "c2015789-2fd8-46d5-9d58-5291f8e895df"
        },
        "id": "agiZWk7krPsK"
      },
      "source": [
        "#### 배열의 인덱싱"
      ]
    },
    {
      "cell_type": "code",
      "execution_count": 28,
      "metadata": {
        "nbpresent": {
          "id": "eeea493a-f604-4696-bc2f-6d3eccb0f586"
        },
        "id": "tnqyi1iprPsL",
        "outputId": "6da2fd5b-7bbe-4e66-e8e5-f874035ea1b6",
        "colab": {
          "base_uri": "https://localhost:8080/"
        }
      },
      "outputs": [
        {
          "output_type": "execute_result",
          "data": {
            "text/plain": [
              "array([ 0, 10, 20, 30, 40, 50])"
            ]
          },
          "metadata": {},
          "execution_count": 28
        }
      ],
      "source": [
        "# 1차원 배열 인덱싱 <배열명[위치]>\n",
        "# 배열 원소의 위치는 0부터 시작\n",
        "a1 = np.array([0, 10, 20, 30, 40, 50])\n",
        "a1"
      ]
    },
    {
      "cell_type": "code",
      "execution_count": null,
      "metadata": {
        "nbpresent": {
          "id": "2fd50764-d3f4-4999-9efe-e7f75dde9fb8"
        },
        "id": "yX0VE5IErPsM",
        "outputId": "60930fb7-1938-4c63-c837-135d9d305430"
      },
      "outputs": [
        {
          "data": {
            "text/plain": [
              "0"
            ]
          },
          "execution_count": 108,
          "metadata": {},
          "output_type": "execute_result"
        }
      ],
      "source": [
        "a1[0]"
      ]
    },
    {
      "cell_type": "code",
      "execution_count": null,
      "metadata": {
        "nbpresent": {
          "id": "ec07b417-b92e-42a7-a1c8-fa4832d4c822"
        },
        "id": "mbFLLF5frPsN",
        "outputId": "fe377222-9a0e-4115-9b52-338df6ecda88"
      },
      "outputs": [
        {
          "data": {
            "text/plain": [
              "40"
            ]
          },
          "execution_count": 109,
          "metadata": {},
          "output_type": "execute_result"
        }
      ],
      "source": [
        "a1[4]"
      ]
    },
    {
      "cell_type": "code",
      "execution_count": null,
      "metadata": {
        "id": "TIruHT4brPsN",
        "outputId": "984d232e-bbb6-4339-d5f7-d23465d32175"
      },
      "outputs": [
        {
          "data": {
            "text/plain": [
              "array([ 0, 10, 20, 30, 40, 70])"
            ]
          },
          "execution_count": 105,
          "metadata": {},
          "output_type": "execute_result"
        }
      ],
      "source": [
        "a1[5] = 70\n",
        "a1"
      ]
    },
    {
      "cell_type": "code",
      "execution_count": null,
      "metadata": {
        "collapsed": true,
        "id": "ZN_A_9FSrPsO",
        "outputId": "af67e9bb-b7c8-4139-cab5-73239841aff6"
      },
      "outputs": [
        {
          "ename": "IndexError",
          "evalue": "index 6 is out of bounds for axis 0 with size 6",
          "output_type": "error",
          "traceback": [
            "\u001b[0;31m---------------------------------------------------------------------------\u001b[0m",
            "\u001b[0;31mIndexError\u001b[0m                                Traceback (most recent call last)",
            "\u001b[0;32m/var/folders/1v/rh91nkn95wj006ysyb52d4c00000gn/T/ipykernel_814/300700770.py\u001b[0m in \u001b[0;36m<module>\u001b[0;34m\u001b[0m\n\u001b[1;32m      1\u001b[0m \u001b[0;31m# Q. 아래 코드를 실행시키면 어떤 결과가 나올까?\u001b[0m\u001b[0;34m\u001b[0m\u001b[0;34m\u001b[0m\u001b[0;34m\u001b[0m\u001b[0m\n\u001b[0;32m----> 2\u001b[0;31m \u001b[0ma1\u001b[0m\u001b[0;34m[\u001b[0m\u001b[0;36m6\u001b[0m\u001b[0;34m]\u001b[0m \u001b[0;34m=\u001b[0m \u001b[0;36m90\u001b[0m\u001b[0;34m\u001b[0m\u001b[0;34m\u001b[0m\u001b[0m\n\u001b[0m",
            "\u001b[0;31mIndexError\u001b[0m: index 6 is out of bounds for axis 0 with size 6"
          ]
        }
      ],
      "source": [
        "# Q. 아래 코드를 실행시키면 어떤 결과가 나올까?\n",
        "a1[6] = 90 # 추가는 안됨"
      ]
    },
    {
      "cell_type": "code",
      "source": [
        "a1[a1 > 20]"
      ],
      "metadata": {
        "colab": {
          "base_uri": "https://localhost:8080/"
        },
        "id": "3_TlG64PLehk",
        "outputId": "42708c17-18f9-46ff-991e-88f00682a93c"
      },
      "execution_count": 30,
      "outputs": [
        {
          "output_type": "execute_result",
          "data": {
            "text/plain": [
              "array([30, 40, 50])"
            ]
          },
          "metadata": {},
          "execution_count": 30
        }
      ]
    },
    {
      "cell_type": "code",
      "execution_count": null,
      "metadata": {
        "nbpresent": {
          "id": "002591c3-c483-4a64-b1a3-cbe5c82369fa"
        },
        "id": "IGGtqAXurPsO",
        "outputId": "df12b21b-6acd-4456-d5d5-0a7d2ee42da6",
        "colab": {
          "base_uri": "https://localhost:8080/"
        }
      },
      "outputs": [
        {
          "output_type": "execute_result",
          "data": {
            "text/plain": [
              "array([10, 30, 40])"
            ]
          },
          "metadata": {},
          "execution_count": 59
        }
      ],
      "source": [
        "# 그룹 인덱싱\n",
        "a1[[1,3,4]] # 1번째, 3번째, 4번째 값 뽑기"
      ]
    },
    {
      "cell_type": "code",
      "source": [
        "# 2차원 배열 인덱싱 <배열명[행_위치, 열_위치]>\n",
        "a2 = np.arange(10, 100, 10).reshape(3,3)\n",
        "a2"
      ],
      "metadata": {
        "colab": {
          "base_uri": "https://localhost:8080/"
        },
        "id": "cwdGiD1qnqtV",
        "outputId": "1733dd81-6ff6-4000-fe13-47b6cf0d00ca"
      },
      "execution_count": 14,
      "outputs": [
        {
          "output_type": "execute_result",
          "data": {
            "text/plain": [
              "array([[10, 20, 30],\n",
              "       [40, 50, 60],\n",
              "       [70, 80, 90]])"
            ]
          },
          "metadata": {},
          "execution_count": 14
        }
      ]
    },
    {
      "cell_type": "code",
      "source": [
        "# 행열 간단하게 사용\n",
        "a2[0, 1]\n",
        "\n",
        "# 그룹 인덴싱\n",
        "a2[[0, 1]]\n",
        "\n",
        "# 그룹 값 변경\n",
        "# a2[0] = np.array([11, 22, 33])\n",
        "\n",
        "# Q. 출력값이 array([10, 80])이 나오도록 a2를 가지고 인덱싱해보기\n",
        "\n",
        "[a2[0, 0], a2[2, 1]]\n",
        "\n",
        "a2[[0, 0], [2, 1]]\n",
        "\n",
        "# a2"
      ],
      "metadata": {
        "colab": {
          "base_uri": "https://localhost:8080/"
        },
        "id": "jo5cTUTrntdt",
        "outputId": "f9cb9516-cac3-4e85-8e4b-d042239497cb"
      },
      "execution_count": 17,
      "outputs": [
        {
          "output_type": "execute_result",
          "data": {
            "text/plain": [
              "array([30, 20])"
            ]
          },
          "metadata": {},
          "execution_count": 17
        }
      ]
    },
    {
      "cell_type": "code",
      "source": [
        "# Q. 숫자 1부터 20을 원소로 갖는 배열 안에서 조건을 지정해서 2의 배수인 원소만 선택하기\n",
        "b = np.arange(1, 21)\n",
        "\n",
        "result = b[b % 2 == 0]\n",
        "result"
      ],
      "metadata": {
        "colab": {
          "base_uri": "https://localhost:8080/"
        },
        "id": "hCCzCfKOpHvw",
        "outputId": "ece65d00-6c3d-4133-a98c-62a9884984ca"
      },
      "execution_count": 19,
      "outputs": [
        {
          "output_type": "execute_result",
          "data": {
            "text/plain": [
              "array([ 2,  4,  6,  8, 10, 12, 14, 16, 18, 20])"
            ]
          },
          "metadata": {},
          "execution_count": 19
        }
      ]
    },
    {
      "cell_type": "code",
      "execution_count": 3,
      "metadata": {
        "id": "QaIBKAwCrPsP",
        "outputId": "8391a43f-97f3-47b9-b63f-cc03821b0057",
        "colab": {
          "base_uri": "https://localhost:8080/"
        }
      },
      "outputs": [
        {
          "output_type": "execute_result",
          "data": {
            "text/plain": [
              "array([[10, 20, 30],\n",
              "       [40, 50, 60],\n",
              "       [70, 80, 90]])"
            ]
          },
          "metadata": {},
          "execution_count": 3
        }
      ],
      "source": [
        "# 2차원 배열 인덱싱 <배열명[행_위치, 열_위치]>\n",
        "a2 = np.arange(10, 100, 10).reshape(3,3)\n",
        "a2"
      ]
    },
    {
      "cell_type": "code",
      "execution_count": null,
      "metadata": {
        "id": "b50Al9KdrPsP",
        "outputId": "2a99fdf3-900c-4d3c-ef22-f9ccd6bc265b",
        "colab": {
          "base_uri": "https://localhost:8080/"
        }
      },
      "outputs": [
        {
          "output_type": "execute_result",
          "data": {
            "text/plain": [
              "30"
            ]
          },
          "metadata": {},
          "execution_count": 62
        }
      ],
      "source": [
        "a2[0, 2] # 0행 2열,  a2[0][2] 와 동일"
      ]
    },
    {
      "cell_type": "code",
      "source": [
        "a2[2, 2]"
      ],
      "metadata": {
        "colab": {
          "base_uri": "https://localhost:8080/"
        },
        "id": "VKZC7WG3_5QC",
        "outputId": "624f756b-21e4-4063-cb04-5f4ca73d016d"
      },
      "execution_count": null,
      "outputs": [
        {
          "output_type": "execute_result",
          "data": {
            "text/plain": [
              "90"
            ]
          },
          "metadata": {},
          "execution_count": 63
        }
      ]
    },
    {
      "cell_type": "code",
      "execution_count": null,
      "metadata": {
        "id": "HLBNhbWPrPsQ",
        "outputId": "496fd441-d9f2-4d90-b291-eb7e3fb4e9b5",
        "colab": {
          "base_uri": "https://localhost:8080/"
        }
      },
      "outputs": [
        {
          "output_type": "execute_result",
          "data": {
            "text/plain": [
              "array([[10, 20, 30],\n",
              "       [40, 50, 60],\n",
              "       [70, 80, 95]])"
            ]
          },
          "metadata": {},
          "execution_count": 64
        }
      ],
      "source": [
        "# a2의 90이라는 숫자를 95로 바꾸고 싶으면 어떻게 해야할까?\n",
        "# 아래에 코드를 작성해보세요\n",
        "a2[2, 2] = 95\n",
        "a2"
      ]
    },
    {
      "cell_type": "code",
      "execution_count": null,
      "metadata": {
        "id": "pEI2oMMGrPsR",
        "outputId": "c529e627-266f-432f-e443-9591604b56ca",
        "colab": {
          "base_uri": "https://localhost:8080/"
        }
      },
      "outputs": [
        {
          "output_type": "execute_result",
          "data": {
            "text/plain": [
              "array([40, 50, 60])"
            ]
          },
          "metadata": {},
          "execution_count": 65
        }
      ],
      "source": [
        "# 열_위치없이 배열명[행_위치]만 입력하면 지정한 행 전체가 선택됨\n",
        "a2[1]"
      ]
    },
    {
      "cell_type": "code",
      "execution_count": null,
      "metadata": {
        "id": "tWmMrB70rPsR",
        "outputId": "05d49c90-6c41-40a4-c1b8-e74a2e078cdc",
        "colab": {
          "base_uri": "https://localhost:8080/"
        }
      },
      "outputs": [
        {
          "output_type": "execute_result",
          "data": {
            "text/plain": [
              "array([[10, 20, 30],\n",
              "       [45, 55, 65],\n",
              "       [70, 80, 95]])"
            ]
          },
          "metadata": {},
          "execution_count": 76
        }
      ],
      "source": [
        "# 그룹으로 값 변경\n",
        "a2[1] = np.array([45, 55, 65])\n",
        "a2"
      ]
    },
    {
      "cell_type": "code",
      "execution_count": null,
      "metadata": {
        "id": "oMVhQXtzrPsS",
        "outputId": "68b3d85f-68ee-47cf-b18b-d1111cec2a88",
        "colab": {
          "base_uri": "https://localhost:8080/"
        }
      },
      "outputs": [
        {
          "output_type": "execute_result",
          "data": {
            "text/plain": [
              "array([[10, 20, 30],\n",
              "       [47, 57, 67],\n",
              "       [70, 80, 95]])"
            ]
          },
          "metadata": {},
          "execution_count": 75
        }
      ],
      "source": [
        "# 그룹으로 값 변경\n",
        "a2[1] = [47, 57, 67]\n",
        "a2"
      ]
    },
    {
      "cell_type": "code",
      "execution_count": null,
      "metadata": {
        "id": "Vziw4_3KrPsS",
        "colab": {
          "base_uri": "https://localhost:8080/"
        },
        "outputId": "17f12f90-56c4-4efb-9778-de428d63926c"
      },
      "outputs": [
        {
          "output_type": "execute_result",
          "data": {
            "text/plain": [
              "array([10, 80])"
            ]
          },
          "metadata": {},
          "execution_count": 142
        }
      ],
      "source": [
        "# Q. 출력값이 array([10, 80])이 나오도록 a2를 가지고 인덱싱해보기\n",
        "\n",
        "a2\n",
        "\n",
        "# np.array([a2[0, 0], a2[2, 1]])\n",
        "\n",
        "[a2[0, 0], a2[2, 1]]\n",
        "\n",
        "# or\n",
        "a2[[0, 2], [0, 1]] # 첫번째 리스트: 행 인덱스, 두번째 리스트: 열 인덱스\n"
      ]
    },
    {
      "cell_type": "code",
      "execution_count": null,
      "metadata": {
        "id": "xZCvVjyYrPsT",
        "outputId": "3ded698b-f16c-4ccb-a1cf-2e4eb7fd907f"
      },
      "outputs": [
        {
          "data": {
            "text/plain": [
              "array([4, 5, 6])"
            ]
          },
          "execution_count": 106,
          "metadata": {},
          "output_type": "execute_result"
        }
      ],
      "source": [
        "# 조건을 지정해 조건에 맞는 배열의 원소만 선택하기\n",
        "a = np.array([1, 2, 3, 4, 5, 6])\n",
        "a[a > 3]"
      ]
    },
    {
      "cell_type": "code",
      "execution_count": null,
      "metadata": {
        "id": "9qG9ZdT6rPsU",
        "outputId": "6c086c21-19b7-498e-dc39-5beee42aad03"
      },
      "outputs": [
        {
          "data": {
            "text/plain": [
              "array([ 2,  4,  6,  8, 10, 12, 14, 16, 18, 20])"
            ]
          },
          "execution_count": 108,
          "metadata": {},
          "output_type": "execute_result"
        }
      ],
      "source": [
        "# Q. 숫자 1부터 20을 원소로 갖는 배열 안에서 조건을 지정해서 2의 배수인 원소만 선택하기\n",
        "b = np.arange(1, 21)\n",
        "b[b % 2 == 0]"
      ]
    },
    {
      "cell_type": "markdown",
      "metadata": {
        "nbpresent": {
          "id": "fbfdb73b-42aa-4d6c-8607-de4d7e930345"
        },
        "id": "KNEvfK2wrPsV"
      },
      "source": [
        "#### 배열의 슬라이싱"
      ]
    },
    {
      "cell_type": "code",
      "source": [
        "# 1차원 배열\n",
        "# 그룹으로 변경\n",
        "arr1 = np.array([1, 2, 3, 4, 5])\n",
        "\n",
        "arr1[:3]\n",
        "\n",
        "# 슬라이싱한 데이터 일괄 변경\n",
        "arr1[1:3] = 10\n",
        "\n",
        "arr1\n"
      ],
      "metadata": {
        "colab": {
          "base_uri": "https://localhost:8080/"
        },
        "id": "XxMgr6czyr1p",
        "outputId": "f745d1c2-94e3-49be-f6b8-4fc5bb7887cf"
      },
      "execution_count": 28,
      "outputs": [
        {
          "output_type": "execute_result",
          "data": {
            "text/plain": [
              "array([ 1, 10, 10,  4,  5])"
            ]
          },
          "metadata": {},
          "execution_count": 28
        }
      ]
    },
    {
      "cell_type": "code",
      "source": [
        "# 2차원 배열 슬라이싱\n",
        "\n",
        "# Q. 아래 결과가 나오도록 b2를 가지고 인덱싱해보기\n",
        "'''\n",
        "array([[20, 30],\n",
        "       [50, 60],\n",
        "       [80, 90]])\n",
        "'''\n",
        "\n",
        "arr2 = np.arange(10, 100, 10).reshape(3, 3)\n",
        "arr2\n",
        "\n",
        "\n"
      ],
      "metadata": {
        "colab": {
          "base_uri": "https://localhost:8080/"
        },
        "id": "Pg0qBSDDzKHg",
        "outputId": "9191ef94-60ef-4275-efec-5759700ca7c8"
      },
      "execution_count": 40,
      "outputs": [
        {
          "output_type": "execute_result",
          "data": {
            "text/plain": [
              "array([[10, 20, 30],\n",
              "       [40, 50, 60],\n",
              "       [70, 80, 90]])"
            ]
          },
          "metadata": {},
          "execution_count": 40
        }
      ]
    },
    {
      "cell_type": "code",
      "source": [
        "arr2[: 2]\n",
        "\n",
        "arr2[:, 1:3] # 행, 렬 슬라이싱\n",
        "\n",
        "# 값 변경\n",
        "arr2[:, 1:3] = np.array([[1, 2], [3, 4], [5, 6]])\n",
        "arr2"
      ],
      "metadata": {
        "colab": {
          "base_uri": "https://localhost:8080/"
        },
        "id": "A2ghJO3-JsQN",
        "outputId": "c4a720dc-5638-43b1-e19a-62c588f986bf"
      },
      "execution_count": 46,
      "outputs": [
        {
          "output_type": "execute_result",
          "data": {
            "text/plain": [
              "array([[10,  1,  2],\n",
              "       [40,  3,  4],\n",
              "       [70,  5,  6]])"
            ]
          },
          "metadata": {},
          "execution_count": 46
        }
      ]
    },
    {
      "cell_type": "code",
      "execution_count": 21,
      "metadata": {
        "nbpresent": {
          "id": "73248ff9-96ab-4911-a605-a2656df5439d"
        },
        "id": "OR5jbY9trPsW",
        "outputId": "ab92aebb-1aaf-47b7-af4a-c4c6338897c0",
        "colab": {
          "base_uri": "https://localhost:8080/"
        }
      },
      "outputs": [
        {
          "output_type": "execute_result",
          "data": {
            "text/plain": [
              "array([ 0, 10, 20, 30, 40, 50])"
            ]
          },
          "metadata": {},
          "execution_count": 21
        }
      ],
      "source": [
        "b1 = np.array([0, 10, 20, 30, 40, 50])\n",
        "b1[1:4]\n",
        "b1"
      ]
    },
    {
      "cell_type": "code",
      "execution_count": null,
      "metadata": {
        "id": "6D3aQUTcrPsW",
        "outputId": "d37bef8f-fe0a-4b10-9393-10a6a414db71"
      },
      "outputs": [
        {
          "data": {
            "text/plain": [
              "array([ 0, 10, 20])"
            ]
          },
          "execution_count": 143,
          "metadata": {},
          "output_type": "execute_result"
        }
      ],
      "source": [
        "b1[:3]"
      ]
    },
    {
      "cell_type": "code",
      "execution_count": null,
      "metadata": {
        "id": "Ip7m_rPCrPsX",
        "outputId": "4b7f43a2-e255-4f5a-cd03-5703ec88fa68"
      },
      "outputs": [
        {
          "data": {
            "text/plain": [
              "array([20, 30, 40, 50])"
            ]
          },
          "execution_count": 111,
          "metadata": {},
          "output_type": "execute_result"
        }
      ],
      "source": [
        "b1[2:]"
      ]
    },
    {
      "cell_type": "code",
      "execution_count": null,
      "metadata": {
        "id": "j1BCovcerPsY",
        "outputId": "c99dc9c4-7b59-46a4-974a-1b9e5a883875"
      },
      "outputs": [
        {
          "data": {
            "text/plain": [
              "array([ 0, 10, 25, 35, 45, 50])"
            ]
          },
          "execution_count": 112,
          "metadata": {},
          "output_type": "execute_result"
        }
      ],
      "source": [
        "b1[2:5] = np.array([25, 35, 45])\n",
        "b1"
      ]
    },
    {
      "cell_type": "code",
      "execution_count": null,
      "metadata": {
        "nbpresent": {
          "id": "6388bb1d-a6da-4b8d-9343-c9e36e961fcb"
        },
        "id": "1tgKPxgqrPsZ",
        "outputId": "8169eed0-20a2-4303-b99d-eaaf11bbb740",
        "colab": {
          "base_uri": "https://localhost:8080/"
        }
      },
      "outputs": [
        {
          "output_type": "execute_result",
          "data": {
            "text/plain": [
              "array([ 0, 10, 20, 60, 60, 60])"
            ]
          },
          "metadata": {},
          "execution_count": 81
        }
      ],
      "source": [
        "# 슬라이싱한 값들 하나로 일괄 변경\n",
        "\n",
        "b1[3:6] = 60\n",
        "b1"
      ]
    },
    {
      "cell_type": "code",
      "execution_count": 43,
      "metadata": {
        "id": "64dysUAmrPsa",
        "outputId": "6daf2b43-bd43-478d-ead5-a4a24c588009",
        "colab": {
          "base_uri": "https://localhost:8080/"
        }
      },
      "outputs": [
        {
          "output_type": "execute_result",
          "data": {
            "text/plain": [
              "array([[10, 20, 30],\n",
              "       [40, 50, 60],\n",
              "       [70, 80, 90]])"
            ]
          },
          "metadata": {},
          "execution_count": 43
        }
      ],
      "source": [
        "b2 = np.arange(10, 100, 10).reshape(3,3)\n",
        "b2"
      ]
    },
    {
      "cell_type": "code",
      "execution_count": null,
      "metadata": {
        "nbpresent": {
          "id": "de8005c3-e4b5-4a92-a1ca-2b9871cd8177"
        },
        "id": "z86hJ1rLrPsb",
        "outputId": "9227c809-0ae8-4056-ab99-9ad02fe6729f",
        "colab": {
          "base_uri": "https://localhost:8080/"
        }
      },
      "outputs": [
        {
          "output_type": "execute_result",
          "data": {
            "text/plain": [
              "array([[50, 60],\n",
              "       [80, 90]])"
            ]
          },
          "metadata": {},
          "execution_count": 85
        }
      ],
      "source": [
        "b2[1:3, 1:] # 행과 열"
      ]
    },
    {
      "cell_type": "code",
      "execution_count": null,
      "metadata": {
        "id": "wULVFFGgrPsb",
        "outputId": "d8a1ad52-364a-4887-9149-ee0d90bc1e90",
        "colab": {
          "base_uri": "https://localhost:8080/"
        }
      },
      "outputs": [
        {
          "output_type": "execute_result",
          "data": {
            "text/plain": [
              "array([[20, 30],\n",
              "       [50, 60],\n",
              "       [80, 90]])"
            ]
          },
          "metadata": {},
          "execution_count": 90
        }
      ],
      "source": [
        "# Q. 아래 결과가 나오도록 b2를 가지고 인덱싱해보기\n",
        "'''\n",
        "array([[20, 30],\n",
        "       [50, 60],\n",
        "       [80, 90]])\n",
        "'''\n",
        "\n",
        "b2[:, 1:]"
      ]
    },
    {
      "cell_type": "code",
      "execution_count": 44,
      "metadata": {
        "id": "WCPEJe4DrPsc",
        "outputId": "cc5b3ad7-a5b4-4137-d849-dad68795a4e0",
        "colab": {
          "base_uri": "https://localhost:8080/"
        }
      },
      "outputs": [
        {
          "output_type": "execute_result",
          "data": {
            "text/plain": [
              "array([40, 50])"
            ]
          },
          "metadata": {},
          "execution_count": 44
        }
      ],
      "source": [
        "# Q. 이 코드는 어떤 결과를 출력할지 추측해보기\n",
        "b2[1][0:2]"
      ]
    },
    {
      "cell_type": "code",
      "execution_count": 45,
      "metadata": {
        "nbpresent": {
          "id": "daad9c34-20d7-4214-906a-b9853876a577"
        },
        "id": "8u5w8HsnrPsc",
        "outputId": "a1e1d96f-40c3-4628-e509-ffad875fb4d0",
        "colab": {
          "base_uri": "https://localhost:8080/"
        }
      },
      "outputs": [
        {
          "output_type": "execute_result",
          "data": {
            "text/plain": [
              "array([[10, 25, 35],\n",
              "       [40, 55, 65],\n",
              "       [70, 80, 90]])"
            ]
          },
          "metadata": {},
          "execution_count": 45
        }
      ],
      "source": [
        "# Q. 아래 코드는 어떤 결과를 출력할지 추측해보기\n",
        "b2[0:2, 1:3] = np.array([[25, 35], [55, 65]])\n",
        "b2\n"
      ]
    },
    {
      "cell_type": "code",
      "execution_count": null,
      "metadata": {
        "id": "mZ2iPZ0MrPsd",
        "outputId": "25cb3b00-cb14-485b-87d6-959f581e3105"
      },
      "outputs": [
        {
          "data": {
            "text/plain": [
              "array([1, 2, 4])"
            ]
          },
          "execution_count": 149,
          "metadata": {},
          "output_type": "execute_result"
        }
      ],
      "source": [
        "ex = np.array([1, 2, 0, 0, 4, 0])\n",
        "ex[ex != 0]"
      ]
    },
    {
      "cell_type": "markdown",
      "metadata": {
        "id": "eK-7-NprrPsd"
      },
      "source": [
        "### 1.9 이 외에도 알아두면 좋은 넘파이 함수"
      ]
    },
    {
      "cell_type": "markdown",
      "metadata": {
        "id": "HPid-UBKrPse"
      },
      "source": [
        "#### 조건에 맞는 인덱스 찾기"
      ]
    },
    {
      "cell_type": "code",
      "source": [
        "a = np.arange(10, 20)\n",
        "a"
      ],
      "metadata": {
        "colab": {
          "base_uri": "https://localhost:8080/"
        },
        "id": "2gV3kbiELbOh",
        "outputId": "3fde9537-61f8-4dea-d18c-e08350d5ef14"
      },
      "execution_count": 54,
      "outputs": [
        {
          "output_type": "execute_result",
          "data": {
            "text/plain": [
              "array([10, 11, 12, 13, 14, 15, 16, 17, 18, 19])"
            ]
          },
          "metadata": {},
          "execution_count": 54
        }
      ]
    },
    {
      "cell_type": "code",
      "source": [
        "\n",
        "np.where(a > 14) # 인덱스 번호\n",
        "\n",
        "\n",
        "# 정렬 랜덤 ⭐️\n",
        "np.random.shuffle(a)\n",
        "print(a)\n",
        "\n",
        "\n",
        "# 최대값 인덱스 추출\n",
        "np.argmax(a), np.argmin(a)\n",
        "# 최소값 인덱스 추출\n",
        "\n",
        "\n",
        "# 제일 작은값 부터 순서대로 인덱스 찾기\n",
        "np.argsort(a)"
      ],
      "metadata": {
        "colab": {
          "base_uri": "https://localhost:8080/"
        },
        "id": "AeCkgu7dMjVB",
        "outputId": "f2dc6d52-1274-4a6d-b240-86045537d16a"
      },
      "execution_count": 61,
      "outputs": [
        {
          "output_type": "stream",
          "name": "stdout",
          "text": [
            "[12 15 18 17 16 10 13 19 11 14]\n"
          ]
        },
        {
          "output_type": "execute_result",
          "data": {
            "text/plain": [
              "array([5, 8, 0, 6, 9, 1, 4, 3, 2, 7])"
            ]
          },
          "metadata": {},
          "execution_count": 61
        }
      ]
    },
    {
      "cell_type": "code",
      "execution_count": null,
      "metadata": {
        "id": "Hmo7i0MMrPse",
        "outputId": "ac2663e5-a4a8-4aae-fde5-24105da9bf0c",
        "colab": {
          "base_uri": "https://localhost:8080/"
        }
      },
      "outputs": [
        {
          "output_type": "execute_result",
          "data": {
            "text/plain": [
              "array([10, 11, 12, 13, 14, 15, 16, 17, 18, 19])"
            ]
          },
          "metadata": {},
          "execution_count": 93
        }
      ],
      "source": [
        "# np.where() ⭐️\n",
        "a = np.arange(10, 20)\n",
        "a"
      ]
    },
    {
      "cell_type": "code",
      "execution_count": null,
      "metadata": {
        "id": "HbZhjMeSrPsf",
        "outputId": "c9b1a4b1-2bcf-44c6-b1eb-a9820dbac4ec",
        "colab": {
          "base_uri": "https://localhost:8080/"
        }
      },
      "outputs": [
        {
          "output_type": "execute_result",
          "data": {
            "text/plain": [
              "(array([6, 7, 8, 9]),)"
            ]
          },
          "metadata": {},
          "execution_count": 122
        }
      ],
      "source": [
        "np.where(a > 15)"
      ]
    },
    {
      "cell_type": "code",
      "execution_count": null,
      "metadata": {
        "id": "lptAayPZrPsg",
        "outputId": "93334aa4-604b-4b54-ec1d-648210e157d2"
      },
      "outputs": [
        {
          "data": {
            "text/plain": [
              "9"
            ]
          },
          "execution_count": 163,
          "metadata": {},
          "output_type": "execute_result"
        }
      ],
      "source": [
        "# np.argmax(), np.argmin()\n",
        "np.argmax(a) # 최대값 인덱스 찾기⭐️"
      ]
    },
    {
      "cell_type": "code",
      "execution_count": null,
      "metadata": {
        "scrolled": true,
        "id": "ynNsTT6lrPsh",
        "outputId": "e049e36a-ffcc-4665-b1a1-abffb0ef1cdd"
      },
      "outputs": [
        {
          "data": {
            "text/plain": [
              "0"
            ]
          },
          "execution_count": 164,
          "metadata": {},
          "output_type": "execute_result"
        }
      ],
      "source": [
        "np.argmin(a) # 최소값 인덱스 찾기⭐️"
      ]
    },
    {
      "cell_type": "code",
      "execution_count": null,
      "metadata": {
        "id": "MD_KKLmIrPsi",
        "outputId": "ae2bbaf2-1f12-41c7-b941-6fe57bb0df34",
        "colab": {
          "base_uri": "https://localhost:8080/"
        }
      },
      "outputs": [
        {
          "output_type": "execute_result",
          "data": {
            "text/plain": [
              "array([2, 3, 1, 4])"
            ]
          },
          "metadata": {},
          "execution_count": 98
        }
      ],
      "source": [
        "# np.argsort(): 작은 값부터 순서대로 인덱스 반환\n",
        "b = np.arange(1, 5)\n",
        "np.random.shuffle(b) # 정렬 랜덤 ⭐️\n",
        "b"
      ]
    },
    {
      "cell_type": "code",
      "execution_count": null,
      "metadata": {
        "id": "Bi9l6gemrPsi",
        "outputId": "cde7e0bb-68f9-41f4-8bc9-3995c7181711",
        "colab": {
          "base_uri": "https://localhost:8080/"
        }
      },
      "outputs": [
        {
          "output_type": "execute_result",
          "data": {
            "text/plain": [
              "array([2, 0, 1, 3])"
            ]
          },
          "metadata": {},
          "execution_count": 99
        }
      ],
      "source": [
        "np.argsort(b) # 제일 작은값 부터 순서대로 인덱스 찾기"
      ]
    },
    {
      "cell_type": "code",
      "execution_count": null,
      "metadata": {
        "id": "4cF0IFCcrPsj",
        "colab": {
          "base_uri": "https://localhost:8080/"
        },
        "outputId": "09eb63be-0674-4c31-d459-0ad4b52f6127"
      },
      "outputs": [
        {
          "output_type": "execute_result",
          "data": {
            "text/plain": [
              "array([3, 1, 0, 2])"
            ]
          },
          "metadata": {},
          "execution_count": 102
        }
      ],
      "source": [
        "# Q. 반대로 내림차순으로 인덱스를 반환하고 싶으면??\n",
        "np.argsort(b)[::-1]"
      ]
    },
    {
      "cell_type": "markdown",
      "metadata": {
        "id": "JaYhGSysrPsj"
      },
      "source": [
        "##### 넘파이 실습 문제 - 아래 문제를 직접 풀어보세요!\n",
        "1. Import the numpy package under the name np\n",
        "2. Create a 3X3 matrix with values ranging from 0 to 8\n",
        "3. Find indices of non-zero elements from [1, 2, 0, 0, 4, 0]\n",
        "4. Create a 10X10 array with random values and find the minimum and maximum values\n",
        "5. Find an index of minimum element from [34, 25, 23, 18, 30, 40, 37]"
      ]
    },
    {
      "cell_type": "code",
      "execution_count": null,
      "metadata": {
        "id": "7VxEmL0NrPsk",
        "colab": {
          "base_uri": "https://localhost:8080/"
        },
        "outputId": "9ebc33db-2d17-4668-ed66-6474a10226c9"
      },
      "outputs": [
        {
          "output_type": "execute_result",
          "data": {
            "text/plain": [
              "3"
            ]
          },
          "metadata": {},
          "execution_count": 138
        }
      ],
      "source": [
        "# 1\n",
        "import numpy as np\n",
        "\n",
        "# 2\n",
        "arr = np.arange(9).reshape(3, 3) # 3행 3열\n",
        "# print(arr)\n",
        "\n",
        "#3\n",
        "arr2 = np.array([1, 2, 0, 0, 4, 0])\n",
        "no_zero_indexs = np.where(arr2 !=0)\n",
        "# print(no_zero_indexs) # 배열안의 배열로 리턴\n",
        "# np.where(arr2 !=0)[0]\n",
        "#4\n",
        "arr3 = np.random.randint(1, 51, size=(10, 10))\n",
        "# print(arr3)\n",
        "# print(arr3.min(), arr3.max()) # 배열의 최소값, 최대값 찾기\n",
        "\n",
        "#5\n",
        "arr4 = np.array([34, 25, 23, 18, 30, 40, 37])\n",
        "np.argmin(arr4) # 최소값의 인덱스찾기\n",
        "\n"
      ]
    }
  ],
  "metadata": {
    "anaconda-cloud": {},
    "kernelspec": {
      "display_name": "Python 3 (ipykernel)",
      "language": "python",
      "name": "python3"
    },
    "language_info": {
      "codemirror_mode": {
        "name": "ipython",
        "version": 3
      },
      "file_extension": ".py",
      "mimetype": "text/x-python",
      "name": "python",
      "nbconvert_exporter": "python",
      "pygments_lexer": "ipython3",
      "version": "3.8.8"
    },
    "latex_envs": {
      "LaTeX_envs_menu_present": true,
      "autoclose": false,
      "autocomplete": true,
      "bibliofile": "biblio.bib",
      "cite_by": "apalike",
      "current_citInitial": 1,
      "eqLabelWithNumbers": true,
      "eqNumInitial": 1,
      "hotkeys": {
        "equation": "Ctrl-E",
        "itemize": "Ctrl-I"
      },
      "labels_anchors": false,
      "latex_user_defs": false,
      "report_style_numbering": false,
      "user_envs_cfg": false
    },
    "nav_menu": {},
    "nbpresent": {
      "slides": {
        "004a6615-ad46-4dc1-98bf-9cf6ac61002b": {
          "id": "004a6615-ad46-4dc1-98bf-9cf6ac61002b",
          "prev": "0cefb89e-78a5-4f97-b24e-38d6998427b0",
          "regions": {
            "e9f88a6a-5929-46ed-8f24-ae90d238871c": {
              "attrs": {
                "height": 0.8,
                "width": 0.8,
                "x": 0.1,
                "y": 0.1
              },
              "content": {
                "cell": "9165b87e-160c-4f61-accb-5af75ff51f50",
                "part": "whole"
              },
              "id": "e9f88a6a-5929-46ed-8f24-ae90d238871c"
            }
          }
        },
        "00c2ebfa-0100-4b40-a67e-6a32cfa48b22": {
          "id": "00c2ebfa-0100-4b40-a67e-6a32cfa48b22",
          "prev": "f228d481-5fc0-4b77-893d-124a217e76f8",
          "regions": {
            "d56d4052-1ce5-4de0-a818-a95c965749b1": {
              "attrs": {
                "height": 0.8,
                "width": 0.8,
                "x": 0.1,
                "y": 0.1
              },
              "content": {
                "cell": "002591c3-c483-4a64-b1a3-cbe5c82369fa",
                "part": "whole"
              },
              "id": "d56d4052-1ce5-4de0-a818-a95c965749b1"
            }
          }
        },
        "00f76723-5047-41aa-ae0c-3b81c520dc5c": {
          "id": "00f76723-5047-41aa-ae0c-3b81c520dc5c",
          "prev": null,
          "regions": {
            "2d374d93-56bf-4d18-a4f3-e3e222ec1051": {
              "attrs": {
                "height": 0.8,
                "width": 0.8,
                "x": 0.1,
                "y": 0.1
              },
              "content": {
                "cell": "bba48256-c366-49a0-9a1a-31d3c97c540e",
                "part": "whole"
              },
              "id": "2d374d93-56bf-4d18-a4f3-e3e222ec1051"
            }
          }
        },
        "01be6c68-04ad-49f2-a11f-c403f5356a5b": {
          "id": "01be6c68-04ad-49f2-a11f-c403f5356a5b",
          "prev": "82abee69-5d76-445e-9006-e8c61e48efa9",
          "regions": {
            "6fe21fc9-775a-45fd-ac34-68f1ead7f94e": {
              "attrs": {
                "height": 0.8,
                "width": 0.8,
                "x": 0.1,
                "y": 0.1
              },
              "content": {
                "cell": "e2171d29-60a5-4cb1-b568-af3a9a93f378",
                "part": "whole"
              },
              "id": "6fe21fc9-775a-45fd-ac34-68f1ead7f94e"
            }
          }
        },
        "026ad1bb-bbb5-4911-a29a-2a31c6dd3d42": {
          "id": "026ad1bb-bbb5-4911-a29a-2a31c6dd3d42",
          "prev": "730c66a5-e473-418e-a1fa-3ba3d7a1589a",
          "regions": {
            "33fcb62d-ee8e-4b77-932b-54b5f5d4222e": {
              "attrs": {
                "height": 0.8,
                "width": 0.8,
                "x": 0.1,
                "y": 0.1
              },
              "content": {
                "cell": "809f2544-8422-426e-b216-38b3c1ef40ce",
                "part": "whole"
              },
              "id": "33fcb62d-ee8e-4b77-932b-54b5f5d4222e"
            }
          }
        },
        "06a1b182-2897-4de1-b0a9-36a82fad7cff": {
          "id": "06a1b182-2897-4de1-b0a9-36a82fad7cff",
          "prev": "36f7e31a-44e1-48a5-8d4f-9389c0dd1094",
          "regions": {
            "b3b1adb5-0f57-472b-8709-a142bffe7f7a": {
              "attrs": {
                "height": 0.8,
                "width": 0.8,
                "x": 0.1,
                "y": 0.1
              },
              "content": {
                "cell": "497bfe6b-1180-43ad-8d15-911730388b95",
                "part": "whole"
              },
              "id": "b3b1adb5-0f57-472b-8709-a142bffe7f7a"
            }
          }
        },
        "06a546d5-5101-425e-bedd-c0d0069b65b0": {
          "id": "06a546d5-5101-425e-bedd-c0d0069b65b0",
          "prev": "300485de-75ad-4b69-8778-8c497e64b722",
          "regions": {
            "37282982-c928-4dcf-8d6f-0d3023b50161": {
              "attrs": {
                "height": 0.8,
                "width": 0.8,
                "x": 0.1,
                "y": 0.1
              },
              "content": {
                "cell": "3253a21a-7d3c-4ba9-8b4d-2c7b695abd09",
                "part": "whole"
              },
              "id": "37282982-c928-4dcf-8d6f-0d3023b50161"
            }
          }
        },
        "08319543-0934-425c-bded-1f53b270e762": {
          "id": "08319543-0934-425c-bded-1f53b270e762",
          "prev": "41922a37-7809-4305-a13f-8ca1137cf700",
          "regions": {
            "3563d8aa-aac0-4c9b-b9c4-d7140036d1a6": {
              "attrs": {
                "height": 0.8,
                "width": 0.8,
                "x": 0.1,
                "y": 0.1
              },
              "content": {
                "cell": "d1dbe790-0599-4dd5-a85f-e7d342fbaec1",
                "part": "whole"
              },
              "id": "3563d8aa-aac0-4c9b-b9c4-d7140036d1a6"
            }
          }
        },
        "0912a4aa-0701-46df-b147-638a992ef413": {
          "id": "0912a4aa-0701-46df-b147-638a992ef413",
          "prev": "c70889ca-5824-45a6-96e1-17557b114f83",
          "regions": {
            "c2d0aaf6-650d-4ba1-b241-3e4ce6ff5dc0": {
              "attrs": {
                "height": 0.8,
                "width": 0.8,
                "x": 0.1,
                "y": 0.1
              },
              "content": {
                "cell": "519e2a61-61b0-46c0-855b-19d7d385f4eb",
                "part": "whole"
              },
              "id": "c2d0aaf6-650d-4ba1-b241-3e4ce6ff5dc0"
            }
          }
        },
        "09785615-9da4-4e0c-bd42-618738d7ef5d": {
          "id": "09785615-9da4-4e0c-bd42-618738d7ef5d",
          "prev": "0d488510-90f9-46a8-89a4-c8b5db875d88",
          "regions": {
            "3a1498b3-b96b-4294-aab3-3d8d2223b354": {
              "attrs": {
                "height": 0.8,
                "width": 0.8,
                "x": 0.1,
                "y": 0.1
              },
              "content": {
                "cell": "992c8f6c-4041-4ef1-930b-5ad3f5b4b65d",
                "part": "whole"
              },
              "id": "3a1498b3-b96b-4294-aab3-3d8d2223b354"
            }
          }
        },
        "09821c90-8644-4369-a270-d183b12af77d": {
          "id": "09821c90-8644-4369-a270-d183b12af77d",
          "prev": "e8089ccf-9780-45a4-8545-41ee16b95fc8",
          "regions": {
            "191d01eb-8da1-48d6-b007-b3755d9abf3c": {
              "attrs": {
                "height": 0.8,
                "width": 0.8,
                "x": 0.1,
                "y": 0.1
              },
              "content": {
                "cell": "83f35fac-f81a-4767-b858-e720844e9efb",
                "part": "whole"
              },
              "id": "191d01eb-8da1-48d6-b007-b3755d9abf3c"
            }
          }
        },
        "09ad0890-ab5a-4ede-a8d2-fdbd43a5da21": {
          "id": "09ad0890-ab5a-4ede-a8d2-fdbd43a5da21",
          "prev": "00f76723-5047-41aa-ae0c-3b81c520dc5c",
          "regions": {
            "140e5afe-486b-446c-9b75-075133796ea8": {
              "attrs": {
                "height": 0.8,
                "width": 0.8,
                "x": 0.1,
                "y": 0.1
              },
              "content": {
                "cell": "a00a5059-101b-4f62-bac3-0c6049620deb",
                "part": "whole"
              },
              "id": "140e5afe-486b-446c-9b75-075133796ea8"
            }
          }
        },
        "0be7bcc1-ec21-4dc5-a2aa-8949340fb4ee": {
          "id": "0be7bcc1-ec21-4dc5-a2aa-8949340fb4ee",
          "prev": "fe7b1364-ffbc-4fd1-8a08-e3ba54ab969a",
          "regions": {
            "fc007ea9-c7c0-448d-bbb3-d8fbfe197e43": {
              "attrs": {
                "height": 0.8,
                "width": 0.8,
                "x": 0.1,
                "y": 0.1
              },
              "content": {
                "cell": "39cb565c-2e08-49e3-84b1-c4310ea74a88",
                "part": "whole"
              },
              "id": "fc007ea9-c7c0-448d-bbb3-d8fbfe197e43"
            }
          }
        },
        "0ccc1664-e9f4-4e9a-b15a-eb9f5331434a": {
          "id": "0ccc1664-e9f4-4e9a-b15a-eb9f5331434a",
          "prev": "2fbcddb0-dec0-427d-8b57-6b0012e2446b",
          "regions": {
            "53c4b42e-7da9-44a7-a6b8-f7d2985d885a": {
              "attrs": {
                "height": 0.8,
                "width": 0.8,
                "x": 0.1,
                "y": 0.1
              },
              "content": {
                "cell": "1e64fd72-3ab3-457f-85a4-3ff66d286bdd",
                "part": "whole"
              },
              "id": "53c4b42e-7da9-44a7-a6b8-f7d2985d885a"
            }
          }
        },
        "0cefb89e-78a5-4f97-b24e-38d6998427b0": {
          "id": "0cefb89e-78a5-4f97-b24e-38d6998427b0",
          "prev": "2bef2c0c-989c-4d72-8825-8ad47d80f90e",
          "regions": {
            "03c0c259-ff27-46c4-a0c3-032e5ea27c7e": {
              "attrs": {
                "height": 0.8,
                "width": 0.8,
                "x": 0.1,
                "y": 0.1
              },
              "content": {
                "cell": "0f84ae14-6e61-4f6d-869b-6951a1ecb090",
                "part": "whole"
              },
              "id": "03c0c259-ff27-46c4-a0c3-032e5ea27c7e"
            }
          }
        },
        "0d488510-90f9-46a8-89a4-c8b5db875d88": {
          "id": "0d488510-90f9-46a8-89a4-c8b5db875d88",
          "prev": "51f45016-1aa3-4c90-a62a-263522722566",
          "regions": {
            "b7135931-25f4-46ad-b803-54a11719965b": {
              "attrs": {
                "height": 0.8,
                "width": 0.8,
                "x": 0.1,
                "y": 0.1
              },
              "content": {
                "cell": "a765d6d6-bb77-4170-bad0-dd14df2e12b4",
                "part": "whole"
              },
              "id": "b7135931-25f4-46ad-b803-54a11719965b"
            }
          }
        },
        "0ddaf2a6-3dc6-4ac7-b3cc-bd0c93a0ab5f": {
          "id": "0ddaf2a6-3dc6-4ac7-b3cc-bd0c93a0ab5f",
          "prev": "1fa1459f-c5e1-41f3-a3e5-062bfaa87d63",
          "regions": {
            "a487dd19-d1e7-47da-bb37-d76abea4223a": {
              "attrs": {
                "height": 0.8,
                "width": 0.8,
                "x": 0.1,
                "y": 0.1
              },
              "content": {
                "cell": "fb6fc3f3-1a8a-403c-84d5-1ea68bc354c1",
                "part": "whole"
              },
              "id": "a487dd19-d1e7-47da-bb37-d76abea4223a"
            }
          }
        },
        "0df5ba4e-68f8-466d-9e34-9577ba7f5b65": {
          "id": "0df5ba4e-68f8-466d-9e34-9577ba7f5b65",
          "prev": "63b65a05-1500-4663-8a86-e90ae8d0892b",
          "regions": {
            "8afdcde1-306d-478f-a0d0-4c20fdc2de7e": {
              "attrs": {
                "height": 0.8,
                "width": 0.8,
                "x": 0.1,
                "y": 0.1
              },
              "content": {
                "cell": "1ddc49b0-5c30-4bcd-9504-3b8c6b5dcb5e",
                "part": "whole"
              },
              "id": "8afdcde1-306d-478f-a0d0-4c20fdc2de7e"
            }
          }
        },
        "105092e3-9521-4e1b-925a-89fbea3bda08": {
          "id": "105092e3-9521-4e1b-925a-89fbea3bda08",
          "prev": "e6736d98-e4ff-41c5-a42e-d6d7f4efc8d4",
          "regions": {
            "77fae83d-12d3-44a7-a31c-17fccf626839": {
              "attrs": {
                "height": 0.8,
                "width": 0.8,
                "x": 0.1,
                "y": 0.1
              },
              "content": {
                "cell": "29a2b7cf-7c0a-4ce4-b42c-0569c419df7c",
                "part": "whole"
              },
              "id": "77fae83d-12d3-44a7-a31c-17fccf626839"
            }
          }
        },
        "1057ac0a-e317-4e89-a987-2e41ccf94195": {
          "id": "1057ac0a-e317-4e89-a987-2e41ccf94195",
          "prev": "52601c7e-15d5-4080-88d4-d83f3c51d6e3",
          "regions": {
            "3df3d487-58a2-467f-b059-3535751ee055": {
              "attrs": {
                "height": 0.8,
                "width": 0.8,
                "x": 0.1,
                "y": 0.1
              },
              "content": {
                "cell": "64bc39ab-346c-40e7-b1c9-1929ea0f8c01",
                "part": "whole"
              },
              "id": "3df3d487-58a2-467f-b059-3535751ee055"
            }
          }
        },
        "1295388d-039f-4755-a2eb-4624bc036880": {
          "id": "1295388d-039f-4755-a2eb-4624bc036880",
          "prev": "9ad96f6c-983a-4919-9822-1b2d8bade635",
          "regions": {
            "ccca86e8-927b-4038-b0c0-704d609de376": {
              "attrs": {
                "height": 0.8,
                "width": 0.8,
                "x": 0.1,
                "y": 0.1
              },
              "content": {
                "cell": "f5c6300a-405b-408a-9eae-795a9b560da2",
                "part": "whole"
              },
              "id": "ccca86e8-927b-4038-b0c0-704d609de376"
            }
          }
        },
        "12f9d190-4f4e-496e-9eb3-28af41aa6c09": {
          "id": "12f9d190-4f4e-496e-9eb3-28af41aa6c09",
          "prev": "9143d20a-1225-4e20-bf84-20c6f4b0ed84",
          "regions": {
            "95081a10-1a8a-4522-a45f-47ba3ff1bfb0": {
              "attrs": {
                "height": 0.8,
                "width": 0.8,
                "x": 0.1,
                "y": 0.1
              },
              "content": {
                "cell": "43dbb77b-728c-453d-8809-7c5c1da3218e",
                "part": "whole"
              },
              "id": "95081a10-1a8a-4522-a45f-47ba3ff1bfb0"
            }
          }
        },
        "1330959f-cbe7-444f-b3d6-918f427d4771": {
          "id": "1330959f-cbe7-444f-b3d6-918f427d4771",
          "prev": "1b8b26fe-a63d-41a3-b9ce-5742f475ce52",
          "regions": {
            "c70239f8-74f8-471b-870a-cb493fbcb6ec": {
              "attrs": {
                "height": 0.8,
                "width": 0.8,
                "x": 0.1,
                "y": 0.1
              },
              "content": {
                "cell": "645ae3c6-8414-435e-a321-26c0ecfe5485",
                "part": "whole"
              },
              "id": "c70239f8-74f8-471b-870a-cb493fbcb6ec"
            }
          }
        },
        "1342dd1f-8dbe-4fef-ba33-1d42f69e8841": {
          "id": "1342dd1f-8dbe-4fef-ba33-1d42f69e8841",
          "prev": "ebf3e9eb-baea-4f4f-9a8b-77292d108134",
          "regions": {
            "939a5e4a-e7bf-4b9e-9f44-78eb585acf58": {
              "attrs": {
                "height": 0.8,
                "width": 0.8,
                "x": 0.1,
                "y": 0.1
              },
              "content": {
                "cell": "b2347c58-725e-423c-b73a-c13695122285",
                "part": "whole"
              },
              "id": "939a5e4a-e7bf-4b9e-9f44-78eb585acf58"
            }
          }
        },
        "14bb0be7-7959-4163-bc6d-5f77eb8e4fcc": {
          "id": "14bb0be7-7959-4163-bc6d-5f77eb8e4fcc",
          "prev": "d3a86a05-28d5-4035-aba6-6a7e40e4c59a",
          "regions": {
            "f1f77e0d-f753-467f-932f-ce6c583a9fb8": {
              "attrs": {
                "height": 0.8,
                "width": 0.8,
                "x": 0.1,
                "y": 0.1
              },
              "content": {
                "cell": "6f741d1a-45ad-4a71-b0a7-f9a02979eec0",
                "part": "whole"
              },
              "id": "f1f77e0d-f753-467f-932f-ce6c583a9fb8"
            }
          }
        },
        "1546c70e-083d-44d8-bbb6-40418d5847c9": {
          "id": "1546c70e-083d-44d8-bbb6-40418d5847c9",
          "prev": "9ab143f3-5fd8-42fb-81f8-b39715f598cb",
          "regions": {
            "0e6d10d7-a3ba-45a6-bb72-c63e6a81a14d": {
              "attrs": {
                "height": 0.8,
                "width": 0.8,
                "x": 0.1,
                "y": 0.1
              },
              "content": {
                "cell": "306cd90d-b2b6-4dd4-b1bc-e73177c71f99",
                "part": "whole"
              },
              "id": "0e6d10d7-a3ba-45a6-bb72-c63e6a81a14d"
            }
          }
        },
        "17361deb-8540-4ec7-a58e-38bf3b6a011d": {
          "id": "17361deb-8540-4ec7-a58e-38bf3b6a011d",
          "prev": "71138d00-1de1-4255-b423-0fbca3e37521",
          "regions": {
            "87d91ae2-9c5d-4f65-a78c-815f459851fa": {
              "attrs": {
                "height": 0.8,
                "width": 0.8,
                "x": 0.1,
                "y": 0.1
              },
              "content": {
                "cell": "5f71eb4e-f55e-4f00-96bc-722d7e241a66",
                "part": "whole"
              },
              "id": "87d91ae2-9c5d-4f65-a78c-815f459851fa"
            }
          }
        },
        "18af95f0-b62c-46b0-b821-b14db773c013": {
          "id": "18af95f0-b62c-46b0-b821-b14db773c013",
          "prev": "32899dd6-8f34-4746-8da8-0ca3a9186a2e",
          "regions": {
            "7287c62c-3d15-41d5-8902-41e7b74f5b0c": {
              "attrs": {
                "height": 0.8,
                "width": 0.8,
                "x": 0.1,
                "y": 0.1
              },
              "content": {
                "cell": "fba60d0d-6b69-4f90-8d39-c54b47f51bec",
                "part": "whole"
              },
              "id": "7287c62c-3d15-41d5-8902-41e7b74f5b0c"
            }
          }
        },
        "1a66efb8-7a57-4543-a31e-42fa1f104b06": {
          "id": "1a66efb8-7a57-4543-a31e-42fa1f104b06",
          "prev": "de87b522-18eb-4c18-a639-a6477f621358",
          "regions": {
            "2b34f426-ebe6-42f4-95c0-1aa6dcb179e7": {
              "attrs": {
                "height": 0.8,
                "width": 0.8,
                "x": 0.1,
                "y": 0.1
              },
              "content": {
                "cell": "fa8fe338-046c-48ab-a709-6c5e1d69625d",
                "part": "whole"
              },
              "id": "2b34f426-ebe6-42f4-95c0-1aa6dcb179e7"
            }
          }
        },
        "1b8b26fe-a63d-41a3-b9ce-5742f475ce52": {
          "id": "1b8b26fe-a63d-41a3-b9ce-5742f475ce52",
          "prev": "f54407be-9c02-4485-bef5-b7a81592cd7b",
          "regions": {
            "a13f0ef3-72c6-4e0c-95cd-169a518541d3": {
              "attrs": {
                "height": 0.8,
                "width": 0.8,
                "x": 0.1,
                "y": 0.1
              },
              "content": {
                "cell": "8439f472-17a2-4baa-86bc-ff64e9b3d704",
                "part": "whole"
              },
              "id": "a13f0ef3-72c6-4e0c-95cd-169a518541d3"
            }
          }
        },
        "1d50f252-fd67-42e5-addf-3f9d7a28dd31": {
          "id": "1d50f252-fd67-42e5-addf-3f9d7a28dd31",
          "prev": "752a273d-a6b1-45d0-a199-3507c7bd8015",
          "regions": {
            "7a5c022b-6eca-474a-ad93-9c94a6466a1d": {
              "attrs": {
                "height": 0.8,
                "width": 0.8,
                "x": 0.1,
                "y": 0.1
              },
              "content": {
                "cell": "d445e468-b2cb-4025-8fd9-202b6efb110a",
                "part": "whole"
              },
              "id": "7a5c022b-6eca-474a-ad93-9c94a6466a1d"
            }
          }
        },
        "1f8ba1e9-da4c-482f-926a-b31103b4adaa": {
          "id": "1f8ba1e9-da4c-482f-926a-b31103b4adaa",
          "prev": "4e3c853f-29e9-4a8f-95fe-97e3c3168b33",
          "regions": {
            "4b8fca95-fca4-4519-b289-6ad085c11578": {
              "attrs": {
                "height": 0.8,
                "width": 0.8,
                "x": 0.1,
                "y": 0.1
              },
              "content": {
                "cell": "6d5e6d1b-6fa7-483d-9648-6ca44371399f",
                "part": "whole"
              },
              "id": "4b8fca95-fca4-4519-b289-6ad085c11578"
            }
          }
        },
        "1fa1459f-c5e1-41f3-a3e5-062bfaa87d63": {
          "id": "1fa1459f-c5e1-41f3-a3e5-062bfaa87d63",
          "prev": "aec73699-b126-4ddd-a0fe-fed510fc7c05",
          "regions": {
            "b80dedf8-2dc5-438f-afd5-d66942c9bf57": {
              "attrs": {
                "height": 0.8,
                "width": 0.8,
                "x": 0.1,
                "y": 0.1
              },
              "content": {
                "cell": "c518a29e-e00d-40d7-bec5-07d421415653",
                "part": "whole"
              },
              "id": "b80dedf8-2dc5-438f-afd5-d66942c9bf57"
            }
          }
        },
        "207f8462-0da1-40a3-9049-1d72b8a08c53": {
          "id": "207f8462-0da1-40a3-9049-1d72b8a08c53",
          "prev": "0df5ba4e-68f8-466d-9e34-9577ba7f5b65",
          "regions": {
            "a6025063-8441-4b8f-8975-bec3b6dbdc02": {
              "attrs": {
                "height": 0.8,
                "width": 0.8,
                "x": 0.1,
                "y": 0.1
              },
              "content": {
                "cell": "04b26713-532e-4ebd-a3e2-16f648d46376",
                "part": "whole"
              },
              "id": "a6025063-8441-4b8f-8975-bec3b6dbdc02"
            }
          }
        },
        "219e1659-447c-44ee-935e-9ebb107df7b1": {
          "id": "219e1659-447c-44ee-935e-9ebb107df7b1",
          "prev": "3a7fb726-2dea-4025-ab74-b6c9990721eb",
          "regions": {
            "cb491353-965e-47f1-ae93-2d8e7aca78ff": {
              "attrs": {
                "height": 0.8,
                "width": 0.8,
                "x": 0.1,
                "y": 0.1
              },
              "content": {
                "cell": "417789a3-66a4-4c52-b967-6855a3b6edb6",
                "part": "whole"
              },
              "id": "cb491353-965e-47f1-ae93-2d8e7aca78ff"
            }
          }
        },
        "2238fd84-2a89-4544-a31e-be3956ed3f65": {
          "id": "2238fd84-2a89-4544-a31e-be3956ed3f65",
          "prev": "f1d0836b-51b6-4da7-ab98-0a5828c9bbb3",
          "regions": {
            "849e6dc4-3376-4781-89ee-77d29ff64a44": {
              "attrs": {
                "height": 0.8,
                "width": 0.8,
                "x": 0.1,
                "y": 0.1
              },
              "content": {
                "cell": "31a5e2f1-017c-4d6d-aae3-1fb54ac75e9c",
                "part": "whole"
              },
              "id": "849e6dc4-3376-4781-89ee-77d29ff64a44"
            }
          }
        },
        "224a84f3-8aff-4323-b700-18a00d294303": {
          "id": "224a84f3-8aff-4323-b700-18a00d294303",
          "prev": "b1fe186d-b526-4dea-a598-7ab89acb7bd1",
          "regions": {
            "3e92e3d3-8480-4ac0-a7da-4b2d48c3bafa": {
              "attrs": {
                "height": 0.8,
                "width": 0.8,
                "x": 0.1,
                "y": 0.1
              },
              "content": {
                "cell": "e1187589-6ec4-42be-8434-0b0033c8477f",
                "part": "whole"
              },
              "id": "3e92e3d3-8480-4ac0-a7da-4b2d48c3bafa"
            }
          }
        },
        "237577b0-9379-4ce4-a171-3889a3d42450": {
          "id": "237577b0-9379-4ce4-a171-3889a3d42450",
          "prev": "3581cd54-9198-4f26-b0ee-92fdf8d5090a",
          "regions": {
            "78892edf-1cc8-4aff-abb7-c4461e20eec0": {
              "attrs": {
                "height": 0.8,
                "width": 0.8,
                "x": 0.1,
                "y": 0.1
              },
              "content": {
                "cell": "ed5d25ea-f078-4238-9911-6f56810dc8b6",
                "part": "whole"
              },
              "id": "78892edf-1cc8-4aff-abb7-c4461e20eec0"
            }
          }
        },
        "2440aa4d-fcf2-4b7e-bc47-8548a87a6ea7": {
          "id": "2440aa4d-fcf2-4b7e-bc47-8548a87a6ea7",
          "prev": "c9ece08c-b252-4b96-b33d-f07cfa1f8885",
          "regions": {
            "63bfd364-2d16-41a9-b561-30e223ff73e8": {
              "attrs": {
                "height": 0.8,
                "width": 0.8,
                "x": 0.1,
                "y": 0.1
              },
              "content": {
                "cell": "8c0fbf70-0906-4f5f-990a-84abd7483130",
                "part": "whole"
              },
              "id": "63bfd364-2d16-41a9-b561-30e223ff73e8"
            }
          }
        },
        "26143843-c506-40ec-b0f1-e0b03d5aff8b": {
          "id": "26143843-c506-40ec-b0f1-e0b03d5aff8b",
          "prev": "314d18f5-4d2f-46ec-b983-9fa926bb6107",
          "regions": {
            "4d00c323-a380-4823-b9c7-571ade9943fa": {
              "attrs": {
                "height": 0.8,
                "width": 0.8,
                "x": 0.1,
                "y": 0.1
              },
              "content": {
                "cell": "dfdbc505-3c93-471f-8efe-ef7f393351af",
                "part": "whole"
              },
              "id": "4d00c323-a380-4823-b9c7-571ade9943fa"
            }
          }
        },
        "2833646f-f9fa-4e0a-ae67-9ca9475599ff": {
          "id": "2833646f-f9fa-4e0a-ae67-9ca9475599ff",
          "prev": "d55be3e8-b197-464c-b6f9-400658b15b99",
          "regions": {
            "7e0c007d-19ec-4fcd-9c6d-eeaff8b6bcfa": {
              "attrs": {
                "height": 0.8,
                "width": 0.8,
                "x": 0.1,
                "y": 0.1
              },
              "content": {
                "cell": "2fd50764-d3f4-4999-9efe-e7f75dde9fb8",
                "part": "whole"
              },
              "id": "7e0c007d-19ec-4fcd-9c6d-eeaff8b6bcfa"
            }
          }
        },
        "28542ec3-fe9a-4414-9f5c-5303725673f6": {
          "id": "28542ec3-fe9a-4414-9f5c-5303725673f6",
          "prev": "caffec0b-ccd7-4e82-930d-708d6a053d68",
          "regions": {
            "e0917f48-6c03-4c9f-b76e-ac2ca8f58f42": {
              "attrs": {
                "height": 0.8,
                "width": 0.8,
                "x": 0.1,
                "y": 0.1
              },
              "content": {
                "cell": "89158dfa-2548-4e6e-9d9c-ffea68274878",
                "part": "whole"
              },
              "id": "e0917f48-6c03-4c9f-b76e-ac2ca8f58f42"
            }
          }
        },
        "289f607c-d43c-49fa-88d0-9dd7c0184a04": {
          "id": "289f607c-d43c-49fa-88d0-9dd7c0184a04",
          "prev": "321fa137-87fe-4a28-8bf7-c3d288bb1fc6",
          "regions": {
            "bb325ac8-881a-4aa6-acec-2b0af6308d5d": {
              "attrs": {
                "height": 0.8,
                "width": 0.8,
                "x": 0.1,
                "y": 0.1
              },
              "content": {
                "cell": "109eb28e-8e97-4bf0-903f-00833d9c4791",
                "part": "whole"
              },
              "id": "bb325ac8-881a-4aa6-acec-2b0af6308d5d"
            }
          }
        },
        "28e6e5e0-4c8d-480b-88c4-212bb8a9a5d3": {
          "id": "28e6e5e0-4c8d-480b-88c4-212bb8a9a5d3",
          "prev": "60dd0f4b-356d-4ef4-bb3d-27ee9e270764",
          "regions": {
            "daab678c-f5be-4d82-833c-60086152dd26": {
              "attrs": {
                "height": 0.8,
                "width": 0.8,
                "x": 0.1,
                "y": 0.1
              },
              "content": {
                "cell": "ec07b417-b92e-42a7-a1c8-fa4832d4c822",
                "part": "whole"
              },
              "id": "daab678c-f5be-4d82-833c-60086152dd26"
            }
          }
        },
        "2ae77d71-6509-49fb-9ae9-f1e2804b0280": {
          "id": "2ae77d71-6509-49fb-9ae9-f1e2804b0280",
          "prev": "c09ffc70-9a89-47e0-af7a-5a35e2a28fd0",
          "regions": {
            "49a88a01-bb79-43bb-8969-3b22b7e08664": {
              "attrs": {
                "height": 0.8,
                "width": 0.8,
                "x": 0.1,
                "y": 0.1
              },
              "content": {
                "cell": "c9e8fe37-37a3-4115-ab80-3cd84eb9b8af",
                "part": "whole"
              },
              "id": "49a88a01-bb79-43bb-8969-3b22b7e08664"
            }
          }
        },
        "2bef2c0c-989c-4d72-8825-8ad47d80f90e": {
          "id": "2bef2c0c-989c-4d72-8825-8ad47d80f90e",
          "prev": "4a92a331-95c3-499d-88c1-dbc638b055e6",
          "regions": {
            "05e7351b-0219-4234-9809-dc0f73804b4b": {
              "attrs": {
                "height": 0.8,
                "width": 0.8,
                "x": 0.1,
                "y": 0.1
              },
              "content": {
                "cell": "89700812-7d50-4838-bb93-bdfbdb7c5b90",
                "part": "whole"
              },
              "id": "05e7351b-0219-4234-9809-dc0f73804b4b"
            }
          }
        },
        "2d0fcc61-8e3f-4086-9ef6-1066462d3b1c": {
          "id": "2d0fcc61-8e3f-4086-9ef6-1066462d3b1c",
          "prev": "06a546d5-5101-425e-bedd-c0d0069b65b0",
          "regions": {
            "09a04fab-b8d4-4844-915b-2aa9906ce774": {
              "attrs": {
                "height": 0.8,
                "width": 0.8,
                "x": 0.1,
                "y": 0.1
              },
              "content": {
                "cell": "8d5c25d3-2e63-4b97-b0d1-b4d37c0fc569",
                "part": "whole"
              },
              "id": "09a04fab-b8d4-4844-915b-2aa9906ce774"
            }
          }
        },
        "2d694f08-bc0a-4a53-a2a0-9f0e9bd7882f": {
          "id": "2d694f08-bc0a-4a53-a2a0-9f0e9bd7882f",
          "prev": "51c2b6eb-da6f-4d26-940b-96e6da8eeba9",
          "regions": {
            "720e12ce-0278-40a3-bdbf-6f9b8e481656": {
              "attrs": {
                "height": 0.8,
                "width": 0.8,
                "x": 0.1,
                "y": 0.1
              },
              "content": {
                "cell": "91cdb793-af8b-4f5b-8481-52da23fcf225",
                "part": "whole"
              },
              "id": "720e12ce-0278-40a3-bdbf-6f9b8e481656"
            }
          }
        },
        "2db7c0f2-c03b-45a0-b05b-d3dfed8ba720": {
          "id": "2db7c0f2-c03b-45a0-b05b-d3dfed8ba720",
          "prev": "eb3a9710-cde0-464f-b5b9-7765b7b8db24",
          "regions": {
            "6a932e59-8fff-443c-84c8-19740647c3f3": {
              "attrs": {
                "height": 0.8,
                "width": 0.8,
                "x": 0.1,
                "y": 0.1
              },
              "content": {
                "cell": "63b42c5c-ac60-4432-9197-ed176bf2d2e0",
                "part": "whole"
              },
              "id": "6a932e59-8fff-443c-84c8-19740647c3f3"
            }
          }
        },
        "2fbcddb0-dec0-427d-8b57-6b0012e2446b": {
          "id": "2fbcddb0-dec0-427d-8b57-6b0012e2446b",
          "prev": "8cb3cfdf-0617-4cc8-91d7-062d48995774",
          "regions": {
            "86a76ff1-1508-470e-8634-3e9fd6263f09": {
              "attrs": {
                "height": 0.8,
                "width": 0.8,
                "x": 0.1,
                "y": 0.1
              },
              "content": {
                "cell": "8fd90a74-8017-4d15-a2f3-fcfaa8ebe68a",
                "part": "whole"
              },
              "id": "86a76ff1-1508-470e-8634-3e9fd6263f09"
            }
          }
        },
        "2fdee9d1-218e-4614-9c26-c85a8539bedf": {
          "id": "2fdee9d1-218e-4614-9c26-c85a8539bedf",
          "prev": "48d4842a-1bff-4e13-b103-74f76aab740d",
          "regions": {
            "5ff315bd-ca4c-499a-ba4c-6417d8f0936d": {
              "attrs": {
                "height": 0.8,
                "width": 0.8,
                "x": 0.1,
                "y": 0.1
              },
              "content": {
                "cell": "efee25a2-6ed3-4714-a385-bb9efd904fc0",
                "part": "whole"
              },
              "id": "5ff315bd-ca4c-499a-ba4c-6417d8f0936d"
            }
          }
        },
        "300485de-75ad-4b69-8778-8c497e64b722": {
          "id": "300485de-75ad-4b69-8778-8c497e64b722",
          "prev": "9b473d4e-4d53-43f5-ba74-1a0597eb9aeb",
          "regions": {
            "f38a9eba-06e2-41c4-9972-7cb44fd4d8ff": {
              "attrs": {
                "height": 0.8,
                "width": 0.8,
                "x": 0.1,
                "y": 0.1
              },
              "content": {
                "cell": "b7cfeac3-fc87-43b7-9aee-ac056e860fdd",
                "part": "whole"
              },
              "id": "f38a9eba-06e2-41c4-9972-7cb44fd4d8ff"
            }
          }
        },
        "3090d9d4-1b3c-46fc-9832-3214854b933f": {
          "id": "3090d9d4-1b3c-46fc-9832-3214854b933f",
          "prev": "1295388d-039f-4755-a2eb-4624bc036880",
          "regions": {
            "fa8e0c0c-93d3-4c5d-8eb2-95d76a2662d5": {
              "attrs": {
                "height": 0.8,
                "width": 0.8,
                "x": 0.1,
                "y": 0.1
              },
              "content": {
                "cell": "639401fd-6ca8-4ae2-b72e-f0c0ff63caf4",
                "part": "whole"
              },
              "id": "fa8e0c0c-93d3-4c5d-8eb2-95d76a2662d5"
            }
          }
        },
        "314d18f5-4d2f-46ec-b983-9fa926bb6107": {
          "id": "314d18f5-4d2f-46ec-b983-9fa926bb6107",
          "prev": "5732d044-c90a-4dd3-b9c1-8b9ad80afc91",
          "regions": {
            "4dfbfd56-2bfc-4385-ae3b-06db31b5ae80": {
              "attrs": {
                "height": 0.8,
                "width": 0.8,
                "x": 0.1,
                "y": 0.1
              },
              "content": {
                "cell": "523df774-1955-4d98-894e-b0d4d7dc259a",
                "part": "whole"
              },
              "id": "4dfbfd56-2bfc-4385-ae3b-06db31b5ae80"
            }
          }
        },
        "3151943d-b59d-46ef-9cde-db0a0c80c566": {
          "id": "3151943d-b59d-46ef-9cde-db0a0c80c566",
          "prev": "7e20bb10-3c4f-4fc7-bb12-c2725a5e9b7b",
          "regions": {
            "2d8530be-b69f-4ca2-acf5-d42f33914026": {
              "attrs": {
                "height": 0.8,
                "width": 0.8,
                "x": 0.1,
                "y": 0.1
              },
              "content": {
                "cell": "9e8ce122-b1df-430b-b94c-2511fe66389f",
                "part": "whole"
              },
              "id": "2d8530be-b69f-4ca2-acf5-d42f33914026"
            }
          }
        },
        "31d2f052-8012-4c2c-97b9-e73514728490": {
          "id": "31d2f052-8012-4c2c-97b9-e73514728490",
          "prev": "39d20f40-f325-43a2-90c2-7ba71b11a38c",
          "regions": {
            "0d5494e7-ac8a-4a61-b8c9-8e03c9f6c5f6": {
              "attrs": {
                "height": 0.8,
                "width": 0.8,
                "x": 0.1,
                "y": 0.1
              },
              "content": {
                "cell": "f1b8a023-d45d-4766-bf4c-9837c745b049",
                "part": "whole"
              },
              "id": "0d5494e7-ac8a-4a61-b8c9-8e03c9f6c5f6"
            }
          }
        },
        "32049a90-1058-49e7-8011-1f4bc2020eb1": {
          "id": "32049a90-1058-49e7-8011-1f4bc2020eb1",
          "prev": "f5a7656f-b3db-4183-9c5d-281a9a4107f5",
          "regions": {
            "e9ff17cd-99f4-4adc-889d-a0a867e58aa2": {
              "attrs": {
                "height": 0.8,
                "width": 0.8,
                "x": 0.1,
                "y": 0.1
              },
              "content": {
                "cell": "e7025c1f-15be-41a8-b9fa-c08268a51664",
                "part": "whole"
              },
              "id": "e9ff17cd-99f4-4adc-889d-a0a867e58aa2"
            }
          }
        },
        "321fa137-87fe-4a28-8bf7-c3d288bb1fc6": {
          "id": "321fa137-87fe-4a28-8bf7-c3d288bb1fc6",
          "prev": "28542ec3-fe9a-4414-9f5c-5303725673f6",
          "regions": {
            "9f784c1d-8c68-4bb4-88a5-f60a8fce54b3": {
              "attrs": {
                "height": 0.8,
                "width": 0.8,
                "x": 0.1,
                "y": 0.1
              },
              "content": {
                "cell": "bffc6bc2-edc1-4542-9325-bf01bd11a2c2",
                "part": "whole"
              },
              "id": "9f784c1d-8c68-4bb4-88a5-f60a8fce54b3"
            }
          }
        },
        "32899dd6-8f34-4746-8da8-0ca3a9186a2e": {
          "id": "32899dd6-8f34-4746-8da8-0ca3a9186a2e",
          "prev": "74ce85d7-ac59-4cc2-9390-94a2fe729841",
          "regions": {
            "8eaaa377-3a49-43c2-ad03-8fe0938c96ef": {
              "attrs": {
                "height": 0.8,
                "width": 0.8,
                "x": 0.1,
                "y": 0.1
              },
              "content": {
                "cell": "1b7fbe54-966e-4a85-9498-23bce1b6c92a",
                "part": "whole"
              },
              "id": "8eaaa377-3a49-43c2-ad03-8fe0938c96ef"
            }
          }
        },
        "32f3a581-189b-4956-9b2f-007a62ae3696": {
          "id": "32f3a581-189b-4956-9b2f-007a62ae3696",
          "prev": "18af95f0-b62c-46b0-b821-b14db773c013",
          "regions": {
            "e61ee75a-423c-4a11-a7ed-a2a58642ad0b": {
              "attrs": {
                "height": 0.8,
                "width": 0.8,
                "x": 0.1,
                "y": 0.1
              },
              "content": {
                "cell": "168498ed-8edd-417e-9156-0cd544cb0677",
                "part": "whole"
              },
              "id": "e61ee75a-423c-4a11-a7ed-a2a58642ad0b"
            }
          }
        },
        "3371c111-ef6d-4e50-b086-dafb46c1820f": {
          "id": "3371c111-ef6d-4e50-b086-dafb46c1820f",
          "prev": "6cd922e2-553e-4278-a852-3c4d61f1c906",
          "regions": {
            "51fa7aa9-9c99-4f87-8e0b-0433031f7dca": {
              "attrs": {
                "height": 0.8,
                "width": 0.8,
                "x": 0.1,
                "y": 0.1
              },
              "content": {
                "cell": "68113591-507a-4c02-9133-3cb8142de227",
                "part": "whole"
              },
              "id": "51fa7aa9-9c99-4f87-8e0b-0433031f7dca"
            }
          }
        },
        "350078d1-cdee-4f48-b929-7fb2ffc2f3d0": {
          "id": "350078d1-cdee-4f48-b929-7fb2ffc2f3d0",
          "prev": "b59359ae-9735-4a22-a8e2-4d9cc9ffef09",
          "regions": {
            "07d9810b-37df-4d1d-a603-eda6734f94ea": {
              "attrs": {
                "height": 0.8,
                "width": 0.8,
                "x": 0.1,
                "y": 0.1
              },
              "content": {
                "cell": "be3ce681-c2f1-4b77-938b-d731ff638994",
                "part": "whole"
              },
              "id": "07d9810b-37df-4d1d-a603-eda6734f94ea"
            }
          }
        },
        "3581cd54-9198-4f26-b0ee-92fdf8d5090a": {
          "id": "3581cd54-9198-4f26-b0ee-92fdf8d5090a",
          "prev": "7a76fa27-83fe-4cc5-b7c8-68e20638cd66",
          "regions": {
            "06def8f8-0da3-4da3-ba3b-49cca82577da": {
              "attrs": {
                "height": 0.8,
                "width": 0.8,
                "x": 0.1,
                "y": 0.1
              },
              "content": {
                "cell": "c45f49f7-6e90-4f61-82ca-efc328cdb5ba",
                "part": "whole"
              },
              "id": "06def8f8-0da3-4da3-ba3b-49cca82577da"
            }
          }
        },
        "35e55e54-6678-40ca-a95e-f399c2d0cd71": {
          "id": "35e55e54-6678-40ca-a95e-f399c2d0cd71",
          "prev": "e175d6b9-455b-454a-a9f3-7c6bf98e0c63",
          "regions": {
            "e6404175-2c96-442f-82da-81aa44424298": {
              "attrs": {
                "height": 0.8,
                "width": 0.8,
                "x": 0.1,
                "y": 0.1
              },
              "content": {
                "cell": "7b76d25e-5dcb-4dc7-aa39-a17209cb47bc",
                "part": "whole"
              },
              "id": "e6404175-2c96-442f-82da-81aa44424298"
            }
          }
        },
        "3606b4c5-9574-4247-a5f3-3f79830f8426": {
          "id": "3606b4c5-9574-4247-a5f3-3f79830f8426",
          "prev": "a3cefd96-f1fe-4565-aea4-e1a5e23d2dd0",
          "regions": {
            "2f1ba5ef-9ede-4926-8348-220492579575": {
              "attrs": {
                "height": 0.8,
                "width": 0.8,
                "x": 0.1,
                "y": 0.1
              },
              "content": {
                "cell": "26072367-4f06-4cce-bab1-38b4d5b1e704",
                "part": "whole"
              },
              "id": "2f1ba5ef-9ede-4926-8348-220492579575"
            }
          }
        },
        "36621d11-05f4-4c7f-9296-c0b6a592bc0d": {
          "id": "36621d11-05f4-4c7f-9296-c0b6a592bc0d",
          "prev": "c3d85cf6-9086-430e-88b1-fadf52aaa9f5",
          "regions": {
            "469e8879-976b-42f6-af3c-4d2e3b375e6c": {
              "attrs": {
                "height": 0.8,
                "width": 0.8,
                "x": 0.1,
                "y": 0.1
              },
              "content": {
                "cell": "13c52b84-b3d3-4f35-810e-6aa04cc5f863",
                "part": "whole"
              },
              "id": "469e8879-976b-42f6-af3c-4d2e3b375e6c"
            }
          }
        },
        "36f7e31a-44e1-48a5-8d4f-9389c0dd1094": {
          "id": "36f7e31a-44e1-48a5-8d4f-9389c0dd1094",
          "prev": "f28c4ada-e14a-45a5-8ac6-19e63cc7994e",
          "regions": {
            "3a91a69c-42e4-4d39-9602-61b72672e1b0": {
              "attrs": {
                "height": 0.8,
                "width": 0.8,
                "x": 0.1,
                "y": 0.1
              },
              "content": {
                "cell": "612a4af9-ed41-494e-9891-95abc5499fd5",
                "part": "whole"
              },
              "id": "3a91a69c-42e4-4d39-9602-61b72672e1b0"
            }
          }
        },
        "37221ca9-2ab6-438f-a204-fc252e4bcb1b": {
          "id": "37221ca9-2ab6-438f-a204-fc252e4bcb1b",
          "prev": "5daa9c02-c5cb-41e9-9926-c187780a0f88",
          "regions": {
            "ac00c16c-32bf-4cab-9c4a-25272cb2dce5": {
              "attrs": {
                "height": 0.8,
                "width": 0.8,
                "x": 0.1,
                "y": 0.1
              },
              "content": {
                "cell": "7de123ee-afb9-43a6-a788-ba8259e43c10",
                "part": "whole"
              },
              "id": "ac00c16c-32bf-4cab-9c4a-25272cb2dce5"
            }
          }
        },
        "39d20f40-f325-43a2-90c2-7ba71b11a38c": {
          "id": "39d20f40-f325-43a2-90c2-7ba71b11a38c",
          "prev": "92c3d928-cd56-4168-81e4-3a33f4591d2d",
          "regions": {
            "baab3991-f84f-4397-a3b9-4df72e341ea9": {
              "attrs": {
                "height": 0.8,
                "width": 0.8,
                "x": 0.1,
                "y": 0.1
              },
              "content": {
                "cell": "c12fc9c5-518f-47d0-948d-c5a850738081",
                "part": "whole"
              },
              "id": "baab3991-f84f-4397-a3b9-4df72e341ea9"
            }
          }
        },
        "39ef00e8-4a0a-4665-b1cb-04f3b878ca8e": {
          "id": "39ef00e8-4a0a-4665-b1cb-04f3b878ca8e",
          "prev": "76674591-bc27-4971-9404-fad1395710c2",
          "regions": {
            "77540ab7-a078-48d8-8766-59cf8bc4939e": {
              "attrs": {
                "height": 0.8,
                "width": 0.8,
                "x": 0.1,
                "y": 0.1
              },
              "content": {
                "cell": "fa7444c4-04b5-48b9-a106-5cf38c24ca33",
                "part": "whole"
              },
              "id": "77540ab7-a078-48d8-8766-59cf8bc4939e"
            }
          }
        },
        "3a7fb726-2dea-4025-ab74-b6c9990721eb": {
          "id": "3a7fb726-2dea-4025-ab74-b6c9990721eb",
          "prev": "bd8689e6-1973-4d63-8d74-a50c9c0c7437",
          "regions": {
            "f538125c-95b1-45f1-b93b-61f49d38ec44": {
              "attrs": {
                "height": 0.8,
                "width": 0.8,
                "x": 0.1,
                "y": 0.1
              },
              "content": {
                "cell": "5bbce344-b8fe-4333-a1fa-c6c9e3cd7886",
                "part": "whole"
              },
              "id": "f538125c-95b1-45f1-b93b-61f49d38ec44"
            }
          }
        },
        "3b95d047-7768-489b-9027-111bdb2d588d": {
          "id": "3b95d047-7768-489b-9027-111bdb2d588d",
          "prev": "b4cb4f35-d317-4ea9-95e7-6dcf71e42760",
          "regions": {
            "f5ac7e35-f6d6-48be-b7c9-7b0a6ae8d693": {
              "attrs": {
                "height": 0.8,
                "width": 0.8,
                "x": 0.1,
                "y": 0.1
              },
              "content": {
                "cell": "f8be1526-d123-4fa1-bbee-34be53114801",
                "part": "whole"
              },
              "id": "f5ac7e35-f6d6-48be-b7c9-7b0a6ae8d693"
            }
          }
        },
        "3d66c30b-3f48-40c5-923c-812f0f91a66c": {
          "id": "3d66c30b-3f48-40c5-923c-812f0f91a66c",
          "prev": "c4f55b79-4247-4ecd-bd02-f8f4fb4fe5e2",
          "regions": {
            "24010b16-91a4-4b4c-a40b-afe3f05b1893": {
              "attrs": {
                "height": 0.8,
                "width": 0.8,
                "x": 0.1,
                "y": 0.1
              },
              "content": {
                "cell": "7d39c0ed-66cf-461c-9a35-c5dd1cc8d075",
                "part": "whole"
              },
              "id": "24010b16-91a4-4b4c-a40b-afe3f05b1893"
            }
          }
        },
        "3df3596a-2102-4a55-89ab-9086c719bba1": {
          "id": "3df3596a-2102-4a55-89ab-9086c719bba1",
          "prev": "ae40c4ca-c75a-446e-8294-fbfab3371ff7",
          "regions": {
            "11ac4e57-83de-4047-8220-e3bbaf83ebc5": {
              "attrs": {
                "height": 0.8,
                "width": 0.8,
                "x": 0.1,
                "y": 0.1
              },
              "content": {
                "cell": "ad7d42a5-0cb7-427b-a370-4c1669bd73dc",
                "part": "whole"
              },
              "id": "11ac4e57-83de-4047-8220-e3bbaf83ebc5"
            }
          }
        },
        "3f9c377e-3ba9-47a2-8f9a-6c6a3122f052": {
          "id": "3f9c377e-3ba9-47a2-8f9a-6c6a3122f052",
          "prev": "bcc4c953-4c12-441c-9751-2bc8129efc2c",
          "regions": {
            "4c5832c2-0803-4442-87a6-d30c6d392083": {
              "attrs": {
                "height": 0.8,
                "width": 0.8,
                "x": 0.1,
                "y": 0.1
              },
              "content": {
                "cell": "e7936ce1-7662-4c7b-bc7f-5d799fd735b7",
                "part": "whole"
              },
              "id": "4c5832c2-0803-4442-87a6-d30c6d392083"
            }
          }
        },
        "3f9e8fb2-0d87-4f6a-9441-f16d69def8f0": {
          "id": "3f9e8fb2-0d87-4f6a-9441-f16d69def8f0",
          "prev": "a6ee6f2a-7d6e-4d9c-8ad6-4511d93ca38f",
          "regions": {
            "31f4ceb6-b6f3-46e0-a519-23509e4c9741": {
              "attrs": {
                "height": 0.8,
                "width": 0.8,
                "x": 0.1,
                "y": 0.1
              },
              "content": {
                "cell": "de8005c3-e4b5-4a92-a1ca-2b9871cd8177",
                "part": "whole"
              },
              "id": "31f4ceb6-b6f3-46e0-a519-23509e4c9741"
            }
          }
        },
        "41922a37-7809-4305-a13f-8ca1137cf700": {
          "id": "41922a37-7809-4305-a13f-8ca1137cf700",
          "prev": "9a805bbe-2dbd-4ffa-b36c-faed094ddfc2",
          "regions": {
            "a7460046-feff-4c1a-836a-c608372f048c": {
              "attrs": {
                "height": 0.8,
                "width": 0.8,
                "x": 0.1,
                "y": 0.1
              },
              "content": {
                "cell": "4ec02e25-230b-4dc4-b93d-248362bb6668",
                "part": "whole"
              },
              "id": "a7460046-feff-4c1a-836a-c608372f048c"
            }
          }
        },
        "48d4842a-1bff-4e13-b103-74f76aab740d": {
          "id": "48d4842a-1bff-4e13-b103-74f76aab740d",
          "prev": "8a5e2c9d-f98c-43b2-bdf4-871a8d453c05",
          "regions": {
            "20d3599e-5c78-4d8f-b2bc-ae7eb22a663a": {
              "attrs": {
                "height": 0.8,
                "width": 0.8,
                "x": 0.1,
                "y": 0.1
              },
              "content": {
                "cell": "65d55d3d-83d3-4e07-a3ec-721e8b1f3b1f",
                "part": "whole"
              },
              "id": "20d3599e-5c78-4d8f-b2bc-ae7eb22a663a"
            }
          }
        },
        "48dc5465-d7fc-4b8c-aab1-a0dd5e70fd11": {
          "id": "48dc5465-d7fc-4b8c-aab1-a0dd5e70fd11",
          "prev": "f2aec887-b5c6-4392-8980-acc096112791",
          "regions": {
            "6d4936b9-2a59-4df2-b12d-80be5f164b16": {
              "attrs": {
                "height": 0.8,
                "width": 0.8,
                "x": 0.1,
                "y": 0.1
              },
              "content": {
                "cell": "c480956a-f07e-4f3f-b1d6-b7145915b97f",
                "part": "whole"
              },
              "id": "6d4936b9-2a59-4df2-b12d-80be5f164b16"
            }
          }
        },
        "49a10bef-c875-4842-8f82-531e22fcefa1": {
          "id": "49a10bef-c875-4842-8f82-531e22fcefa1",
          "prev": "54900b8c-dda8-4400-867b-02af91a72c86",
          "regions": {
            "33845892-3349-4582-97ff-35576036fd13": {
              "attrs": {
                "height": 0.8,
                "width": 0.8,
                "x": 0.1,
                "y": 0.1
              },
              "content": {
                "cell": "b5f57013-8166-47f0-a4b1-8eb34c0670d6",
                "part": "whole"
              },
              "id": "33845892-3349-4582-97ff-35576036fd13"
            }
          }
        },
        "4a92a331-95c3-499d-88c1-dbc638b055e6": {
          "id": "4a92a331-95c3-499d-88c1-dbc638b055e6",
          "prev": "26143843-c506-40ec-b0f1-e0b03d5aff8b",
          "regions": {
            "5fd770ab-8c4e-40c0-a93a-c1c4ccdc53ca": {
              "attrs": {
                "height": 0.8,
                "width": 0.8,
                "x": 0.1,
                "y": 0.1
              },
              "content": {
                "cell": "ef71dc6e-6241-4c9d-9c35-1b3570720607",
                "part": "whole"
              },
              "id": "5fd770ab-8c4e-40c0-a93a-c1c4ccdc53ca"
            }
          }
        },
        "4bd9978d-7f41-46de-ad22-53a6e6e23185": {
          "id": "4bd9978d-7f41-46de-ad22-53a6e6e23185",
          "prev": "fd0caf8a-3d5d-41f3-9caa-08c21b3f26a8",
          "regions": {
            "21a820f0-e149-4df7-af32-efd471c94808": {
              "attrs": {
                "height": 0.8,
                "width": 0.8,
                "x": 0.1,
                "y": 0.1
              },
              "content": {
                "cell": "492f5304-26dd-4e66-a053-7c971820b37f",
                "part": "whole"
              },
              "id": "21a820f0-e149-4df7-af32-efd471c94808"
            }
          }
        },
        "4c1fa7cf-0db7-40e4-aa77-2f9011b9ee4e": {
          "id": "4c1fa7cf-0db7-40e4-aa77-2f9011b9ee4e",
          "prev": "6ef059ce-1031-4305-84f9-11b2db6fbe67",
          "regions": {
            "53e1996c-f4a4-4362-b5b0-ef507a7b95a3": {
              "attrs": {
                "height": 0.8,
                "width": 0.8,
                "x": 0.1,
                "y": 0.1
              },
              "content": {
                "cell": "eb190480-c43c-45bb-aeca-695375f0d8e6",
                "part": "whole"
              },
              "id": "53e1996c-f4a4-4362-b5b0-ef507a7b95a3"
            }
          }
        },
        "4e3c853f-29e9-4a8f-95fe-97e3c3168b33": {
          "id": "4e3c853f-29e9-4a8f-95fe-97e3c3168b33",
          "prev": "f4a79847-e440-4549-ac36-12c5f7ae16cd",
          "regions": {
            "58211f9e-84d3-4276-a738-bc0423f25623": {
              "attrs": {
                "height": 0.8,
                "width": 0.8,
                "x": 0.1,
                "y": 0.1
              },
              "content": {
                "cell": "b596eaf7-4e10-464b-a6c9-bc6c7ea47c5c",
                "part": "whole"
              },
              "id": "58211f9e-84d3-4276-a738-bc0423f25623"
            }
          }
        },
        "51c2b6eb-da6f-4d26-940b-96e6da8eeba9": {
          "id": "51c2b6eb-da6f-4d26-940b-96e6da8eeba9",
          "prev": "3371c111-ef6d-4e50-b086-dafb46c1820f",
          "regions": {
            "e1f0d0df-de07-4135-8dde-293bff600cba": {
              "attrs": {
                "height": 0.8,
                "width": 0.8,
                "x": 0.1,
                "y": 0.1
              },
              "content": {
                "cell": "0266279b-0a9a-4625-bf56-25dcdc3ed960",
                "part": "whole"
              },
              "id": "e1f0d0df-de07-4135-8dde-293bff600cba"
            }
          }
        },
        "51f45016-1aa3-4c90-a62a-263522722566": {
          "id": "51f45016-1aa3-4c90-a62a-263522722566",
          "prev": "0be7bcc1-ec21-4dc5-a2aa-8949340fb4ee",
          "regions": {
            "707f7fdf-48c7-450d-b9f0-bc783d441ea8": {
              "attrs": {
                "height": 0.8,
                "width": 0.8,
                "x": 0.1,
                "y": 0.1
              },
              "content": {
                "cell": "27fe706c-9327-4844-9521-3e436c33a60c",
                "part": "whole"
              },
              "id": "707f7fdf-48c7-450d-b9f0-bc783d441ea8"
            }
          }
        },
        "52150835-89bf-4187-9ecd-71fb5344896c": {
          "id": "52150835-89bf-4187-9ecd-71fb5344896c",
          "prev": "54e70085-001f-4d0a-8a1f-795d1d4419d2",
          "regions": {
            "37b5dcad-166a-4d5b-b949-50233689d3d0": {
              "attrs": {
                "height": 0.8,
                "width": 0.8,
                "x": 0.1,
                "y": 0.1
              },
              "content": {
                "cell": "d871227b-d4dd-40c1-a5ad-9fa3f362b878",
                "part": "whole"
              },
              "id": "37b5dcad-166a-4d5b-b949-50233689d3d0"
            }
          }
        },
        "52601c7e-15d5-4080-88d4-d83f3c51d6e3": {
          "id": "52601c7e-15d5-4080-88d4-d83f3c51d6e3",
          "prev": "7afe4c69-ffae-4a44-aa14-bd9055531b66",
          "regions": {
            "d29a3773-e527-4504-a013-cd70626753b8": {
              "attrs": {
                "height": 0.8,
                "width": 0.8,
                "x": 0.1,
                "y": 0.1
              },
              "content": {
                "cell": "1fc321cc-0ece-41d5-8edd-d69203c65255",
                "part": "whole"
              },
              "id": "d29a3773-e527-4504-a013-cd70626753b8"
            }
          }
        },
        "52b84271-2424-430d-bf1e-78ad464466d8": {
          "id": "52b84271-2424-430d-bf1e-78ad464466d8",
          "prev": "9621d9cb-f173-44a8-80b6-d9a7eeda1035",
          "regions": {
            "d2a751f3-4607-40e0-8c6a-a0917c52a557": {
              "attrs": {
                "height": 0.8,
                "width": 0.8,
                "x": 0.1,
                "y": 0.1
              },
              "content": {
                "cell": "7de047d9-e444-4106-9e95-a6b86a0da0b6",
                "part": "whole"
              },
              "id": "d2a751f3-4607-40e0-8c6a-a0917c52a557"
            }
          }
        },
        "5320ff24-3d91-439d-ab6f-aaa8a39f37a7": {
          "id": "5320ff24-3d91-439d-ab6f-aaa8a39f37a7",
          "prev": "49a10bef-c875-4842-8f82-531e22fcefa1",
          "regions": {
            "8c2e941e-0bf7-4074-83f3-aa702dd7bc6f": {
              "attrs": {
                "height": 0.8,
                "width": 0.8,
                "x": 0.1,
                "y": 0.1
              },
              "content": {
                "cell": "3053de36-47f9-4381-8f4c-56a0dfeab6ba",
                "part": "whole"
              },
              "id": "8c2e941e-0bf7-4074-83f3-aa702dd7bc6f"
            }
          }
        },
        "536cb1fd-855a-4fc4-985c-68c23940d8de": {
          "id": "536cb1fd-855a-4fc4-985c-68c23940d8de",
          "prev": "1057ac0a-e317-4e89-a987-2e41ccf94195",
          "regions": {
            "25f8b79c-aac0-4713-a885-e49bef97674f": {
              "attrs": {
                "height": 0.8,
                "width": 0.8,
                "x": 0.1,
                "y": 0.1
              },
              "content": {
                "cell": "b2ac494e-375a-408d-ad93-9ee0de749a8c",
                "part": "whole"
              },
              "id": "25f8b79c-aac0-4713-a885-e49bef97674f"
            }
          }
        },
        "54900b8c-dda8-4400-867b-02af91a72c86": {
          "id": "54900b8c-dda8-4400-867b-02af91a72c86",
          "prev": "2d0fcc61-8e3f-4086-9ef6-1066462d3b1c",
          "regions": {
            "21ced09b-8c95-4c75-be15-249dbcc3c5fd": {
              "attrs": {
                "height": 0.8,
                "width": 0.8,
                "x": 0.1,
                "y": 0.1
              },
              "content": {
                "cell": "66bfcfea-981d-45e4-9746-66e647572cbe",
                "part": "whole"
              },
              "id": "21ced09b-8c95-4c75-be15-249dbcc3c5fd"
            }
          }
        },
        "54e70085-001f-4d0a-8a1f-795d1d4419d2": {
          "id": "54e70085-001f-4d0a-8a1f-795d1d4419d2",
          "prev": "b3078405-004d-40f7-b3f2-3038aff10da4",
          "regions": {
            "a6617617-6e98-45c0-bba6-6a08a43f4384": {
              "attrs": {
                "height": 0.8,
                "width": 0.8,
                "x": 0.1,
                "y": 0.1
              },
              "content": {
                "cell": "f102e256-50cc-43d9-94fc-7cb973bbbf9e",
                "part": "whole"
              },
              "id": "a6617617-6e98-45c0-bba6-6a08a43f4384"
            }
          }
        },
        "5532ce63-059b-4216-9065-4c46bd7d89f7": {
          "id": "5532ce63-059b-4216-9065-4c46bd7d89f7",
          "prev": "bf5506a3-80c6-4637-9532-8dc03c52b679",
          "regions": {
            "6c41faf5-64dc-41c7-a361-45b5595926fe": {
              "attrs": {
                "height": 0.8,
                "width": 0.8,
                "x": 0.1,
                "y": 0.1
              },
              "content": {
                "cell": "324f8ab4-47a7-47bb-809f-1086cf588822",
                "part": "whole"
              },
              "id": "6c41faf5-64dc-41c7-a361-45b5595926fe"
            }
          }
        },
        "55334915-ab75-465f-bf45-ce4dd13bbb20": {
          "id": "55334915-ab75-465f-bf45-ce4dd13bbb20",
          "prev": "f8392f0b-5089-4d5e-84eb-e1722a4c85aa",
          "regions": {
            "e8bb24be-40fa-4c98-8d15-c8b9cd53a12b": {
              "attrs": {
                "height": 0.8,
                "width": 0.8,
                "x": 0.1,
                "y": 0.1
              },
              "content": {
                "cell": "fa50d4c7-be82-44ce-9b8f-58da1fbd29da",
                "part": "whole"
              },
              "id": "e8bb24be-40fa-4c98-8d15-c8b9cd53a12b"
            }
          }
        },
        "5732d044-c90a-4dd3-b9c1-8b9ad80afc91": {
          "id": "5732d044-c90a-4dd3-b9c1-8b9ad80afc91",
          "prev": "76da24ba-b1a3-465e-8ff1-b21d5656834a",
          "regions": {
            "a7aaab41-a806-43da-a783-694e01564a3b": {
              "attrs": {
                "height": 0.8,
                "width": 0.8,
                "x": 0.1,
                "y": 0.1
              },
              "content": {
                "cell": "f7e8b4a4-6320-40f5-8a00-0c76efbb34c1",
                "part": "whole"
              },
              "id": "a7aaab41-a806-43da-a783-694e01564a3b"
            }
          }
        },
        "5836c36f-6255-49e8-9fda-bb25f10a071b": {
          "id": "5836c36f-6255-49e8-9fda-bb25f10a071b",
          "prev": "f7ddf4dc-80d7-481b-9d21-1166031f8c04",
          "regions": {
            "b8e002e3-79f6-44c6-94c0-d5904c22041d": {
              "attrs": {
                "height": 0.8,
                "width": 0.8,
                "x": 0.1,
                "y": 0.1
              },
              "content": {
                "cell": "7540392f-5b0c-4b3d-af05-d16b033e489f",
                "part": "whole"
              },
              "id": "b8e002e3-79f6-44c6-94c0-d5904c22041d"
            }
          }
        },
        "5daa9c02-c5cb-41e9-9926-c187780a0f88": {
          "id": "5daa9c02-c5cb-41e9-9926-c187780a0f88",
          "prev": "f0500b2c-de07-412a-b94d-39bd77c9f6e2",
          "regions": {
            "68650477-dbb3-4baa-bd85-f9c3109c1b1c": {
              "attrs": {
                "height": 0.8,
                "width": 0.8,
                "x": 0.1,
                "y": 0.1
              },
              "content": {
                "cell": "73248ff9-96ab-4911-a605-a2656df5439d",
                "part": "whole"
              },
              "id": "68650477-dbb3-4baa-bd85-f9c3109c1b1c"
            }
          }
        },
        "5f42ae8b-f65d-4b99-8eaf-520303ff95da": {
          "id": "5f42ae8b-f65d-4b99-8eaf-520303ff95da",
          "prev": "a70aa22d-70a4-4ef9-84ce-5abf64e9a9c4",
          "regions": {
            "931f438a-488f-41cd-953a-42b1f0d9f11b": {
              "attrs": {
                "height": 0.8,
                "width": 0.8,
                "x": 0.1,
                "y": 0.1
              },
              "content": {
                "cell": "04dd2699-7471-4328-9551-fd7d5b32d4f1",
                "part": "whole"
              },
              "id": "931f438a-488f-41cd-953a-42b1f0d9f11b"
            }
          }
        },
        "5fa00ae9-67e1-48af-b9f9-1c9dc6bd9cce": {
          "id": "5fa00ae9-67e1-48af-b9f9-1c9dc6bd9cce",
          "prev": "77589c9b-bb73-4c33-83fd-047927847b02",
          "regions": {
            "807b4cec-3b29-45ad-8115-781f575d01de": {
              "attrs": {
                "height": 0.8,
                "width": 0.8,
                "x": 0.1,
                "y": 0.1
              },
              "content": {
                "cell": "017f3b47-bcf8-4afb-a814-b39120867dc1",
                "part": "whole"
              },
              "id": "807b4cec-3b29-45ad-8115-781f575d01de"
            }
          }
        },
        "60dd0f4b-356d-4ef4-bb3d-27ee9e270764": {
          "id": "60dd0f4b-356d-4ef4-bb3d-27ee9e270764",
          "prev": "2833646f-f9fa-4e0a-ae67-9ca9475599ff",
          "regions": {
            "a8f2e928-cbb5-423f-9344-335d28663019": {
              "attrs": {
                "height": 0.8,
                "width": 0.8,
                "x": 0.1,
                "y": 0.1
              },
              "content": {
                "cell": "a29dec58-b4fc-47a5-ab7b-67529d16f9a7",
                "part": "whole"
              },
              "id": "a8f2e928-cbb5-423f-9344-335d28663019"
            }
          }
        },
        "617fab4d-071d-4b09-94eb-5b459e8fc76a": {
          "id": "617fab4d-071d-4b09-94eb-5b459e8fc76a",
          "prev": "781a3039-1217-4bad-82e2-8513482cf86d",
          "regions": {
            "1f0a7267-aa44-4a10-af11-4c6e111c94ea": {
              "attrs": {
                "height": 0.8,
                "width": 0.8,
                "x": 0.1,
                "y": 0.1
              },
              "content": {
                "cell": "79fef2fe-2980-4355-aa59-3220f463fffd",
                "part": "whole"
              },
              "id": "1f0a7267-aa44-4a10-af11-4c6e111c94ea"
            }
          }
        },
        "61f8bb5f-c885-4667-895f-1b4b168e915b": {
          "id": "61f8bb5f-c885-4667-895f-1b4b168e915b",
          "prev": "5fa00ae9-67e1-48af-b9f9-1c9dc6bd9cce",
          "regions": {
            "74ec2938-cfa3-41f1-8b64-a4f927be6a57": {
              "attrs": {
                "height": 0.8,
                "width": 0.8,
                "x": 0.1,
                "y": 0.1
              },
              "content": {
                "cell": "d7fdd4f8-cfe4-4d35-9027-04a8f895bd39",
                "part": "whole"
              },
              "id": "74ec2938-cfa3-41f1-8b64-a4f927be6a57"
            }
          }
        },
        "63b65a05-1500-4663-8a86-e90ae8d0892b": {
          "id": "63b65a05-1500-4663-8a86-e90ae8d0892b",
          "prev": "5320ff24-3d91-439d-ab6f-aaa8a39f37a7",
          "regions": {
            "27feddd7-a249-4a73-ab6a-db0a9889f568": {
              "attrs": {
                "height": 0.8,
                "width": 0.8,
                "x": 0.1,
                "y": 0.1
              },
              "content": {
                "cell": "7dd51bf0-751a-4a1f-8c11-8c92454ddfe8",
                "part": "whole"
              },
              "id": "27feddd7-a249-4a73-ab6a-db0a9889f568"
            }
          }
        },
        "646615f6-a696-4df9-b2bf-9fa4972a3fd6": {
          "id": "646615f6-a696-4df9-b2bf-9fa4972a3fd6",
          "prev": "a73bb454-1e38-4a4c-b86c-d53f515130ce",
          "regions": {
            "b3358fd4-f5dd-42f0-b606-b30815b7af87": {
              "attrs": {
                "height": 0.8,
                "width": 0.8,
                "x": 0.1,
                "y": 0.1
              },
              "content": {
                "cell": "489b9702-a852-4f72-b58d-d6fc4542e88d",
                "part": "whole"
              },
              "id": "b3358fd4-f5dd-42f0-b606-b30815b7af87"
            }
          }
        },
        "64aa93f7-d0a4-4f3f-9152-cb117c0d33d2": {
          "id": "64aa93f7-d0a4-4f3f-9152-cb117c0d33d2",
          "prev": "2fdee9d1-218e-4614-9c26-c85a8539bedf",
          "regions": {
            "5c3d01c1-2069-4eaf-ac4a-4fae65499b02": {
              "attrs": {
                "height": 0.8,
                "width": 0.8,
                "x": 0.1,
                "y": 0.1
              },
              "content": {
                "cell": "f3163aac-b6b4-4828-9fdc-0016831ba4c2",
                "part": "whole"
              },
              "id": "5c3d01c1-2069-4eaf-ac4a-4fae65499b02"
            }
          }
        },
        "65406cb9-9608-4b17-b14f-fe2d07d4636d": {
          "id": "65406cb9-9608-4b17-b14f-fe2d07d4636d",
          "prev": "61f8bb5f-c885-4667-895f-1b4b168e915b",
          "regions": {
            "7ffb80d4-6f0c-4f7d-a42c-9b1577ba91e6": {
              "attrs": {
                "height": 0.8,
                "width": 0.8,
                "x": 0.1,
                "y": 0.1
              },
              "content": {
                "cell": "31680d68-3153-4b2b-8b9d-79df2337e67d",
                "part": "whole"
              },
              "id": "7ffb80d4-6f0c-4f7d-a42c-9b1577ba91e6"
            }
          }
        },
        "657f5d9e-6d8b-4c8e-8e53-c964feee9c28": {
          "id": "657f5d9e-6d8b-4c8e-8e53-c964feee9c28",
          "prev": "65406cb9-9608-4b17-b14f-fe2d07d4636d",
          "regions": {
            "da2870d5-20a2-49ce-93ed-8012c1a26004": {
              "attrs": {
                "height": 0.8,
                "width": 0.8,
                "x": 0.1,
                "y": 0.1
              },
              "content": {
                "cell": "f71b60e9-e8e7-4b96-bc1c-a9fe3530798b",
                "part": "whole"
              },
              "id": "da2870d5-20a2-49ce-93ed-8012c1a26004"
            }
          }
        },
        "672389ae-de99-4fe6-b2d6-1ce85619871f": {
          "id": "672389ae-de99-4fe6-b2d6-1ce85619871f",
          "prev": "6a66570c-34cc-4d2c-bbf5-567ebefcf7e6",
          "regions": {
            "62f33897-0594-42b8-adac-65059f390ca5": {
              "attrs": {
                "height": 0.8,
                "width": 0.8,
                "x": 0.1,
                "y": 0.1
              },
              "content": {
                "cell": "0b5f5737-3bbf-4589-a0cf-cef8cc550611",
                "part": "whole"
              },
              "id": "62f33897-0594-42b8-adac-65059f390ca5"
            }
          }
        },
        "6723ae79-c149-46a7-98f9-d650c1fc7584": {
          "id": "6723ae79-c149-46a7-98f9-d650c1fc7584",
          "prev": "d3aadec2-8043-43db-9631-ed468c9eba61",
          "regions": {
            "8d5b41fa-f2d5-4e41-9a48-114aa859fbc6": {
              "attrs": {
                "height": 0.8,
                "width": 0.8,
                "x": 0.1,
                "y": 0.1
              },
              "content": {
                "cell": "a34f347c-3fa5-4963-b01e-db885c857a0b",
                "part": "whole"
              },
              "id": "8d5b41fa-f2d5-4e41-9a48-114aa859fbc6"
            }
          }
        },
        "6973a990-a560-45da-bf08-33dab23595da": {
          "id": "6973a990-a560-45da-bf08-33dab23595da",
          "prev": "901c592a-d3a7-47e0-9f8e-fd0e600082a2",
          "regions": {
            "f3e088d1-2ceb-4c2f-9394-6a07fe954713": {
              "attrs": {
                "height": 0.8,
                "width": 0.8,
                "x": 0.1,
                "y": 0.1
              },
              "content": {
                "cell": "a214414a-e9a8-4cb1-ac91-5105ffee0cd3",
                "part": "whole"
              },
              "id": "f3e088d1-2ceb-4c2f-9394-6a07fe954713"
            }
          }
        },
        "6a66570c-34cc-4d2c-bbf5-567ebefcf7e6": {
          "id": "6a66570c-34cc-4d2c-bbf5-567ebefcf7e6",
          "prev": "b66ac8ba-078b-4978-92e9-5b35d4dfb970",
          "regions": {
            "b6f5217b-78f0-40af-b4d0-321633012a8f": {
              "attrs": {
                "height": 0.8,
                "width": 0.8,
                "x": 0.1,
                "y": 0.1
              },
              "content": {
                "cell": "48e7cc35-f38e-41dd-9eec-aa4bea34d264",
                "part": "whole"
              },
              "id": "b6f5217b-78f0-40af-b4d0-321633012a8f"
            }
          }
        },
        "6ba1c3fb-c328-4093-8c6a-333576be8650": {
          "id": "6ba1c3fb-c328-4093-8c6a-333576be8650",
          "prev": "b511fcfd-7d0a-4e7a-b0c3-937156efc856",
          "regions": {
            "5cf3b2cd-8f01-4014-b850-049169f28dfb": {
              "attrs": {
                "height": 0.8,
                "width": 0.8,
                "x": 0.1,
                "y": 0.1
              },
              "content": {
                "cell": "ca81541f-0d79-497a-810d-412d08530efa",
                "part": "whole"
              },
              "id": "5cf3b2cd-8f01-4014-b850-049169f28dfb"
            }
          }
        },
        "6ccdc158-923a-414b-b053-08b1b4f605a6": {
          "id": "6ccdc158-923a-414b-b053-08b1b4f605a6",
          "prev": "657f5d9e-6d8b-4c8e-8e53-c964feee9c28",
          "regions": {
            "d011b3b4-3cd8-4963-86ed-e42046db7822": {
              "attrs": {
                "height": 0.8,
                "width": 0.8,
                "x": 0.1,
                "y": 0.1
              },
              "content": {
                "cell": "39dc5eff-394b-46b3-aa9d-55c70bbd9496",
                "part": "whole"
              },
              "id": "d011b3b4-3cd8-4963-86ed-e42046db7822"
            }
          }
        },
        "6cd922e2-553e-4278-a852-3c4d61f1c906": {
          "id": "6cd922e2-553e-4278-a852-3c4d61f1c906",
          "prev": "f7509fbd-ab9a-4911-9138-6b1af48f01f0",
          "regions": {
            "6478a5e9-757e-46dd-90fe-8612507d9b8b": {
              "attrs": {
                "height": 0.8,
                "width": 0.8,
                "x": 0.1,
                "y": 0.1
              },
              "content": {
                "cell": "a5b08f83-1ffd-4a88-941b-a8471101b857",
                "part": "whole"
              },
              "id": "6478a5e9-757e-46dd-90fe-8612507d9b8b"
            }
          }
        },
        "6d1530ec-0fc2-45ee-b1b6-60385c7ed2b7": {
          "id": "6d1530ec-0fc2-45ee-b1b6-60385c7ed2b7",
          "prev": "36621d11-05f4-4c7f-9296-c0b6a592bc0d",
          "regions": {
            "f25386c8-fbca-4090-aac7-87bebe945a9e": {
              "attrs": {
                "height": 0.8,
                "width": 0.8,
                "x": 0.1,
                "y": 0.1
              },
              "content": {
                "cell": "d26c7c8e-082f-4ab2-b241-bf80b58e2921",
                "part": "whole"
              },
              "id": "f25386c8-fbca-4090-aac7-87bebe945a9e"
            }
          }
        },
        "6d23e560-470b-43c3-a8e8-9132c5b81df2": {
          "id": "6d23e560-470b-43c3-a8e8-9132c5b81df2",
          "prev": "1d50f252-fd67-42e5-addf-3f9d7a28dd31",
          "regions": {
            "5533b4b8-f6e1-4aa8-857e-d6e225bbaed5": {
              "attrs": {
                "height": 0.8,
                "width": 0.8,
                "x": 0.1,
                "y": 0.1
              },
              "content": {
                "cell": "8c66301a-1f3a-4bc3-8f22-9fa545147e23",
                "part": "whole"
              },
              "id": "5533b4b8-f6e1-4aa8-857e-d6e225bbaed5"
            }
          }
        },
        "6ef059ce-1031-4305-84f9-11b2db6fbe67": {
          "id": "6ef059ce-1031-4305-84f9-11b2db6fbe67",
          "prev": "35e55e54-6678-40ca-a95e-f399c2d0cd71",
          "regions": {
            "fe173426-e849-4207-90bf-fc93106ab712": {
              "attrs": {
                "height": 0.8,
                "width": 0.8,
                "x": 0.1,
                "y": 0.1
              },
              "content": {
                "cell": "06b094bc-f809-4e9d-9317-467f755dfc7a",
                "part": "whole"
              },
              "id": "fe173426-e849-4207-90bf-fc93106ab712"
            }
          }
        },
        "70b54139-b705-4d90-97a8-dc907d239a9d": {
          "id": "70b54139-b705-4d90-97a8-dc907d239a9d",
          "prev": "3f9c377e-3ba9-47a2-8f9a-6c6a3122f052",
          "regions": {
            "1b015b3a-fbc5-4d33-8e1e-b9123642377d": {
              "attrs": {
                "height": 0.8,
                "width": 0.8,
                "x": 0.1,
                "y": 0.1
              },
              "content": {
                "cell": "b384626e-1dd5-4dff-a9a2-72130a5f0a49",
                "part": "whole"
              },
              "id": "1b015b3a-fbc5-4d33-8e1e-b9123642377d"
            }
          }
        },
        "71138d00-1de1-4255-b423-0fbca3e37521": {
          "id": "71138d00-1de1-4255-b423-0fbca3e37521",
          "prev": "3151943d-b59d-46ef-9cde-db0a0c80c566",
          "regions": {
            "3ec791e0-90c2-4bc0-9bf8-f09b654dec28": {
              "attrs": {
                "height": 0.8,
                "width": 0.8,
                "x": 0.1,
                "y": 0.1
              },
              "content": {
                "cell": "f416b77c-3817-4ba4-b076-8d065e53d09e",
                "part": "whole"
              },
              "id": "3ec791e0-90c2-4bc0-9bf8-f09b654dec28"
            }
          }
        },
        "730c66a5-e473-418e-a1fa-3ba3d7a1589a": {
          "id": "730c66a5-e473-418e-a1fa-3ba3d7a1589a",
          "prev": "ea102ea8-9425-4d87-8828-c84ad2a08d17",
          "regions": {
            "9812e8ad-8978-4e3a-af78-58107f51b18c": {
              "attrs": {
                "height": 0.8,
                "width": 0.8,
                "x": 0.1,
                "y": 0.1
              },
              "content": {
                "cell": "08f6f0c4-56ee-44a2-84f8-8fd6819a9d52",
                "part": "whole"
              },
              "id": "9812e8ad-8978-4e3a-af78-58107f51b18c"
            }
          }
        },
        "73aff777-27bc-4986-95a1-449531e033ff": {
          "id": "73aff777-27bc-4986-95a1-449531e033ff",
          "prev": "2db7c0f2-c03b-45a0-b05b-d3dfed8ba720",
          "regions": {
            "7432b002-bb52-4a0a-8308-31de294ed195": {
              "attrs": {
                "height": 0.8,
                "width": 0.8,
                "x": 0.1,
                "y": 0.1
              },
              "content": {
                "cell": "3e6e8dfd-88cb-472d-8c78-5ec174ea5193",
                "part": "whole"
              },
              "id": "7432b002-bb52-4a0a-8308-31de294ed195"
            }
          }
        },
        "749ea597-76ca-4863-a9cf-e9d2322a96a4": {
          "id": "749ea597-76ca-4863-a9cf-e9d2322a96a4",
          "prev": "ec81f128-c459-4126-b075-464ea504721f",
          "regions": {
            "24c005a3-e511-4ffc-a09f-5773a52904e7": {
              "attrs": {
                "height": 0.8,
                "width": 0.8,
                "x": 0.1,
                "y": 0.1
              },
              "content": {
                "cell": "ffb7631f-cc98-4285-9663-226c09fff590",
                "part": "whole"
              },
              "id": "24c005a3-e511-4ffc-a09f-5773a52904e7"
            }
          }
        },
        "74ce85d7-ac59-4cc2-9390-94a2fe729841": {
          "id": "74ce85d7-ac59-4cc2-9390-94a2fe729841",
          "prev": "3b95d047-7768-489b-9027-111bdb2d588d",
          "regions": {
            "03330b1a-8991-4121-85fe-f0bb9fa4f161": {
              "attrs": {
                "height": 0.8,
                "width": 0.8,
                "x": 0.1,
                "y": 0.1
              },
              "content": {
                "cell": "d903a44e-29bb-4898-b0f2-eba740edec3c",
                "part": "whole"
              },
              "id": "03330b1a-8991-4121-85fe-f0bb9fa4f161"
            }
          }
        },
        "752a273d-a6b1-45d0-a199-3507c7bd8015": {
          "id": "752a273d-a6b1-45d0-a199-3507c7bd8015",
          "prev": "996d17dd-79a6-44db-adfc-bb7b973b4ef8",
          "regions": {
            "4ea228be-8745-42c1-bc7f-b7154102535f": {
              "attrs": {
                "height": 0.8,
                "width": 0.8,
                "x": 0.1,
                "y": 0.1
              },
              "content": {
                "cell": "f57ff21a-61e6-4103-a2b0-bd02db094b1d",
                "part": "whole"
              },
              "id": "4ea228be-8745-42c1-bc7f-b7154102535f"
            }
          }
        },
        "76674591-bc27-4971-9404-fad1395710c2": {
          "id": "76674591-bc27-4971-9404-fad1395710c2",
          "prev": "bf4a26eb-4916-4837-8400-13dd88199482",
          "regions": {
            "946ae2ec-102e-40e7-ad50-830a814d45f4": {
              "attrs": {
                "height": 0.8,
                "width": 0.8,
                "x": 0.1,
                "y": 0.1
              },
              "content": {
                "cell": "ac73781f-1113-47c9-bc0b-ff1c6f328aa2",
                "part": "whole"
              },
              "id": "946ae2ec-102e-40e7-ad50-830a814d45f4"
            }
          }
        },
        "76da24ba-b1a3-465e-8ff1-b21d5656834a": {
          "id": "76da24ba-b1a3-465e-8ff1-b21d5656834a",
          "prev": "4bd9978d-7f41-46de-ad22-53a6e6e23185",
          "regions": {
            "39ed17a1-3a1f-47c5-aa11-68578ff1333d": {
              "attrs": {
                "height": 0.8,
                "width": 0.8,
                "x": 0.1,
                "y": 0.1
              },
              "content": {
                "cell": "190362e8-de5b-4221-8796-abe8c467029b",
                "part": "whole"
              },
              "id": "39ed17a1-3a1f-47c5-aa11-68578ff1333d"
            }
          }
        },
        "77589c9b-bb73-4c33-83fd-047927847b02": {
          "id": "77589c9b-bb73-4c33-83fd-047927847b02",
          "prev": "0912a4aa-0701-46df-b147-638a992ef413",
          "regions": {
            "585cb34f-eeab-4b6f-81e7-eedc3318a5d1": {
              "attrs": {
                "height": 0.8,
                "width": 0.8,
                "x": 0.1,
                "y": 0.1
              },
              "content": {
                "cell": "6418a920-9525-4608-992b-04e45e00bdb1",
                "part": "whole"
              },
              "id": "585cb34f-eeab-4b6f-81e7-eedc3318a5d1"
            }
          }
        },
        "77d3189f-afeb-4291-b996-5c7734014627": {
          "id": "77d3189f-afeb-4291-b996-5c7734014627",
          "prev": "237577b0-9379-4ce4-a171-3889a3d42450",
          "regions": {
            "60d61104-0186-49d6-a8bb-68be7b6b192f": {
              "attrs": {
                "height": 0.8,
                "width": 0.8,
                "x": 0.1,
                "y": 0.1
              },
              "content": {
                "cell": "10bbf32c-3190-4853-b5b7-47d3048a2732",
                "part": "whole"
              },
              "id": "60d61104-0186-49d6-a8bb-68be7b6b192f"
            }
          }
        },
        "781a3039-1217-4bad-82e2-8513482cf86d": {
          "id": "781a3039-1217-4bad-82e2-8513482cf86d",
          "prev": "219e1659-447c-44ee-935e-9ebb107df7b1",
          "regions": {
            "9aaf2157-6975-44b5-b43d-da6917a872b9": {
              "attrs": {
                "height": 0.8,
                "width": 0.8,
                "x": 0.1,
                "y": 0.1
              },
              "content": {
                "cell": "aabebd8c-9653-4790-a1ac-5d6416a6a875",
                "part": "whole"
              },
              "id": "9aaf2157-6975-44b5-b43d-da6917a872b9"
            }
          }
        },
        "79a73629-d762-416b-9467-88c351794011": {
          "id": "79a73629-d762-416b-9467-88c351794011",
          "prev": "01be6c68-04ad-49f2-a11f-c403f5356a5b",
          "regions": {
            "bfa17a0e-ff80-42b6-8da9-04f764583c63": {
              "attrs": {
                "height": 0.8,
                "width": 0.8,
                "x": 0.1,
                "y": 0.1
              },
              "content": {
                "cell": "aad3f184-80d5-4588-ad1e-748d2788acba",
                "part": "whole"
              },
              "id": "bfa17a0e-ff80-42b6-8da9-04f764583c63"
            }
          }
        },
        "7a76fa27-83fe-4cc5-b7c8-68e20638cd66": {
          "id": "7a76fa27-83fe-4cc5-b7c8-68e20638cd66",
          "prev": "b858d381-df63-4a3c-9d55-7e73b93e0437",
          "regions": {
            "c4819d08-4803-4654-99e9-17e40a0698a4": {
              "attrs": {
                "height": 0.8,
                "width": 0.8,
                "x": 0.1,
                "y": 0.1
              },
              "content": {
                "cell": "ce0f95d9-9fc1-4828-b70e-b99e91820cea",
                "part": "whole"
              },
              "id": "c4819d08-4803-4654-99e9-17e40a0698a4"
            }
          }
        },
        "7afe4c69-ffae-4a44-aa14-bd9055531b66": {
          "id": "7afe4c69-ffae-4a44-aa14-bd9055531b66",
          "prev": "3090d9d4-1b3c-46fc-9832-3214854b933f",
          "regions": {
            "dc09be74-d531-4567-a800-85b06bb94532": {
              "attrs": {
                "height": 0.8,
                "width": 0.8,
                "x": 0.1,
                "y": 0.1
              },
              "content": {
                "cell": "5330ac64-e0b5-4fac-985f-07849473b7fb",
                "part": "whole"
              },
              "id": "dc09be74-d531-4567-a800-85b06bb94532"
            }
          }
        },
        "7c31b579-08d3-455d-9e24-b4622e757c42": {
          "id": "7c31b579-08d3-455d-9e24-b4622e757c42",
          "prev": "8e70763d-0dc3-4b8f-b0cd-6a355f321e8e",
          "regions": {
            "b433e703-fa13-4132-9e8f-216f80321779": {
              "attrs": {
                "height": 0.8,
                "width": 0.8,
                "x": 0.1,
                "y": 0.1
              },
              "content": {
                "cell": "4ca86a90-74ed-42a2-a46d-a42d4a28ddb5",
                "part": "whole"
              },
              "id": "b433e703-fa13-4132-9e8f-216f80321779"
            }
          }
        },
        "7cfff8ad-751a-47bb-852c-5e133999003e": {
          "id": "7cfff8ad-751a-47bb-852c-5e133999003e",
          "prev": "a9e43937-4f0f-4fc5-b478-0526c408d310",
          "regions": {
            "95e424e4-139b-423f-987c-97bf7e09bea5": {
              "attrs": {
                "height": 0.8,
                "width": 0.8,
                "x": 0.1,
                "y": 0.1
              },
              "content": {
                "cell": "2fdb7722-0318-4e21-b4c5-59c4c55d1f6a",
                "part": "whole"
              },
              "id": "95e424e4-139b-423f-987c-97bf7e09bea5"
            }
          }
        },
        "7e20bb10-3c4f-4fc7-bb12-c2725a5e9b7b": {
          "id": "7e20bb10-3c4f-4fc7-bb12-c2725a5e9b7b",
          "prev": "beea1280-1505-4afa-9ce4-9717b54e32de",
          "regions": {
            "ab53ec5c-9e9b-4c17-8283-2e02f0b5236b": {
              "attrs": {
                "height": 0.8,
                "width": 0.8,
                "x": 0.1,
                "y": 0.1
              },
              "content": {
                "cell": "053a878b-45b6-4880-8c45-d95f0ab23dc3",
                "part": "whole"
              },
              "id": "ab53ec5c-9e9b-4c17-8283-2e02f0b5236b"
            }
          }
        },
        "8202ef27-0cf2-47cd-8c6c-b4aa77d457b5": {
          "id": "8202ef27-0cf2-47cd-8c6c-b4aa77d457b5",
          "prev": "b6fb15a9-87e8-46f6-8963-e51cafeb24eb",
          "regions": {
            "d0f447af-a84a-4a25-b092-17dcd9d5df38": {
              "attrs": {
                "height": 0.8,
                "width": 0.8,
                "x": 0.1,
                "y": 0.1
              },
              "content": {
                "cell": "73667723-2bac-486f-ade3-aadcaac17ba8",
                "part": "whole"
              },
              "id": "d0f447af-a84a-4a25-b092-17dcd9d5df38"
            }
          }
        },
        "824afa7b-4073-40e6-a406-961f2d6c931a": {
          "id": "824afa7b-4073-40e6-a406-961f2d6c931a",
          "prev": "55334915-ab75-465f-bf45-ce4dd13bbb20",
          "regions": {
            "b64be922-96db-434d-8dd8-15bf4283c773": {
              "attrs": {
                "height": 0.8,
                "width": 0.8,
                "x": 0.1,
                "y": 0.1
              },
              "content": {
                "cell": "5daf2b81-614a-444e-b0ec-00d8a5ec0679",
                "part": "whole"
              },
              "id": "b64be922-96db-434d-8dd8-15bf4283c773"
            }
          }
        },
        "82a95c5c-b373-4466-b291-6d1b83ff157b": {
          "id": "82a95c5c-b373-4466-b291-6d1b83ff157b",
          "prev": "8202ef27-0cf2-47cd-8c6c-b4aa77d457b5",
          "regions": {
            "659b5e22-a8ad-428f-8ce1-5e63b0f7e1f1": {
              "attrs": {
                "height": 0.8,
                "width": 0.8,
                "x": 0.1,
                "y": 0.1
              },
              "content": {
                "cell": "73d03c54-b3c9-43fd-ba20-2ab6c9cc21ef",
                "part": "whole"
              },
              "id": "659b5e22-a8ad-428f-8ce1-5e63b0f7e1f1"
            }
          }
        },
        "82abee69-5d76-445e-9006-e8c61e48efa9": {
          "id": "82abee69-5d76-445e-9006-e8c61e48efa9",
          "prev": "e7d4c69d-affa-4a92-9734-980b2ea961e4",
          "regions": {
            "9ea2fe99-193f-4f38-970b-745a85be5787": {
              "attrs": {
                "height": 0.8,
                "width": 0.8,
                "x": 0.1,
                "y": 0.1
              },
              "content": {
                "cell": "327137d4-8ac4-48da-b1de-fb95c9f22935",
                "part": "whole"
              },
              "id": "9ea2fe99-193f-4f38-970b-745a85be5787"
            }
          }
        },
        "82e97888-e9e0-4c22-b092-c887e18f1fc7": {
          "id": "82e97888-e9e0-4c22-b092-c887e18f1fc7",
          "prev": "bcef0702-a96e-46dc-bf97-5d166243785a",
          "regions": {
            "be66ee27-d407-48cc-a42d-17e6984e7e98": {
              "attrs": {
                "height": 0.8,
                "width": 0.8,
                "x": 0.1,
                "y": 0.1
              },
              "content": {
                "cell": "963a3cc5-3883-435d-a090-afad780451ea",
                "part": "whole"
              },
              "id": "be66ee27-d407-48cc-a42d-17e6984e7e98"
            }
          }
        },
        "84512f96-37e9-4b37-96f6-5ebf1caabeb9": {
          "id": "84512f96-37e9-4b37-96f6-5ebf1caabeb9",
          "prev": "6d1530ec-0fc2-45ee-b1b6-60385c7ed2b7",
          "regions": {
            "fb1889c5-d156-43e9-a03c-349b1c8da8c7": {
              "attrs": {
                "height": 0.8,
                "width": 0.8,
                "x": 0.1,
                "y": 0.1
              },
              "content": {
                "cell": "9fa4d2a5-33d6-4bb3-bfb1-7420b65ce780",
                "part": "whole"
              },
              "id": "fb1889c5-d156-43e9-a03c-349b1c8da8c7"
            }
          }
        },
        "8644d6a0-50ea-4422-9b00-fa5370327161": {
          "id": "8644d6a0-50ea-4422-9b00-fa5370327161",
          "prev": "eb3383ef-efd6-4f32-a17c-86706a2c9e70",
          "regions": {
            "fae170f0-9617-40ce-ba81-f2dc480867aa": {
              "attrs": {
                "height": 0.8,
                "width": 0.8,
                "x": 0.1,
                "y": 0.1
              },
              "content": {
                "cell": "ae5280f0-4e1d-4dd9-8d4e-1a410802d866",
                "part": "whole"
              },
              "id": "fae170f0-9617-40ce-ba81-f2dc480867aa"
            }
          }
        },
        "86dab9e5-eecc-4cf9-a1af-fde6d423b7ed": {
          "id": "86dab9e5-eecc-4cf9-a1af-fde6d423b7ed",
          "prev": "6d23e560-470b-43c3-a8e8-9132c5b81df2",
          "regions": {
            "6c7fd9c1-b3aa-476e-8cc9-09f4a01c7e38": {
              "attrs": {
                "height": 0.8,
                "width": 0.8,
                "x": 0.1,
                "y": 0.1
              },
              "content": {
                "cell": "cb0573e7-b82a-4cc3-b287-b3f20f556602",
                "part": "whole"
              },
              "id": "6c7fd9c1-b3aa-476e-8cc9-09f4a01c7e38"
            }
          }
        },
        "87b350ac-1fb4-45d3-98a0-f3009b16688c": {
          "id": "87b350ac-1fb4-45d3-98a0-f3009b16688c",
          "prev": "09ad0890-ab5a-4ede-a8d2-fdbd43a5da21",
          "regions": {
            "a87aeab1-4939-493a-ae27-24bda10da071": {
              "attrs": {
                "height": 0.8,
                "width": 0.8,
                "x": 0.1,
                "y": 0.1
              },
              "content": {
                "cell": "af85dceb-79ef-44bc-bc5b-538a4aa0d9dd",
                "part": "whole"
              },
              "id": "a87aeab1-4939-493a-ae27-24bda10da071"
            }
          }
        },
        "8a5e2c9d-f98c-43b2-bdf4-871a8d453c05": {
          "id": "8a5e2c9d-f98c-43b2-bdf4-871a8d453c05",
          "prev": "cd193968-d054-4281-82e7-9b67f0f7506a",
          "regions": {
            "ba3e35c4-8e12-45a0-b893-77966dd08ff5": {
              "attrs": {
                "height": 0.8,
                "width": 0.8,
                "x": 0.1,
                "y": 0.1
              },
              "content": {
                "cell": "11f1de4a-fae8-4320-a8f2-b354c9dce5ab",
                "part": "whole"
              },
              "id": "ba3e35c4-8e12-45a0-b893-77966dd08ff5"
            }
          }
        },
        "8a747dec-9477-4833-8387-48be9167bc51": {
          "id": "8a747dec-9477-4833-8387-48be9167bc51",
          "prev": "39ef00e8-4a0a-4665-b1cb-04f3b878ca8e",
          "regions": {
            "e70a8ee5-d761-4e76-a1aa-10b41ae35f1f": {
              "attrs": {
                "height": 0.8,
                "width": 0.8,
                "x": 0.1,
                "y": 0.1
              },
              "content": {
                "cell": "b9b0414d-d865-4259-b25e-4d75950ffbb6",
                "part": "whole"
              },
              "id": "e70a8ee5-d761-4e76-a1aa-10b41ae35f1f"
            }
          }
        },
        "8af4f709-5c5a-49b1-8f9e-902050d1cc4b": {
          "id": "8af4f709-5c5a-49b1-8f9e-902050d1cc4b",
          "prev": "cffa440e-a953-4bd2-b8dc-aa3be1ceb06a",
          "regions": {
            "65448ccc-9258-4706-a7ff-4ac2cc88f27f": {
              "attrs": {
                "height": 0.8,
                "width": 0.8,
                "x": 0.1,
                "y": 0.1
              },
              "content": {
                "cell": "ead9d12e-2f48-40ae-aa08-91937fa9c740",
                "part": "whole"
              },
              "id": "65448ccc-9258-4706-a7ff-4ac2cc88f27f"
            }
          }
        },
        "8cb3cfdf-0617-4cc8-91d7-062d48995774": {
          "id": "8cb3cfdf-0617-4cc8-91d7-062d48995774",
          "prev": "1546c70e-083d-44d8-bbb6-40418d5847c9",
          "regions": {
            "87b7ca9e-604d-4187-83b4-b23e26847522": {
              "attrs": {
                "height": 0.8,
                "width": 0.8,
                "x": 0.1,
                "y": 0.1
              },
              "content": {
                "cell": "f1769803-ec75-4cfc-ba1b-cb1c5d88e891",
                "part": "whole"
              },
              "id": "87b7ca9e-604d-4187-83b4-b23e26847522"
            }
          }
        },
        "8df6e7ea-d1d4-43a0-b5a0-36381484fa55": {
          "id": "8df6e7ea-d1d4-43a0-b5a0-36381484fa55",
          "prev": "79a73629-d762-416b-9467-88c351794011",
          "regions": {
            "56216021-68d4-4ba6-a571-2ee97e684bfb": {
              "attrs": {
                "height": 0.8,
                "width": 0.8,
                "x": 0.1,
                "y": 0.1
              },
              "content": {
                "cell": "ef740481-c78b-42fa-af55-91140ed40b96",
                "part": "whole"
              },
              "id": "56216021-68d4-4ba6-a571-2ee97e684bfb"
            }
          }
        },
        "8e70763d-0dc3-4b8f-b0cd-6a355f321e8e": {
          "id": "8e70763d-0dc3-4b8f-b0cd-6a355f321e8e",
          "prev": "c6dda529-5d1e-4874-9de4-7a5fc92887c9",
          "regions": {
            "b01bc1f7-a0b8-4644-993b-fdbcdd57dffb": {
              "attrs": {
                "height": 0.8,
                "width": 0.8,
                "x": 0.1,
                "y": 0.1
              },
              "content": {
                "cell": "e906fa8c-b178-45b9-9591-31f3af9ac3ae",
                "part": "whole"
              },
              "id": "b01bc1f7-a0b8-4644-993b-fdbcdd57dffb"
            }
          }
        },
        "8edf096c-fd66-4960-b608-0e07dfe4b853": {
          "id": "8edf096c-fd66-4960-b608-0e07dfe4b853",
          "prev": "536cb1fd-855a-4fc4-985c-68c23940d8de",
          "regions": {
            "c160321f-499c-4358-92a8-aeabd4c15cf0": {
              "attrs": {
                "height": 0.8,
                "width": 0.8,
                "x": 0.1,
                "y": 0.1
              },
              "content": {
                "cell": "6852f07c-87ae-4102-9681-8d126cef3b64",
                "part": "whole"
              },
              "id": "c160321f-499c-4358-92a8-aeabd4c15cf0"
            }
          }
        },
        "901c592a-d3a7-47e0-9f8e-fd0e600082a2": {
          "id": "901c592a-d3a7-47e0-9f8e-fd0e600082a2",
          "prev": "b88945f4-1500-4483-80fe-bdad63d5e7b9",
          "regions": {
            "a02ff742-eb32-4a55-8906-9bda7b79acaa": {
              "attrs": {
                "height": 0.8,
                "width": 0.8,
                "x": 0.1,
                "y": 0.1
              },
              "content": {
                "cell": "34879198-e061-4749-9bd7-8e0a7820dcd1",
                "part": "whole"
              },
              "id": "a02ff742-eb32-4a55-8906-9bda7b79acaa"
            }
          }
        },
        "9143d20a-1225-4e20-bf84-20c6f4b0ed84": {
          "id": "9143d20a-1225-4e20-bf84-20c6f4b0ed84",
          "prev": "824afa7b-4073-40e6-a406-961f2d6c931a",
          "regions": {
            "c63d0430-7874-43cb-85a4-e2c35a74ccec": {
              "attrs": {
                "height": 0.8,
                "width": 0.8,
                "x": 0.1,
                "y": 0.1
              },
              "content": {
                "cell": "1bf2fcbc-20da-452c-a706-3a2a207f76fe",
                "part": "whole"
              },
              "id": "c63d0430-7874-43cb-85a4-e2c35a74ccec"
            }
          }
        },
        "92c16ae9-499b-4817-9b6f-f23d37da306f": {
          "id": "92c16ae9-499b-4817-9b6f-f23d37da306f",
          "prev": "6ba1c3fb-c328-4093-8c6a-333576be8650",
          "regions": {
            "6b489113-20d5-4780-8b41-0bd874a9cf16": {
              "attrs": {
                "height": 0.8,
                "width": 0.8,
                "x": 0.1,
                "y": 0.1
              },
              "content": {
                "cell": "674e3021-875b-435e-8df8-2f7728bb61fb",
                "part": "whole"
              },
              "id": "6b489113-20d5-4780-8b41-0bd874a9cf16"
            }
          }
        },
        "92c3d928-cd56-4168-81e4-3a33f4591d2d": {
          "id": "92c3d928-cd56-4168-81e4-3a33f4591d2d",
          "prev": "b2b399ef-9e14-4aff-b781-4bfac0bf3062",
          "regions": {
            "bf79b23c-7f77-492c-8fe0-6a45c22491d7": {
              "attrs": {
                "height": 0.8,
                "width": 0.8,
                "x": 0.1,
                "y": 0.1
              },
              "content": {
                "cell": "ce2fd30f-ea31-47c8-8509-e9978ff55d90",
                "part": "whole"
              },
              "id": "bf79b23c-7f77-492c-8fe0-6a45c22491d7"
            }
          }
        },
        "94893e4e-64c7-4293-988a-943388cac9bf": {
          "id": "94893e4e-64c7-4293-988a-943388cac9bf",
          "prev": "06a1b182-2897-4de1-b0a9-36a82fad7cff",
          "regions": {
            "30c71be9-6304-40d3-ab41-6ecb2d4b0034": {
              "attrs": {
                "height": 0.8,
                "width": 0.8,
                "x": 0.1,
                "y": 0.1
              },
              "content": {
                "cell": "f903d116-fd18-4cd9-b9bd-07ad6b3efbfe",
                "part": "whole"
              },
              "id": "30c71be9-6304-40d3-ab41-6ecb2d4b0034"
            }
          }
        },
        "95160d91-e989-42bb-a185-6f87cbe4085a": {
          "id": "95160d91-e989-42bb-a185-6f87cbe4085a",
          "prev": "c59492c2-c546-4cb4-ad68-ab01b72a19a0",
          "regions": {
            "6e1bfd9e-bde4-43bf-8237-a33f7e78472c": {
              "attrs": {
                "height": 0.8,
                "width": 0.8,
                "x": 0.1,
                "y": 0.1
              },
              "content": {
                "cell": "4a1a0340-f16f-4fff-8300-7985cc2225f1",
                "part": "whole"
              },
              "id": "6e1bfd9e-bde4-43bf-8237-a33f7e78472c"
            }
          }
        },
        "9621d9cb-f173-44a8-80b6-d9a7eeda1035": {
          "id": "9621d9cb-f173-44a8-80b6-d9a7eeda1035",
          "prev": "d8f917c5-3c25-4e5d-8787-f5a97f611806",
          "regions": {
            "149816f4-3146-4605-9d48-eab6f13cc263": {
              "attrs": {
                "height": 0.8,
                "width": 0.8,
                "x": 0.1,
                "y": 0.1
              },
              "content": {
                "cell": "b2c0caa5-83a1-41de-8ff3-143e37f568d7",
                "part": "whole"
              },
              "id": "149816f4-3146-4605-9d48-eab6f13cc263"
            }
          }
        },
        "996d17dd-79a6-44db-adfc-bb7b973b4ef8": {
          "id": "996d17dd-79a6-44db-adfc-bb7b973b4ef8",
          "prev": "32f3a581-189b-4956-9b2f-007a62ae3696",
          "regions": {
            "1acfcf92-bf8b-4eec-bedb-5e405552face": {
              "attrs": {
                "height": 0.8,
                "width": 0.8,
                "x": 0.1,
                "y": 0.1
              },
              "content": {
                "cell": "0b22ef6d-ad78-4da5-b382-bd6024782c6b",
                "part": "whole"
              },
              "id": "1acfcf92-bf8b-4eec-bedb-5e405552face"
            }
          }
        },
        "9a01ac20-f15f-4ac1-a3cc-0c3dacc13dcb": {
          "id": "9a01ac20-f15f-4ac1-a3cc-0c3dacc13dcb",
          "prev": "c543111d-333d-44fe-95c8-b433a7054ca0",
          "regions": {
            "4b2d1fc3-3fbd-43d5-85ce-98827a162dd7": {
              "attrs": {
                "height": 0.8,
                "width": 0.8,
                "x": 0.1,
                "y": 0.1
              },
              "content": {
                "cell": "8a16bfc5-6538-4f86-a158-0459665225c5",
                "part": "whole"
              },
              "id": "4b2d1fc3-3fbd-43d5-85ce-98827a162dd7"
            }
          }
        },
        "9a805bbe-2dbd-4ffa-b36c-faed094ddfc2": {
          "id": "9a805bbe-2dbd-4ffa-b36c-faed094ddfc2",
          "prev": "f6536e0e-5e5a-4eee-9d6d-a943c3cc2ad5",
          "regions": {
            "5e45103f-a131-4db3-9c9f-2be109a939b5": {
              "attrs": {
                "height": 0.8,
                "width": 0.8,
                "x": 0.1,
                "y": 0.1
              },
              "content": {
                "cell": "f3adbfa8-ca7a-4117-9f75-f4a12cfe7c80",
                "part": "whole"
              },
              "id": "5e45103f-a131-4db3-9c9f-2be109a939b5"
            }
          }
        },
        "9a8b4498-9695-435f-a578-f4dfd25b4505": {
          "id": "9a8b4498-9695-435f-a578-f4dfd25b4505",
          "prev": "c3d6e90c-e229-4fe6-a40e-0da2d6df6cd5",
          "regions": {
            "770832d6-11d9-4d7f-91c1-e541e8262b5b": {
              "attrs": {
                "height": 0.8,
                "width": 0.8,
                "x": 0.1,
                "y": 0.1
              },
              "content": {
                "cell": "1893445a-6068-4bfa-afdd-b95cbf4ab4b1",
                "part": "whole"
              },
              "id": "770832d6-11d9-4d7f-91c1-e541e8262b5b"
            }
          }
        },
        "9ab143f3-5fd8-42fb-81f8-b39715f598cb": {
          "id": "9ab143f3-5fd8-42fb-81f8-b39715f598cb",
          "prev": "adb9739f-dafb-4151-9574-7ad846682b8d",
          "regions": {
            "0c601893-1fe5-466b-bb92-764dc032184e": {
              "attrs": {
                "height": 0.8,
                "width": 0.8,
                "x": 0.1,
                "y": 0.1
              },
              "content": {
                "cell": "02b790d8-38c3-464b-8027-73b635ce8f34",
                "part": "whole"
              },
              "id": "0c601893-1fe5-466b-bb92-764dc032184e"
            }
          }
        },
        "9ad96f6c-983a-4919-9822-1b2d8bade635": {
          "id": "9ad96f6c-983a-4919-9822-1b2d8bade635",
          "prev": "f1b80262-7843-49cc-a5cd-4745b19f3978",
          "regions": {
            "bb9b6b85-2408-49f0-ae0e-d14d4c362744": {
              "attrs": {
                "height": 0.8,
                "width": 0.8,
                "x": 0.1,
                "y": 0.1
              },
              "content": {
                "cell": "cf24c377-9bd2-45b0-8047-b47072a5b706",
                "part": "whole"
              },
              "id": "bb9b6b85-2408-49f0-ae0e-d14d4c362744"
            }
          }
        },
        "9b473d4e-4d53-43f5-ba74-1a0597eb9aeb": {
          "id": "9b473d4e-4d53-43f5-ba74-1a0597eb9aeb",
          "prev": "b13fc7b4-cccf-4f26-9cfb-85f073784c87",
          "regions": {
            "4ccdae4f-e0d6-4ab8-87df-ef76037166fb": {
              "attrs": {
                "height": 0.8,
                "width": 0.8,
                "x": 0.1,
                "y": 0.1
              },
              "content": {
                "cell": "daad9c34-20d7-4214-906a-b9853876a577",
                "part": "whole"
              },
              "id": "4ccdae4f-e0d6-4ab8-87df-ef76037166fb"
            }
          }
        },
        "9d0d88b4-45f0-4790-987e-b2ce3ab1a53f": {
          "id": "9d0d88b4-45f0-4790-987e-b2ce3ab1a53f",
          "prev": "cad2458e-60f9-4611-be91-6e5aa882c1b0",
          "regions": {
            "5407d9f9-5d3e-40e5-baaf-21b138a04c3b": {
              "attrs": {
                "height": 0.8,
                "width": 0.8,
                "x": 0.1,
                "y": 0.1
              },
              "content": {
                "cell": "66eb7421-5131-4042-8663-19a471dc2060",
                "part": "whole"
              },
              "id": "5407d9f9-5d3e-40e5-baaf-21b138a04c3b"
            }
          }
        },
        "9f042143-b1aa-4385-a106-a812d2d80d53": {
          "id": "9f042143-b1aa-4385-a106-a812d2d80d53",
          "prev": "1f8ba1e9-da4c-482f-926a-b31103b4adaa",
          "regions": {
            "46d1cf6a-d743-44df-a75d-1763d59bbb07": {
              "attrs": {
                "height": 0.8,
                "width": 0.8,
                "x": 0.1,
                "y": 0.1
              },
              "content": {
                "cell": "cda671f2-a4f9-4be1-887e-826dc1481f68",
                "part": "whole"
              },
              "id": "46d1cf6a-d743-44df-a75d-1763d59bbb07"
            }
          }
        },
        "9fd31015-3316-497f-a195-85a06f1d6de9": {
          "id": "9fd31015-3316-497f-a195-85a06f1d6de9",
          "prev": "8edf096c-fd66-4960-b608-0e07dfe4b853",
          "regions": {
            "d508124f-1c02-47cc-9d75-d93888d0dd59": {
              "attrs": {
                "height": 0.8,
                "width": 0.8,
                "x": 0.1,
                "y": 0.1
              },
              "content": {
                "cell": "3d06c73d-3987-470b-933a-48f98fd8d538",
                "part": "whole"
              },
              "id": "d508124f-1c02-47cc-9d75-d93888d0dd59"
            }
          }
        },
        "a3cefd96-f1fe-4565-aea4-e1a5e23d2dd0": {
          "id": "a3cefd96-f1fe-4565-aea4-e1a5e23d2dd0",
          "prev": "3d66c30b-3f48-40c5-923c-812f0f91a66c",
          "regions": {
            "8de0d314-a6af-430a-899f-56d2dea88358": {
              "attrs": {
                "height": 0.8,
                "width": 0.8,
                "x": 0.1,
                "y": 0.1
              },
              "content": {
                "cell": "9c7bc1b2-d48d-44f6-a8a3-3915114885d2",
                "part": "whole"
              },
              "id": "8de0d314-a6af-430a-899f-56d2dea88358"
            }
          }
        },
        "a49ff41e-16f8-4551-bfa2-73f81f76498d": {
          "id": "a49ff41e-16f8-4551-bfa2-73f81f76498d",
          "prev": "b9ed625d-7924-4ce5-afb9-601b6aa35acd",
          "regions": {
            "f979439f-4de9-4453-9099-910d5e60b9f6": {
              "attrs": {
                "height": 0.8,
                "width": 0.8,
                "x": 0.1,
                "y": 0.1
              },
              "content": {
                "cell": "59061773-e9f5-4388-96d5-e161bef22e53",
                "part": "whole"
              },
              "id": "f979439f-4de9-4453-9099-910d5e60b9f6"
            }
          }
        },
        "a6ee6f2a-7d6e-4d9c-8ad6-4511d93ca38f": {
          "id": "a6ee6f2a-7d6e-4d9c-8ad6-4511d93ca38f",
          "prev": "b2d6f326-3aab-48a4-8fb3-ba664bd71f4c",
          "regions": {
            "29ebe7eb-bd8b-4b6a-b8a2-737ea35f320f": {
              "attrs": {
                "height": 0.8,
                "width": 0.8,
                "x": 0.1,
                "y": 0.1
              },
              "content": {
                "cell": "a4b6ebee-71e7-4bb6-9a0a-a6c8a791a9e2",
                "part": "whole"
              },
              "id": "29ebe7eb-bd8b-4b6a-b8a2-737ea35f320f"
            }
          }
        },
        "a70aa22d-70a4-4ef9-84ce-5abf64e9a9c4": {
          "id": "a70aa22d-70a4-4ef9-84ce-5abf64e9a9c4",
          "prev": "672389ae-de99-4fe6-b2d6-1ce85619871f",
          "regions": {
            "7c9f93fb-a606-4b90-b5f2-ea5cd2ccde81": {
              "attrs": {
                "height": 0.8,
                "width": 0.8,
                "x": 0.1,
                "y": 0.1
              },
              "content": {
                "cell": "6a6af860-e19e-42b1-a693-785086548e38",
                "part": "whole"
              },
              "id": "7c9f93fb-a606-4b90-b5f2-ea5cd2ccde81"
            }
          }
        },
        "a73bb454-1e38-4a4c-b86c-d53f515130ce": {
          "id": "a73bb454-1e38-4a4c-b86c-d53f515130ce",
          "prev": "ff697b9e-7715-4ae9-ab5d-0e81997651c1",
          "regions": {
            "23a06b6f-c655-4125-8138-217b3476ea41": {
              "attrs": {
                "height": 0.8,
                "width": 0.8,
                "x": 0.1,
                "y": 0.1
              },
              "content": {
                "cell": "f4f35f24-624c-40f7-a8bc-ebbfd24736b0",
                "part": "whole"
              },
              "id": "23a06b6f-c655-4125-8138-217b3476ea41"
            }
          }
        },
        "a74c845b-e00c-403b-9514-22f9dd3a0d28": {
          "id": "a74c845b-e00c-403b-9514-22f9dd3a0d28",
          "prev": "09785615-9da4-4e0c-bd42-618738d7ef5d",
          "regions": {
            "1f00f989-e8bb-4f57-9f76-495281c9ca46": {
              "attrs": {
                "height": 0.8,
                "width": 0.8,
                "x": 0.1,
                "y": 0.1
              },
              "content": {
                "cell": "c1f42511-fc6f-4e62-9cc5-1a72650b5845",
                "part": "whole"
              },
              "id": "1f00f989-e8bb-4f57-9f76-495281c9ca46"
            }
          }
        },
        "a817b08a-b639-4b8c-8574-78303a3846a4": {
          "id": "a817b08a-b639-4b8c-8574-78303a3846a4",
          "prev": "6723ae79-c149-46a7-98f9-d650c1fc7584",
          "regions": {
            "20abbc2e-86e7-4e46-bf1c-6ed666cc8e50": {
              "attrs": {
                "height": 0.8,
                "width": 0.8,
                "x": 0.1,
                "y": 0.1
              },
              "content": {
                "cell": "f2801b0a-a381-45c8-8c5e-85c24e53add2",
                "part": "whole"
              },
              "id": "20abbc2e-86e7-4e46-bf1c-6ed666cc8e50"
            }
          }
        },
        "a9e43937-4f0f-4fc5-b478-0526c408d310": {
          "id": "a9e43937-4f0f-4fc5-b478-0526c408d310",
          "prev": "e100e660-2a7e-4f4b-a42f-652b1e8bd4cb",
          "regions": {
            "fcbb24cb-5228-493b-873b-19d98f1b19d0": {
              "attrs": {
                "height": 0.8,
                "width": 0.8,
                "x": 0.1,
                "y": 0.1
              },
              "content": {
                "cell": "4a42d58e-2a89-4d18-aaad-438344bcf00a",
                "part": "whole"
              },
              "id": "fcbb24cb-5228-493b-873b-19d98f1b19d0"
            }
          }
        },
        "ab5420c9-04c6-44eb-92de-0380f1b100a7": {
          "id": "ab5420c9-04c6-44eb-92de-0380f1b100a7",
          "prev": "8af4f709-5c5a-49b1-8f9e-902050d1cc4b",
          "regions": {
            "b2deeacb-d5de-46f8-ae3b-1fc61f3a844a": {
              "attrs": {
                "height": 0.8,
                "width": 0.8,
                "x": 0.1,
                "y": 0.1
              },
              "content": {
                "cell": "8ac06314-7c46-48a5-a52f-1bc6751284b3",
                "part": "whole"
              },
              "id": "b2deeacb-d5de-46f8-ae3b-1fc61f3a844a"
            }
          }
        },
        "abc17b32-cb41-48f5-a46d-d1e5dd8f40e1": {
          "id": "abc17b32-cb41-48f5-a46d-d1e5dd8f40e1",
          "prev": "4c1fa7cf-0db7-40e4-aa77-2f9011b9ee4e",
          "regions": {
            "f0e9b089-f12f-4d0f-91f4-5b8c841bbf1a": {
              "attrs": {
                "height": 0.8,
                "width": 0.8,
                "x": 0.1,
                "y": 0.1
              },
              "content": {
                "cell": "f6529d8a-213f-404c-98f2-b4443139dd47",
                "part": "whole"
              },
              "id": "f0e9b089-f12f-4d0f-91f4-5b8c841bbf1a"
            }
          }
        },
        "adb9739f-dafb-4151-9574-7ad846682b8d": {
          "id": "adb9739f-dafb-4151-9574-7ad846682b8d",
          "prev": "82a95c5c-b373-4466-b291-6d1b83ff157b",
          "regions": {
            "2ecdb026-ea97-4567-a4ae-0d92d6f7f5bc": {
              "attrs": {
                "height": 0.8,
                "width": 0.8,
                "x": 0.1,
                "y": 0.1
              },
              "content": {
                "cell": "71bd750f-3f95-4aab-adfa-fa6a23a7cc16",
                "part": "whole"
              },
              "id": "2ecdb026-ea97-4567-a4ae-0d92d6f7f5bc"
            }
          }
        },
        "ae40c4ca-c75a-446e-8294-fbfab3371ff7": {
          "id": "ae40c4ca-c75a-446e-8294-fbfab3371ff7",
          "prev": "bbea5376-6998-4295-ab92-44f3baeabf39",
          "regions": {
            "eef525bb-f9dc-439c-b427-496cd716250b": {
              "attrs": {
                "height": 0.8,
                "width": 0.8,
                "x": 0.1,
                "y": 0.1
              },
              "content": {
                "cell": "46fee95c-764e-45f7-af46-e2567784af72",
                "part": "whole"
              },
              "id": "eef525bb-f9dc-439c-b427-496cd716250b"
            }
          }
        },
        "aebe8964-014c-4e68-8586-b66dff3e1d11": {
          "id": "aebe8964-014c-4e68-8586-b66dff3e1d11",
          "prev": "c93b2f0e-f7b9-45fd-872c-3d4b46b0d33a",
          "regions": {
            "f7b38816-a01f-4b86-b7fa-173ad99dba95": {
              "attrs": {
                "height": 0.8,
                "width": 0.8,
                "x": 0.1,
                "y": 0.1
              },
              "content": {
                "cell": "bdf5b188-38a6-4948-9aa7-954556372961",
                "part": "whole"
              },
              "id": "f7b38816-a01f-4b86-b7fa-173ad99dba95"
            }
          }
        },
        "aec73699-b126-4ddd-a0fe-fed510fc7c05": {
          "id": "aec73699-b126-4ddd-a0fe-fed510fc7c05",
          "prev": "d00784e3-4fde-4759-8017-859b730c7107",
          "regions": {
            "0b8d2b08-df67-4056-8791-103a174a1f74": {
              "attrs": {
                "height": 0.8,
                "width": 0.8,
                "x": 0.1,
                "y": 0.1
              },
              "content": {
                "cell": "e431758a-85a8-47d9-9bc0-e4d601d4db09",
                "part": "whole"
              },
              "id": "0b8d2b08-df67-4056-8791-103a174a1f74"
            }
          }
        },
        "af2df8d5-0ce6-4f50-8fd3-0fddc827b2a7": {
          "id": "af2df8d5-0ce6-4f50-8fd3-0fddc827b2a7",
          "prev": "48dc5465-d7fc-4b8c-aab1-a0dd5e70fd11",
          "regions": {
            "817d5771-42f7-43a1-9ab5-4f07d4f9697e": {
              "attrs": {
                "height": 0.8,
                "width": 0.8,
                "x": 0.1,
                "y": 0.1
              },
              "content": {
                "cell": "b74c816e-f318-42df-bfd8-3da96ccd3dd9",
                "part": "whole"
              },
              "id": "817d5771-42f7-43a1-9ab5-4f07d4f9697e"
            }
          }
        },
        "b13fc7b4-cccf-4f26-9cfb-85f073784c87": {
          "id": "b13fc7b4-cccf-4f26-9cfb-85f073784c87",
          "prev": "026ad1bb-bbb5-4911-a29a-2a31c6dd3d42",
          "regions": {
            "3607d6d8-d8c4-4980-8a4c-c622b768f3d6": {
              "attrs": {
                "height": 0.8,
                "width": 0.8,
                "x": 0.1,
                "y": 0.1
              },
              "content": {
                "cell": "c4907ac4-1274-41b8-abd7-81c6de45235e",
                "part": "whole"
              },
              "id": "3607d6d8-d8c4-4980-8a4c-c622b768f3d6"
            }
          }
        },
        "b17976b0-cab6-4dbc-b5db-fec819e17963": {
          "id": "b17976b0-cab6-4dbc-b5db-fec819e17963",
          "prev": "af2df8d5-0ce6-4f50-8fd3-0fddc827b2a7",
          "regions": {
            "77f2e8a5-3098-4609-b533-9e7812c8b51e": {
              "attrs": {
                "height": 0.8,
                "width": 0.8,
                "x": 0.1,
                "y": 0.1
              },
              "content": {
                "cell": "c7086339-eb51-4cae-82b5-6705df319230",
                "part": "whole"
              },
              "id": "77f2e8a5-3098-4609-b533-9e7812c8b51e"
            }
          }
        },
        "b1fe186d-b526-4dea-a598-7ab89acb7bd1": {
          "id": "b1fe186d-b526-4dea-a598-7ab89acb7bd1",
          "prev": "5f42ae8b-f65d-4b99-8eaf-520303ff95da",
          "regions": {
            "48a3138e-f180-41e0-b2df-168459d0521c": {
              "attrs": {
                "height": 0.8,
                "width": 0.8,
                "x": 0.1,
                "y": 0.1
              },
              "content": {
                "cell": "e34cc6cc-6420-414b-8514-8f57694090d1",
                "part": "whole"
              },
              "id": "48a3138e-f180-41e0-b2df-168459d0521c"
            }
          }
        },
        "b2b399ef-9e14-4aff-b781-4bfac0bf3062": {
          "id": "b2b399ef-9e14-4aff-b781-4bfac0bf3062",
          "prev": "004a6615-ad46-4dc1-98bf-9cf6ac61002b",
          "regions": {
            "399b3e78-c7a7-4d0e-9ebc-14d251e71376": {
              "attrs": {
                "height": 0.8,
                "width": 0.8,
                "x": 0.1,
                "y": 0.1
              },
              "content": {
                "cell": "b09d43cf-d07d-4b1f-9de4-f80b60064d24",
                "part": "whole"
              },
              "id": "399b3e78-c7a7-4d0e-9ebc-14d251e71376"
            }
          }
        },
        "b2d6f326-3aab-48a4-8fb3-ba664bd71f4c": {
          "id": "b2d6f326-3aab-48a4-8fb3-ba664bd71f4c",
          "prev": "d3410f19-5432-4612-989f-f10c5cc4a44d",
          "regions": {
            "2c39368d-be5e-42c7-81af-5a7659eb3504": {
              "attrs": {
                "height": 0.8,
                "width": 0.8,
                "x": 0.1,
                "y": 0.1
              },
              "content": {
                "cell": "6388bb1d-a6da-4b8d-9343-c9e36e961fcb",
                "part": "whole"
              },
              "id": "2c39368d-be5e-42c7-81af-5a7659eb3504"
            }
          }
        },
        "b3078405-004d-40f7-b3f2-3038aff10da4": {
          "id": "b3078405-004d-40f7-b3f2-3038aff10da4",
          "prev": "0ddaf2a6-3dc6-4ac7-b3cc-bd0c93a0ab5f",
          "regions": {
            "43420688-3c85-4c70-83a6-eeaf27fdee9d": {
              "attrs": {
                "height": 0.8,
                "width": 0.8,
                "x": 0.1,
                "y": 0.1
              },
              "content": {
                "cell": "89623b71-c0fe-41b4-8266-1fd88f4af845",
                "part": "whole"
              },
              "id": "43420688-3c85-4c70-83a6-eeaf27fdee9d"
            }
          }
        },
        "b44ea508-b605-40b2-87dc-6298f0c98fd0": {
          "id": "b44ea508-b605-40b2-87dc-6298f0c98fd0",
          "prev": "2ae77d71-6509-49fb-9ae9-f1e2804b0280",
          "regions": {
            "8695b62f-5349-41a4-9e9e-049e15dbe4e8": {
              "attrs": {
                "height": 0.8,
                "width": 0.8,
                "x": 0.1,
                "y": 0.1
              },
              "content": {
                "cell": "5a518f1c-dd28-47bb-9b5b-178f04a6948d",
                "part": "whole"
              },
              "id": "8695b62f-5349-41a4-9e9e-049e15dbe4e8"
            }
          }
        },
        "b4cb4f35-d317-4ea9-95e7-6dcf71e42760": {
          "id": "b4cb4f35-d317-4ea9-95e7-6dcf71e42760",
          "prev": "70b54139-b705-4d90-97a8-dc907d239a9d",
          "regions": {
            "7629dce9-4314-4e89-9860-84ab5d39afc0": {
              "attrs": {
                "height": 0.8,
                "width": 0.8,
                "x": 0.1,
                "y": 0.1
              },
              "content": {
                "cell": "f373ea96-a90d-403f-9444-c518dee60007",
                "part": "whole"
              },
              "id": "7629dce9-4314-4e89-9860-84ab5d39afc0"
            }
          }
        },
        "b511fcfd-7d0a-4e7a-b0c3-937156efc856": {
          "id": "b511fcfd-7d0a-4e7a-b0c3-937156efc856",
          "prev": "fec8363d-0549-4194-8e81-38bd3a4f034f",
          "regions": {
            "4c08d1e3-b9b2-4f78-8c80-bd2ca93dfc28": {
              "attrs": {
                "height": 0.8,
                "width": 0.8,
                "x": 0.1,
                "y": 0.1
              },
              "content": {
                "cell": "d9c79920-e088-4ca4-ba47-af5c814e1aaf",
                "part": "whole"
              },
              "id": "4c08d1e3-b9b2-4f78-8c80-bd2ca93dfc28"
            }
          }
        },
        "b59359ae-9735-4a22-a8e2-4d9cc9ffef09": {
          "id": "b59359ae-9735-4a22-a8e2-4d9cc9ffef09",
          "prev": "1330959f-cbe7-444f-b3d6-918f427d4771",
          "regions": {
            "d44a6c5b-db30-4119-a2bc-437ba37d4cfa": {
              "attrs": {
                "height": 0.8,
                "width": 0.8,
                "x": 0.1,
                "y": 0.1
              },
              "content": {
                "cell": "df60ef51-c70f-4dac-b97d-17e4b6bcd2ea",
                "part": "whole"
              },
              "id": "d44a6c5b-db30-4119-a2bc-437ba37d4cfa"
            }
          }
        },
        "b66ac8ba-078b-4978-92e9-5b35d4dfb970": {
          "id": "b66ac8ba-078b-4978-92e9-5b35d4dfb970",
          "prev": "6ccdc158-923a-414b-b053-08b1b4f605a6",
          "regions": {
            "58ce8c42-1946-4018-83c4-09c116f5664e": {
              "attrs": {
                "height": 0.8,
                "width": 0.8,
                "x": 0.1,
                "y": 0.1
              },
              "content": {
                "cell": "74f4ebb2-9114-405a-bed9-99bc525a78ad",
                "part": "whole"
              },
              "id": "58ce8c42-1946-4018-83c4-09c116f5664e"
            }
          }
        },
        "b6fb15a9-87e8-46f6-8963-e51cafeb24eb": {
          "id": "b6fb15a9-87e8-46f6-8963-e51cafeb24eb",
          "prev": "12f9d190-4f4e-496e-9eb3-28af41aa6c09",
          "regions": {
            "f44ca82b-95d5-4b0b-a4b8-4e4cd96b0819": {
              "attrs": {
                "height": 0.8,
                "width": 0.8,
                "x": 0.1,
                "y": 0.1
              },
              "content": {
                "cell": "8f6bd287-795c-414f-ac90-e22e4e76fe5a",
                "part": "whole"
              },
              "id": "f44ca82b-95d5-4b0b-a4b8-4e4cd96b0819"
            }
          }
        },
        "b795fbc1-8d3e-4329-bfda-7fc729633567": {
          "id": "b795fbc1-8d3e-4329-bfda-7fc729633567",
          "prev": "1a66efb8-7a57-4543-a31e-42fa1f104b06",
          "regions": {
            "abb0ce52-5780-4f2a-b053-cd9f07d07435": {
              "attrs": {
                "height": 0.8,
                "width": 0.8,
                "x": 0.1,
                "y": 0.1
              },
              "content": {
                "cell": "64ab70ce-331b-413a-be4c-684c867cc786",
                "part": "whole"
              },
              "id": "abb0ce52-5780-4f2a-b053-cd9f07d07435"
            }
          }
        },
        "b858d381-df63-4a3c-9d55-7e73b93e0437": {
          "id": "b858d381-df63-4a3c-9d55-7e73b93e0437",
          "prev": "32049a90-1058-49e7-8011-1f4bc2020eb1",
          "regions": {
            "67e0d518-3456-4f12-b9f6-9459690b5b63": {
              "attrs": {
                "height": 0.8,
                "width": 0.8,
                "x": 0.1,
                "y": 0.1
              },
              "content": {
                "cell": "b412697d-8109-4e03-8194-757e3f000fa1",
                "part": "whole"
              },
              "id": "67e0d518-3456-4f12-b9f6-9459690b5b63"
            }
          }
        },
        "b88945f4-1500-4483-80fe-bdad63d5e7b9": {
          "id": "b88945f4-1500-4483-80fe-bdad63d5e7b9",
          "prev": "749ea597-76ca-4863-a9cf-e9d2322a96a4",
          "regions": {
            "2d6b47bb-3c11-4951-bc30-970985574e30": {
              "attrs": {
                "height": 0.8,
                "width": 0.8,
                "x": 0.1,
                "y": 0.1
              },
              "content": {
                "cell": "8c96f42b-7142-4360-b36d-26baaec54605",
                "part": "whole"
              },
              "id": "2d6b47bb-3c11-4951-bc30-970985574e30"
            }
          }
        },
        "b9ed625d-7924-4ce5-afb9-601b6aa35acd": {
          "id": "b9ed625d-7924-4ce5-afb9-601b6aa35acd",
          "prev": "b17976b0-cab6-4dbc-b5db-fec819e17963",
          "regions": {
            "88679236-017b-43a4-903a-5267a2745814": {
              "attrs": {
                "height": 0.8,
                "width": 0.8,
                "x": 0.1,
                "y": 0.1
              },
              "content": {
                "cell": "ef5eba7e-f608-45b6-8d51-dba5b96aa568",
                "part": "whole"
              },
              "id": "88679236-017b-43a4-903a-5267a2745814"
            }
          }
        },
        "bbea5376-6998-4295-ab92-44f3baeabf39": {
          "id": "bbea5376-6998-4295-ab92-44f3baeabf39",
          "prev": "aebe8964-014c-4e68-8586-b66dff3e1d11",
          "regions": {
            "2898f9ed-281b-4e73-9afa-ea422b78404a": {
              "attrs": {
                "height": 0.8,
                "width": 0.8,
                "x": 0.1,
                "y": 0.1
              },
              "content": {
                "cell": "b5fca501-5a79-4e90-a6c9-185fc6cc4d73",
                "part": "whole"
              },
              "id": "2898f9ed-281b-4e73-9afa-ea422b78404a"
            }
          }
        },
        "bcc4c953-4c12-441c-9751-2bc8129efc2c": {
          "id": "bcc4c953-4c12-441c-9751-2bc8129efc2c",
          "prev": "efc4a985-5e68-4fbd-8080-57288a409a83",
          "regions": {
            "4e14f4f7-4df2-4a8a-bcad-6067b7803232": {
              "attrs": {
                "height": 0.8,
                "width": 0.8,
                "x": 0.1,
                "y": 0.1
              },
              "content": {
                "cell": "885a0783-9a6c-4faf-ae96-660ecdde504e",
                "part": "whole"
              },
              "id": "4e14f4f7-4df2-4a8a-bcad-6067b7803232"
            }
          }
        },
        "bcef0702-a96e-46dc-bf97-5d166243785a": {
          "id": "bcef0702-a96e-46dc-bf97-5d166243785a",
          "prev": "7c31b579-08d3-455d-9e24-b4622e757c42",
          "regions": {
            "d730733e-ad63-4dcf-8be9-6bed16f36659": {
              "attrs": {
                "height": 0.8,
                "width": 0.8,
                "x": 0.1,
                "y": 0.1
              },
              "content": {
                "cell": "cdda517f-7dda-4747-82fb-291fbdd34149",
                "part": "whole"
              },
              "id": "d730733e-ad63-4dcf-8be9-6bed16f36659"
            }
          }
        },
        "bd8689e6-1973-4d63-8d74-a50c9c0c7437": {
          "id": "bd8689e6-1973-4d63-8d74-a50c9c0c7437",
          "prev": "52b84271-2424-430d-bf1e-78ad464466d8",
          "regions": {
            "9baa6473-de46-4fa8-97a7-8063340c8ee3": {
              "attrs": {
                "height": 0.8,
                "width": 0.8,
                "x": 0.1,
                "y": 0.1
              },
              "content": {
                "cell": "096c7f0e-262d-4444-b6c3-0555b747e1dc",
                "part": "whole"
              },
              "id": "9baa6473-de46-4fa8-97a7-8063340c8ee3"
            }
          }
        },
        "beea1280-1505-4afa-9ce4-9717b54e32de": {
          "id": "beea1280-1505-4afa-9ce4-9717b54e32de",
          "prev": "87b350ac-1fb4-45d3-98a0-f3009b16688c",
          "regions": {
            "864185bf-3477-4adb-938b-eb2687ccdbde": {
              "attrs": {
                "height": 0.8,
                "width": 0.8,
                "x": 0.1,
                "y": 0.1
              },
              "content": {
                "cell": "18fa478a-80cb-47a5-ae5e-d861a083f7cd",
                "part": "whole"
              },
              "id": "864185bf-3477-4adb-938b-eb2687ccdbde"
            }
          }
        },
        "bf4a26eb-4916-4837-8400-13dd88199482": {
          "id": "bf4a26eb-4916-4837-8400-13dd88199482",
          "prev": "e9dd8ccc-0b19-471f-bb9c-2ea422268d3b",
          "regions": {
            "31786b1a-84c7-4e98-9670-b71da3e66a84": {
              "attrs": {
                "height": 0.8,
                "width": 0.8,
                "x": 0.1,
                "y": 0.1
              },
              "content": {
                "cell": "b47501ab-471f-48eb-b0e6-7f4d184c9e68",
                "part": "whole"
              },
              "id": "31786b1a-84c7-4e98-9670-b71da3e66a84"
            }
          }
        },
        "bf5506a3-80c6-4637-9532-8dc03c52b679": {
          "id": "bf5506a3-80c6-4637-9532-8dc03c52b679",
          "prev": "f0aaf0d8-4441-4919-a0d5-0622eb2a5d88",
          "regions": {
            "df3710a2-fc6b-4545-b820-a0ac1903e831": {
              "attrs": {
                "height": 0.8,
                "width": 0.8,
                "x": 0.1,
                "y": 0.1
              },
              "content": {
                "cell": "4f802045-1112-4c7f-b15c-50505922a612",
                "part": "whole"
              },
              "id": "df3710a2-fc6b-4545-b820-a0ac1903e831"
            }
          }
        },
        "bf9a6d66-d1e7-4558-9db2-aa2c5a08e272": {
          "id": "bf9a6d66-d1e7-4558-9db2-aa2c5a08e272",
          "prev": "52150835-89bf-4187-9ecd-71fb5344896c",
          "regions": {
            "f700b290-48f4-45fa-9a7c-4e0f2936e960": {
              "attrs": {
                "height": 0.8,
                "width": 0.8,
                "x": 0.1,
                "y": 0.1
              },
              "content": {
                "cell": "bafc5580-e051-4737-8631-2a8d3bf9c9cb",
                "part": "whole"
              },
              "id": "f700b290-48f4-45fa-9a7c-4e0f2936e960"
            }
          }
        },
        "c09ffc70-9a89-47e0-af7a-5a35e2a28fd0": {
          "id": "c09ffc70-9a89-47e0-af7a-5a35e2a28fd0",
          "prev": "224a84f3-8aff-4323-b700-18a00d294303",
          "regions": {
            "0175b09a-7ab2-4036-861b-aa8d50965f5e": {
              "attrs": {
                "height": 0.8,
                "width": 0.8,
                "x": 0.1,
                "y": 0.1
              },
              "content": {
                "cell": "06d21609-dc59-4651-afde-3c856ea50c4b",
                "part": "whole"
              },
              "id": "0175b09a-7ab2-4036-861b-aa8d50965f5e"
            }
          }
        },
        "c123838d-2802-46af-abc4-6d73c834211e": {
          "id": "c123838d-2802-46af-abc4-6d73c834211e",
          "prev": "9a8b4498-9695-435f-a578-f4dfd25b4505",
          "regions": {
            "826de304-6d5c-4ea3-b05c-cc2e5ec418b9": {
              "attrs": {
                "height": 0.8,
                "width": 0.8,
                "x": 0.1,
                "y": 0.1
              },
              "content": {
                "cell": "c29a5579-b0a2-4a06-be7f-1db061377fad",
                "part": "whole"
              },
              "id": "826de304-6d5c-4ea3-b05c-cc2e5ec418b9"
            }
          }
        },
        "c335e3f7-b9a2-4641-81ac-17109a291051": {
          "id": "c335e3f7-b9a2-4641-81ac-17109a291051",
          "prev": "09821c90-8644-4369-a270-d183b12af77d",
          "regions": {
            "46994dd7-4381-4056-8e01-1209c8397c09": {
              "attrs": {
                "height": 0.8,
                "width": 0.8,
                "x": 0.1,
                "y": 0.1
              },
              "content": {
                "cell": "fd47ed21-ae36-42ef-8019-6054f1ef7e36",
                "part": "whole"
              },
              "id": "46994dd7-4381-4056-8e01-1209c8397c09"
            }
          }
        },
        "c3d6e90c-e229-4fe6-a40e-0da2d6df6cd5": {
          "id": "c3d6e90c-e229-4fe6-a40e-0da2d6df6cd5",
          "prev": "3606b4c5-9574-4247-a5f3-3f79830f8426",
          "regions": {
            "c3c05357-f246-4abe-8e22-260b9e7fa92e": {
              "attrs": {
                "height": 0.8,
                "width": 0.8,
                "x": 0.1,
                "y": 0.1
              },
              "content": {
                "cell": "25fc0c20-2cce-4bf1-9067-d378139989c2",
                "part": "whole"
              },
              "id": "c3c05357-f246-4abe-8e22-260b9e7fa92e"
            }
          }
        },
        "c3d85cf6-9086-430e-88b1-fadf52aaa9f5": {
          "id": "c3d85cf6-9086-430e-88b1-fadf52aaa9f5",
          "prev": "37221ca9-2ab6-438f-a204-fc252e4bcb1b",
          "regions": {
            "11b2b4b0-a502-48bc-a2cb-9f4b4d95bba7": {
              "attrs": {
                "height": 0.8,
                "width": 0.8,
                "x": 0.1,
                "y": 0.1
              },
              "content": {
                "cell": "3a9f4b8f-1fb1-4118-9d75-e7a6dfd45e73",
                "part": "whole"
              },
              "id": "11b2b4b0-a502-48bc-a2cb-9f4b4d95bba7"
            }
          }
        },
        "c4be363c-01fe-4b2b-99c9-23eee8ae4c27": {
          "id": "c4be363c-01fe-4b2b-99c9-23eee8ae4c27",
          "prev": "617fab4d-071d-4b09-94eb-5b459e8fc76a",
          "regions": {
            "5736043d-2749-4399-9faf-0f1b741b14bb": {
              "attrs": {
                "height": 0.8,
                "width": 0.8,
                "x": 0.1,
                "y": 0.1
              },
              "content": {
                "cell": "b47792e1-4c92-4ce3-80b8-009184fdb22c",
                "part": "whole"
              },
              "id": "5736043d-2749-4399-9faf-0f1b741b14bb"
            }
          }
        },
        "c4f55b79-4247-4ecd-bd02-f8f4fb4fe5e2": {
          "id": "c4f55b79-4247-4ecd-bd02-f8f4fb4fe5e2",
          "prev": "1342dd1f-8dbe-4fef-ba33-1d42f69e8841",
          "regions": {
            "8cced576-fa99-4c29-90a6-016971250da9": {
              "attrs": {
                "height": 0.8,
                "width": 0.8,
                "x": 0.1,
                "y": 0.1
              },
              "content": {
                "cell": "c32528c1-b65c-4d07-ad63-656dd9f6ba38",
                "part": "whole"
              },
              "id": "8cced576-fa99-4c29-90a6-016971250da9"
            }
          }
        },
        "c543111d-333d-44fe-95c8-b433a7054ca0": {
          "id": "c543111d-333d-44fe-95c8-b433a7054ca0",
          "prev": "abc17b32-cb41-48f5-a46d-d1e5dd8f40e1",
          "regions": {
            "25ad7847-5135-4416-b65b-67103a58c82b": {
              "attrs": {
                "height": 0.8,
                "width": 0.8,
                "x": 0.1,
                "y": 0.1
              },
              "content": {
                "cell": "92fa093d-248c-4f8e-8b43-0c0e772b7c3c",
                "part": "whole"
              },
              "id": "25ad7847-5135-4416-b65b-67103a58c82b"
            }
          }
        },
        "c59492c2-c546-4cb4-ad68-ab01b72a19a0": {
          "id": "c59492c2-c546-4cb4-ad68-ab01b72a19a0",
          "prev": "a817b08a-b639-4b8c-8574-78303a3846a4",
          "regions": {
            "e37c5141-68d8-47a5-a634-28b2db070606": {
              "attrs": {
                "height": 0.8,
                "width": 0.8,
                "x": 0.1,
                "y": 0.1
              },
              "content": {
                "cell": "73f4bd90-1578-45f6-88ec-4e2cf26239e1",
                "part": "whole"
              },
              "id": "e37c5141-68d8-47a5-a634-28b2db070606"
            }
          }
        },
        "c6dda529-5d1e-4874-9de4-7a5fc92887c9": {
          "id": "c6dda529-5d1e-4874-9de4-7a5fc92887c9",
          "prev": "e7b1bad1-6b1c-4df4-a183-5f61d03ad8a3",
          "regions": {
            "98156c76-f2d8-4f94-afed-d22657754617": {
              "attrs": {
                "height": 0.8,
                "width": 0.8,
                "x": 0.1,
                "y": 0.1
              },
              "content": {
                "cell": "daee3ad5-0f22-44b2-b473-8980d1a58e53",
                "part": "whole"
              },
              "id": "98156c76-f2d8-4f94-afed-d22657754617"
            }
          }
        },
        "c70889ca-5824-45a6-96e1-17557b114f83": {
          "id": "c70889ca-5824-45a6-96e1-17557b114f83",
          "prev": "207f8462-0da1-40a3-9049-1d72b8a08c53",
          "regions": {
            "8aa6f768-ad47-4073-a9bd-6aa926e1b877": {
              "attrs": {
                "height": 0.8,
                "width": 0.8,
                "x": 0.1,
                "y": 0.1
              },
              "content": {
                "cell": "2ac6707f-b5c1-47c9-ad35-78e5e9b234a2",
                "part": "whole"
              },
              "id": "8aa6f768-ad47-4073-a9bd-6aa926e1b877"
            }
          }
        },
        "c93b2f0e-f7b9-45fd-872c-3d4b46b0d33a": {
          "id": "c93b2f0e-f7b9-45fd-872c-3d4b46b0d33a",
          "prev": "9f042143-b1aa-4385-a106-a812d2d80d53",
          "regions": {
            "f9117116-94e3-4fd7-9f40-d091ca3ede17": {
              "attrs": {
                "height": 0.8,
                "width": 0.8,
                "x": 0.1,
                "y": 0.1
              },
              "content": {
                "cell": "c14b788a-0686-4b19-b896-ddfa965039e7",
                "part": "whole"
              },
              "id": "f9117116-94e3-4fd7-9f40-d091ca3ede17"
            }
          }
        },
        "c9ece08c-b252-4b96-b33d-f07cfa1f8885": {
          "id": "c9ece08c-b252-4b96-b33d-f07cfa1f8885",
          "prev": "8644d6a0-50ea-4422-9b00-fa5370327161",
          "regions": {
            "8d50ad63-eeb0-4dbd-a196-c5951f6dd4cb": {
              "attrs": {
                "height": 0.8,
                "width": 0.8,
                "x": 0.1,
                "y": 0.1
              },
              "content": {
                "cell": "248b2673-a05f-447b-85ea-d537b8880f80",
                "part": "whole"
              },
              "id": "8d50ad63-eeb0-4dbd-a196-c5951f6dd4cb"
            }
          }
        },
        "cad2458e-60f9-4611-be91-6e5aa882c1b0": {
          "id": "cad2458e-60f9-4611-be91-6e5aa882c1b0",
          "prev": "a74c845b-e00c-403b-9514-22f9dd3a0d28",
          "regions": {
            "54bb80cd-2002-4cd2-9c15-4d4a8980f25a": {
              "attrs": {
                "height": 0.8,
                "width": 0.8,
                "x": 0.1,
                "y": 0.1
              },
              "content": {
                "cell": "5f2dd4a9-34e1-4b11-a609-5872b5388bae",
                "part": "whole"
              },
              "id": "54bb80cd-2002-4cd2-9c15-4d4a8980f25a"
            }
          }
        },
        "caffec0b-ccd7-4e82-930d-708d6a053d68": {
          "id": "caffec0b-ccd7-4e82-930d-708d6a053d68",
          "prev": "d5581167-706a-4f91-9d66-e96ecc831575",
          "regions": {
            "9c21b18d-5f6d-48cf-a34c-485387d47296": {
              "attrs": {
                "height": 0.8,
                "width": 0.8,
                "x": 0.1,
                "y": 0.1
              },
              "content": {
                "cell": "4dd2c3e0-83db-407b-aefa-b9dbb4fbb5fc",
                "part": "whole"
              },
              "id": "9c21b18d-5f6d-48cf-a34c-485387d47296"
            }
          }
        },
        "cbf5bb7d-888c-482e-9ff2-130dba1e17da": {
          "id": "cbf5bb7d-888c-482e-9ff2-130dba1e17da",
          "prev": "2d694f08-bc0a-4a53-a2a0-9f0e9bd7882f",
          "regions": {
            "888340a7-861f-4045-b92e-cbcadd881f0c": {
              "attrs": {
                "height": 0.8,
                "width": 0.8,
                "x": 0.1,
                "y": 0.1
              },
              "content": {
                "cell": "eeea493a-f604-4696-bc2f-6d3eccb0f586",
                "part": "whole"
              },
              "id": "888340a7-861f-4045-b92e-cbcadd881f0c"
            }
          }
        },
        "cc4a2253-7e6e-44ba-a18a-9124bf41b671": {
          "id": "cc4a2253-7e6e-44ba-a18a-9124bf41b671",
          "prev": "d056473e-611e-4186-8860-850b5218e338",
          "regions": {
            "7a7ca32b-56ff-4764-9b1b-cce4a989f957": {
              "attrs": {
                "height": 0.8,
                "width": 0.8,
                "x": 0.1,
                "y": 0.1
              },
              "content": {
                "cell": "68c0bf09-6eb0-4498-bd08-0ca334bc6e5b",
                "part": "whole"
              },
              "id": "7a7ca32b-56ff-4764-9b1b-cce4a989f957"
            }
          }
        },
        "cd193968-d054-4281-82e7-9b67f0f7506a": {
          "id": "cd193968-d054-4281-82e7-9b67f0f7506a",
          "prev": "31d2f052-8012-4c2c-97b9-e73514728490",
          "regions": {
            "acce619e-8d35-427d-85b2-37c9d7052218": {
              "attrs": {
                "height": 0.8,
                "width": 0.8,
                "x": 0.1,
                "y": 0.1
              },
              "content": {
                "cell": "833f47d2-576a-43bf-8d85-3f853b9a3be3",
                "part": "whole"
              },
              "id": "acce619e-8d35-427d-85b2-37c9d7052218"
            }
          }
        },
        "cffa440e-a953-4bd2-b8dc-aa3be1ceb06a": {
          "id": "cffa440e-a953-4bd2-b8dc-aa3be1ceb06a",
          "prev": "84512f96-37e9-4b37-96f6-5ebf1caabeb9",
          "regions": {
            "0e5143ba-4295-4ba5-aebb-0b3e99a6b219": {
              "attrs": {
                "height": 0.8,
                "width": 0.8,
                "x": 0.1,
                "y": 0.1
              },
              "content": {
                "cell": "bf3837bf-52b7-47e7-bce9-f48449c70288",
                "part": "whole"
              },
              "id": "0e5143ba-4295-4ba5-aebb-0b3e99a6b219"
            }
          }
        },
        "d00784e3-4fde-4759-8017-859b730c7107": {
          "id": "d00784e3-4fde-4759-8017-859b730c7107",
          "prev": "77d3189f-afeb-4291-b996-5c7734014627",
          "regions": {
            "d5e5245a-0f21-42bb-bf98-c3d863443e76": {
              "attrs": {
                "height": 0.8,
                "width": 0.8,
                "x": 0.1,
                "y": 0.1
              },
              "content": {
                "cell": "4530b23b-2318-4409-921f-8ee2dc665327",
                "part": "whole"
              },
              "id": "d5e5245a-0f21-42bb-bf98-c3d863443e76"
            }
          }
        },
        "d056473e-611e-4186-8860-850b5218e338": {
          "id": "d056473e-611e-4186-8860-850b5218e338",
          "prev": "14bb0be7-7959-4163-bc6d-5f77eb8e4fcc",
          "regions": {
            "9bf0de1b-f282-4044-aecb-cd1570954450": {
              "attrs": {
                "height": 0.8,
                "width": 0.8,
                "x": 0.1,
                "y": 0.1
              },
              "content": {
                "cell": "a806af30-5593-4124-8bb7-d458c2853ad8",
                "part": "whole"
              },
              "id": "9bf0de1b-f282-4044-aecb-cd1570954450"
            }
          }
        },
        "d3410f19-5432-4612-989f-f10c5cc4a44d": {
          "id": "d3410f19-5432-4612-989f-f10c5cc4a44d",
          "prev": "ab5420c9-04c6-44eb-92de-0380f1b100a7",
          "regions": {
            "a2e8aeb9-7f9d-4b4e-80db-88409dac3a15": {
              "attrs": {
                "height": 0.8,
                "width": 0.8,
                "x": 0.1,
                "y": 0.1
              },
              "content": {
                "cell": "a27c357b-88af-4112-a754-e11efa79dff2",
                "part": "whole"
              },
              "id": "a2e8aeb9-7f9d-4b4e-80db-88409dac3a15"
            }
          }
        },
        "d3a86a05-28d5-4035-aba6-6a7e40e4c59a": {
          "id": "d3a86a05-28d5-4035-aba6-6a7e40e4c59a",
          "prev": "d9ed6526-60f8-44ae-869b-8bc28496308c",
          "regions": {
            "891146ce-5788-4337-822c-b900d3009793": {
              "attrs": {
                "height": 0.8,
                "width": 0.8,
                "x": 0.1,
                "y": 0.1
              },
              "content": {
                "cell": "4f32ef1d-bbac-41a0-928b-75941eb6508c",
                "part": "whole"
              },
              "id": "891146ce-5788-4337-822c-b900d3009793"
            }
          }
        },
        "d3aadec2-8043-43db-9631-ed468c9eba61": {
          "id": "d3aadec2-8043-43db-9631-ed468c9eba61",
          "prev": "105092e3-9521-4e1b-925a-89fbea3bda08",
          "regions": {
            "948e30d2-5d8c-4167-a0c1-4282314b4bb7": {
              "attrs": {
                "height": 0.8,
                "width": 0.8,
                "x": 0.1,
                "y": 0.1
              },
              "content": {
                "cell": "1e16dc55-b746-4e32-a1d2-27b157651f9a",
                "part": "whole"
              },
              "id": "948e30d2-5d8c-4167-a0c1-4282314b4bb7"
            }
          }
        },
        "d5581167-706a-4f91-9d66-e96ecc831575": {
          "id": "d5581167-706a-4f91-9d66-e96ecc831575",
          "prev": "95160d91-e989-42bb-a185-6f87cbe4085a",
          "regions": {
            "a2f139b3-6d4c-4d1b-a821-6e3a38a83552": {
              "attrs": {
                "height": 0.8,
                "width": 0.8,
                "x": 0.1,
                "y": 0.1
              },
              "content": {
                "cell": "60b46d21-9ffe-496e-9245-20a5cac07ec9",
                "part": "whole"
              },
              "id": "a2f139b3-6d4c-4d1b-a821-6e3a38a83552"
            }
          }
        },
        "d55be3e8-b197-464c-b6f9-400658b15b99": {
          "id": "d55be3e8-b197-464c-b6f9-400658b15b99",
          "prev": "cbf5bb7d-888c-482e-9ff2-130dba1e17da",
          "regions": {
            "354afa69-9de4-4399-8661-8307fa464811": {
              "attrs": {
                "height": 0.8,
                "width": 0.8,
                "x": 0.1,
                "y": 0.1
              },
              "content": {
                "cell": "c2015789-2fd8-46d5-9d58-5291f8e895df",
                "part": "whole"
              },
              "id": "354afa69-9de4-4399-8661-8307fa464811"
            }
          }
        },
        "d8f917c5-3c25-4e5d-8787-f5a97f611806": {
          "id": "d8f917c5-3c25-4e5d-8787-f5a97f611806",
          "prev": "e0f8cf7c-ac61-4233-ad74-66e9bd92573a",
          "regions": {
            "a9159b4c-23ee-475e-b558-eeeb612de805": {
              "attrs": {
                "height": 0.8,
                "width": 0.8,
                "x": 0.1,
                "y": 0.1
              },
              "content": {
                "cell": "cd7cb1fc-aff2-4eb4-b96b-a136745c7758",
                "part": "whole"
              },
              "id": "a9159b4c-23ee-475e-b558-eeeb612de805"
            }
          }
        },
        "d9ed6526-60f8-44ae-869b-8bc28496308c": {
          "id": "d9ed6526-60f8-44ae-869b-8bc28496308c",
          "prev": "2238fd84-2a89-4544-a31e-be3956ed3f65",
          "regions": {
            "23139c2f-cd92-4e3f-b8ab-0387d994a22b": {
              "attrs": {
                "height": 0.8,
                "width": 0.8,
                "x": 0.1,
                "y": 0.1
              },
              "content": {
                "cell": "c8775c40-9bd4-4f67-95dc-5bd8649d797a",
                "part": "whole"
              },
              "id": "23139c2f-cd92-4e3f-b8ab-0387d994a22b"
            }
          }
        },
        "de87b522-18eb-4c18-a639-a6477f621358": {
          "id": "de87b522-18eb-4c18-a639-a6477f621358",
          "prev": "c4be363c-01fe-4b2b-99c9-23eee8ae4c27",
          "regions": {
            "8707c4e0-3fbb-428e-8a83-5e8c09f0b8ad": {
              "attrs": {
                "height": 0.8,
                "width": 0.8,
                "x": 0.1,
                "y": 0.1
              },
              "content": {
                "cell": "7b8b4fd8-4015-4b2b-bfd3-f0b070122358",
                "part": "whole"
              },
              "id": "8707c4e0-3fbb-428e-8a83-5e8c09f0b8ad"
            }
          }
        },
        "e0f8cf7c-ac61-4233-ad74-66e9bd92573a": {
          "id": "e0f8cf7c-ac61-4233-ad74-66e9bd92573a",
          "prev": "c123838d-2802-46af-abc4-6d73c834211e",
          "regions": {
            "ce3d0f40-b729-4a0c-8ff9-5ba4cd87f20e": {
              "attrs": {
                "height": 0.8,
                "width": 0.8,
                "x": 0.1,
                "y": 0.1
              },
              "content": {
                "cell": "39e3b2cc-4a74-4028-9d0f-ea409e237cb6",
                "part": "whole"
              },
              "id": "ce3d0f40-b729-4a0c-8ff9-5ba4cd87f20e"
            }
          }
        },
        "e100e660-2a7e-4f4b-a42f-652b1e8bd4cb": {
          "id": "e100e660-2a7e-4f4b-a42f-652b1e8bd4cb",
          "prev": "5836c36f-6255-49e8-9fda-bb25f10a071b",
          "regions": {
            "4c1d133e-d507-4f14-bf3d-adae7951259f": {
              "attrs": {
                "height": 0.8,
                "width": 0.8,
                "x": 0.1,
                "y": 0.1
              },
              "content": {
                "cell": "e7b1eeb3-a8bd-4612-a8b9-41ee0d6b816f",
                "part": "whole"
              },
              "id": "4c1d133e-d507-4f14-bf3d-adae7951259f"
            }
          }
        },
        "e175d6b9-455b-454a-a9f3-7c6bf98e0c63": {
          "id": "e175d6b9-455b-454a-a9f3-7c6bf98e0c63",
          "prev": "92c16ae9-499b-4817-9b6f-f23d37da306f",
          "regions": {
            "2d523948-92d7-4f27-a8c4-0da797d8412e": {
              "attrs": {
                "height": 0.8,
                "width": 0.8,
                "x": 0.1,
                "y": 0.1
              },
              "content": {
                "cell": "d5c73eec-9850-4af4-bfd5-f7fd6145cdd5",
                "part": "whole"
              },
              "id": "2d523948-92d7-4f27-a8c4-0da797d8412e"
            }
          }
        },
        "e351f550-b49a-44b8-8330-95433db27311": {
          "id": "e351f550-b49a-44b8-8330-95433db27311",
          "prev": "3df3596a-2102-4a55-89ab-9086c719bba1",
          "regions": {
            "fde67749-3358-4d9f-92e5-8c263842a6a0": {
              "attrs": {
                "height": 0.8,
                "width": 0.8,
                "x": 0.1,
                "y": 0.1
              },
              "content": {
                "cell": "842a7f12-4cb4-4f51-a169-3cc6438c8fce",
                "part": "whole"
              },
              "id": "fde67749-3358-4d9f-92e5-8c263842a6a0"
            }
          }
        },
        "e47cc9fe-a3f9-4235-bac6-317a74c7f123": {
          "id": "e47cc9fe-a3f9-4235-bac6-317a74c7f123",
          "prev": "8df6e7ea-d1d4-43a0-b5a0-36381484fa55",
          "regions": {
            "6850418e-02c4-45e3-9960-013f23ebf0eb": {
              "attrs": {
                "height": 0.8,
                "width": 0.8,
                "x": 0.1,
                "y": 0.1
              },
              "content": {
                "cell": "36af35f8-a4c7-47b9-b651-12e622d7bb17",
                "part": "whole"
              },
              "id": "6850418e-02c4-45e3-9960-013f23ebf0eb"
            }
          }
        },
        "e61374f0-3b22-46f1-8f83-d17fb10bba9a": {
          "id": "e61374f0-3b22-46f1-8f83-d17fb10bba9a",
          "prev": "289f607c-d43c-49fa-88d0-9dd7c0184a04",
          "regions": {
            "386f8ea0-d189-4323-9d31-00d1cf4de84c": {
              "attrs": {
                "height": 0.8,
                "width": 0.8,
                "x": 0.1,
                "y": 0.1
              },
              "content": {
                "cell": "659df50c-ff81-4722-b62a-148f602bc5d9",
                "part": "whole"
              },
              "id": "386f8ea0-d189-4323-9d31-00d1cf4de84c"
            }
          }
        },
        "e6736d98-e4ff-41c5-a42e-d6d7f4efc8d4": {
          "id": "e6736d98-e4ff-41c5-a42e-d6d7f4efc8d4",
          "prev": "86dab9e5-eecc-4cf9-a1af-fde6d423b7ed",
          "regions": {
            "87466626-9fe6-4c1d-95c1-c454427eaed6": {
              "attrs": {
                "height": 0.8,
                "width": 0.8,
                "x": 0.1,
                "y": 0.1
              },
              "content": {
                "cell": "8f774986-f8e7-421e-bcae-41248eb12237",
                "part": "whole"
              },
              "id": "87466626-9fe6-4c1d-95c1-c454427eaed6"
            }
          }
        },
        "e7b1bad1-6b1c-4df4-a183-5f61d03ad8a3": {
          "id": "e7b1bad1-6b1c-4df4-a183-5f61d03ad8a3",
          "prev": "73aff777-27bc-4986-95a1-449531e033ff",
          "regions": {
            "688cdac5-522f-4811-83ee-872a858241ac": {
              "attrs": {
                "height": 0.8,
                "width": 0.8,
                "x": 0.1,
                "y": 0.1
              },
              "content": {
                "cell": "ec1bca5f-3476-4abb-928f-6c071fac203a",
                "part": "whole"
              },
              "id": "688cdac5-522f-4811-83ee-872a858241ac"
            }
          }
        },
        "e7d4c69d-affa-4a92-9734-980b2ea961e4": {
          "id": "e7d4c69d-affa-4a92-9734-980b2ea961e4",
          "prev": "c335e3f7-b9a2-4641-81ac-17109a291051",
          "regions": {
            "d4c0fd28-4d88-4271-ba8e-9631dd82661d": {
              "attrs": {
                "height": 0.8,
                "width": 0.8,
                "x": 0.1,
                "y": 0.1
              },
              "content": {
                "cell": "54f2aafb-cf2d-4ca3-aeed-8b8e7640cf45",
                "part": "whole"
              },
              "id": "d4c0fd28-4d88-4271-ba8e-9631dd82661d"
            }
          }
        },
        "e8089ccf-9780-45a4-8545-41ee16b95fc8": {
          "id": "e8089ccf-9780-45a4-8545-41ee16b95fc8",
          "prev": "08319543-0934-425c-bded-1f53b270e762",
          "regions": {
            "16467331-bbe0-4861-8d93-04c47035ea83": {
              "attrs": {
                "height": 0.8,
                "width": 0.8,
                "x": 0.1,
                "y": 0.1
              },
              "content": {
                "cell": "dcaf4328-bf16-4cec-aa4b-e2b6b4c50dee",
                "part": "whole"
              },
              "id": "16467331-bbe0-4861-8d93-04c47035ea83"
            }
          }
        },
        "e9dd8ccc-0b19-471f-bb9c-2ea422268d3b": {
          "id": "e9dd8ccc-0b19-471f-bb9c-2ea422268d3b",
          "prev": "9fd31015-3316-497f-a195-85a06f1d6de9",
          "regions": {
            "0099ec07-cd64-41b8-bb9a-7661513d2d8b": {
              "attrs": {
                "height": 0.8,
                "width": 0.8,
                "x": 0.1,
                "y": 0.1
              },
              "content": {
                "cell": "020f7f43-2b88-4405-92ef-ae8fe3a82876",
                "part": "whole"
              },
              "id": "0099ec07-cd64-41b8-bb9a-7661513d2d8b"
            }
          }
        },
        "ea102ea8-9425-4d87-8828-c84ad2a08d17": {
          "id": "ea102ea8-9425-4d87-8828-c84ad2a08d17",
          "prev": "ef08a13f-ab39-431a-a883-d5a1d0979115",
          "regions": {
            "d2dfc434-647c-4a99-8a99-350f16c220f3": {
              "attrs": {
                "height": 0.8,
                "width": 0.8,
                "x": 0.1,
                "y": 0.1
              },
              "content": {
                "cell": "1857d521-2279-4511-856f-6bc397a31452",
                "part": "whole"
              },
              "id": "d2dfc434-647c-4a99-8a99-350f16c220f3"
            }
          }
        },
        "eb3383ef-efd6-4f32-a17c-86706a2c9e70": {
          "id": "eb3383ef-efd6-4f32-a17c-86706a2c9e70",
          "prev": "cc4a2253-7e6e-44ba-a18a-9124bf41b671",
          "regions": {
            "2461415a-b87a-461d-b4b5-db5681b11ed7": {
              "attrs": {
                "height": 0.8,
                "width": 0.8,
                "x": 0.1,
                "y": 0.1
              },
              "content": {
                "cell": "bf735d32-362d-455e-b9df-4881cfaaa8ff",
                "part": "whole"
              },
              "id": "2461415a-b87a-461d-b4b5-db5681b11ed7"
            }
          }
        },
        "eb3a9710-cde0-464f-b5b9-7765b7b8db24": {
          "id": "eb3a9710-cde0-464f-b5b9-7765b7b8db24",
          "prev": "9d0d88b4-45f0-4790-987e-b2ce3ab1a53f",
          "regions": {
            "653c5c81-f3fc-45c8-a662-554dcb5496b4": {
              "attrs": {
                "height": 0.8,
                "width": 0.8,
                "x": 0.1,
                "y": 0.1
              },
              "content": {
                "cell": "f51d54c3-3da0-463f-9207-c55646d93638",
                "part": "whole"
              },
              "id": "653c5c81-f3fc-45c8-a662-554dcb5496b4"
            }
          }
        },
        "ebf3e9eb-baea-4f4f-9a8b-77292d108134": {
          "id": "ebf3e9eb-baea-4f4f-9a8b-77292d108134",
          "prev": "f75b7002-9b03-4727-aa8e-268a25f592b5",
          "regions": {
            "d90977e1-42b4-40b3-bfa1-41d3d9902334": {
              "attrs": {
                "height": 0.8,
                "width": 0.8,
                "x": 0.1,
                "y": 0.1
              },
              "content": {
                "cell": "511b791a-d543-4b39-ab49-76606f09a777",
                "part": "whole"
              },
              "id": "d90977e1-42b4-40b3-bfa1-41d3d9902334"
            }
          }
        },
        "ec81f128-c459-4126-b075-464ea504721f": {
          "id": "ec81f128-c459-4126-b075-464ea504721f",
          "prev": "f1fda4f7-8e32-4ba4-89f9-355670bf7be7",
          "regions": {
            "9f52d9b1-4caf-4d5b-90f4-99bcba5eeec3": {
              "attrs": {
                "height": 0.8,
                "width": 0.8,
                "x": 0.1,
                "y": 0.1
              },
              "content": {
                "cell": "4f067f0f-f488-409b-bd2b-b56b87a767de",
                "part": "whole"
              },
              "id": "9f52d9b1-4caf-4d5b-90f4-99bcba5eeec3"
            }
          }
        },
        "ef08a13f-ab39-431a-a883-d5a1d0979115": {
          "id": "ef08a13f-ab39-431a-a883-d5a1d0979115",
          "prev": "3f9e8fb2-0d87-4f6a-9441-f16d69def8f0",
          "regions": {
            "dffd5d97-1658-4688-a712-b24dcdb1189e": {
              "attrs": {
                "height": 0.8,
                "width": 0.8,
                "x": 0.1,
                "y": 0.1
              },
              "content": {
                "cell": "bef7d30f-baee-47af-965c-37873897a3af",
                "part": "whole"
              },
              "id": "dffd5d97-1658-4688-a712-b24dcdb1189e"
            }
          }
        },
        "efc4a985-5e68-4fbd-8080-57288a409a83": {
          "id": "efc4a985-5e68-4fbd-8080-57288a409a83",
          "prev": "646615f6-a696-4df9-b2bf-9fa4972a3fd6",
          "regions": {
            "2e086e14-f3d9-4a15-a1c6-7b795e8122ee": {
              "attrs": {
                "height": 0.8,
                "width": 0.8,
                "x": 0.1,
                "y": 0.1
              },
              "content": {
                "cell": "07ff4a01-812a-4b08-9522-05bd79a74a48",
                "part": "whole"
              },
              "id": "2e086e14-f3d9-4a15-a1c6-7b795e8122ee"
            }
          }
        },
        "f0500b2c-de07-412a-b94d-39bd77c9f6e2": {
          "id": "f0500b2c-de07-412a-b94d-39bd77c9f6e2",
          "prev": "00c2ebfa-0100-4b40-a67e-6a32cfa48b22",
          "regions": {
            "0d601611-708c-44ac-b100-d9c571eb095a": {
              "attrs": {
                "height": 0.8,
                "width": 0.8,
                "x": 0.1,
                "y": 0.1
              },
              "content": {
                "cell": "fbfdb73b-42aa-4d6c-8607-de4d7e930345",
                "part": "whole"
              },
              "id": "0d601611-708c-44ac-b100-d9c571eb095a"
            }
          }
        },
        "f0aaf0d8-4441-4919-a0d5-0622eb2a5d88": {
          "id": "f0aaf0d8-4441-4919-a0d5-0622eb2a5d88",
          "prev": "e351f550-b49a-44b8-8330-95433db27311",
          "regions": {
            "2c9d6289-725e-4a88-9d7b-2d1e981a95d4": {
              "attrs": {
                "height": 0.8,
                "width": 0.8,
                "x": 0.1,
                "y": 0.1
              },
              "content": {
                "cell": "58c220d8-0ffb-482a-b294-f6d495cf4b51",
                "part": "whole"
              },
              "id": "2c9d6289-725e-4a88-9d7b-2d1e981a95d4"
            }
          }
        },
        "f1b80262-7843-49cc-a5cd-4745b19f3978": {
          "id": "f1b80262-7843-49cc-a5cd-4745b19f3978",
          "prev": "b795fbc1-8d3e-4329-bfda-7fc729633567",
          "regions": {
            "5aa2161a-2093-49bb-8ff6-f70de728afc3": {
              "attrs": {
                "height": 0.8,
                "width": 0.8,
                "x": 0.1,
                "y": 0.1
              },
              "content": {
                "cell": "9594cb7f-7599-49b2-b65f-335bbc6d90b0",
                "part": "whole"
              },
              "id": "5aa2161a-2093-49bb-8ff6-f70de728afc3"
            }
          }
        },
        "f1d0836b-51b6-4da7-ab98-0a5828c9bbb3": {
          "id": "f1d0836b-51b6-4da7-ab98-0a5828c9bbb3",
          "prev": "7cfff8ad-751a-47bb-852c-5e133999003e",
          "regions": {
            "64c35a80-5545-4540-81c8-7b6296b6b7e7": {
              "attrs": {
                "height": 0.8,
                "width": 0.8,
                "x": 0.1,
                "y": 0.1
              },
              "content": {
                "cell": "ee59bc8f-cf0f-4aaf-a8ae-b5c2763cc79b",
                "part": "whole"
              },
              "id": "64c35a80-5545-4540-81c8-7b6296b6b7e7"
            }
          }
        },
        "f1fda4f7-8e32-4ba4-89f9-355670bf7be7": {
          "id": "f1fda4f7-8e32-4ba4-89f9-355670bf7be7",
          "prev": "17361deb-8540-4ec7-a58e-38bf3b6a011d",
          "regions": {
            "e91daafe-e981-4771-871e-d9334443b888": {
              "attrs": {
                "height": 0.8,
                "width": 0.8,
                "x": 0.1,
                "y": 0.1
              },
              "content": {
                "cell": "6f7c6e9f-8a23-4093-8306-f1d086c93874",
                "part": "whole"
              },
              "id": "e91daafe-e981-4771-871e-d9334443b888"
            }
          }
        },
        "f228d481-5fc0-4b77-893d-124a217e76f8": {
          "id": "f228d481-5fc0-4b77-893d-124a217e76f8",
          "prev": "28e6e5e0-4c8d-480b-88c4-212bb8a9a5d3",
          "regions": {
            "6064fce7-c813-482c-9d1f-9f3e8c6b0989": {
              "attrs": {
                "height": 0.8,
                "width": 0.8,
                "x": 0.1,
                "y": 0.1
              },
              "content": {
                "cell": "be5663ea-c3e0-493d-9d79-f62a519cec85",
                "part": "whole"
              },
              "id": "6064fce7-c813-482c-9d1f-9f3e8c6b0989"
            }
          }
        },
        "f28c4ada-e14a-45a5-8ac6-19e63cc7994e": {
          "id": "f28c4ada-e14a-45a5-8ac6-19e63cc7994e",
          "prev": "2440aa4d-fcf2-4b7e-bc47-8548a87a6ea7",
          "regions": {
            "404bccc3-c1c1-4570-9223-1a8b7c0a40e0": {
              "attrs": {
                "height": 0.8,
                "width": 0.8,
                "x": 0.1,
                "y": 0.1
              },
              "content": {
                "cell": "90778e0d-2726-4c96-bae9-af808aa17696",
                "part": "whole"
              },
              "id": "404bccc3-c1c1-4570-9223-1a8b7c0a40e0"
            }
          }
        },
        "f2aec887-b5c6-4392-8980-acc096112791": {
          "id": "f2aec887-b5c6-4392-8980-acc096112791",
          "prev": "0ccc1664-e9f4-4e9a-b15a-eb9f5331434a",
          "regions": {
            "79856fbb-2c65-4151-b923-50df34f356e4": {
              "attrs": {
                "height": 0.8,
                "width": 0.8,
                "x": 0.1,
                "y": 0.1
              },
              "content": {
                "cell": "fea3e8ab-ae8f-4c92-9a14-1f67d1b046d5",
                "part": "whole"
              },
              "id": "79856fbb-2c65-4151-b923-50df34f356e4"
            }
          }
        },
        "f4a79847-e440-4549-ac36-12c5f7ae16cd": {
          "id": "f4a79847-e440-4549-ac36-12c5f7ae16cd",
          "prev": "e47cc9fe-a3f9-4235-bac6-317a74c7f123",
          "regions": {
            "5854150a-eaad-43e0-8516-0f25aeb320c4": {
              "attrs": {
                "height": 0.8,
                "width": 0.8,
                "x": 0.1,
                "y": 0.1
              },
              "content": {
                "cell": "63216f7b-1fbc-455f-a690-3439ac18de81",
                "part": "whole"
              },
              "id": "5854150a-eaad-43e0-8516-0f25aeb320c4"
            }
          }
        },
        "f54407be-9c02-4485-bef5-b7a81592cd7b": {
          "id": "f54407be-9c02-4485-bef5-b7a81592cd7b",
          "prev": "82e97888-e9e0-4c22-b092-c887e18f1fc7",
          "regions": {
            "8540810a-cf38-4e61-b522-5f88fd0fe124": {
              "attrs": {
                "height": 0.8,
                "width": 0.8,
                "x": 0.1,
                "y": 0.1
              },
              "content": {
                "cell": "be48f745-c87b-461d-99c1-ea8cce9efd52",
                "part": "whole"
              },
              "id": "8540810a-cf38-4e61-b522-5f88fd0fe124"
            }
          }
        },
        "f5a70ffb-4a57-44dc-bd98-766d4d57a191": {
          "id": "f5a70ffb-4a57-44dc-bd98-766d4d57a191",
          "prev": "a49ff41e-16f8-4551-bfa2-73f81f76498d",
          "regions": {
            "c3dccfc0-112a-4c1f-ba4f-f35ca9731450": {
              "attrs": {
                "height": 0.8,
                "width": 0.8,
                "x": 0.1,
                "y": 0.1
              },
              "content": {
                "cell": "5354b9bd-c9ea-4690-8910-1803c3ed9b84",
                "part": "whole"
              },
              "id": "c3dccfc0-112a-4c1f-ba4f-f35ca9731450"
            }
          }
        },
        "f5a7656f-b3db-4183-9c5d-281a9a4107f5": {
          "id": "f5a7656f-b3db-4183-9c5d-281a9a4107f5",
          "prev": "94893e4e-64c7-4293-988a-943388cac9bf",
          "regions": {
            "16f9dc60-26ef-4ead-9581-e74d3b910c50": {
              "attrs": {
                "height": 0.8,
                "width": 0.8,
                "x": 0.1,
                "y": 0.1
              },
              "content": {
                "cell": "a91ef282-77b8-44fa-8f41-61b2733727ba",
                "part": "whole"
              },
              "id": "16f9dc60-26ef-4ead-9581-e74d3b910c50"
            }
          }
        },
        "f6536e0e-5e5a-4eee-9d6d-a943c3cc2ad5": {
          "id": "f6536e0e-5e5a-4eee-9d6d-a943c3cc2ad5",
          "prev": "8a747dec-9477-4833-8387-48be9167bc51",
          "regions": {
            "c0178303-faed-488b-a8a7-3f82a693973b": {
              "attrs": {
                "height": 0.8,
                "width": 0.8,
                "x": 0.1,
                "y": 0.1
              },
              "content": {
                "cell": "d4651dc6-f125-47d0-a46c-8fe06a7bc4be",
                "part": "whole"
              },
              "id": "c0178303-faed-488b-a8a7-3f82a693973b"
            }
          }
        },
        "f7509fbd-ab9a-4911-9138-6b1af48f01f0": {
          "id": "f7509fbd-ab9a-4911-9138-6b1af48f01f0",
          "prev": "bf9a6d66-d1e7-4558-9db2-aa2c5a08e272",
          "regions": {
            "f3413e2a-8a1c-4c3a-9a0f-11faf9e49e11": {
              "attrs": {
                "height": 0.8,
                "width": 0.8,
                "x": 0.1,
                "y": 0.1
              },
              "content": {
                "cell": "e4ef7ce1-bf0b-4bb5-bab7-885076da8f55",
                "part": "whole"
              },
              "id": "f3413e2a-8a1c-4c3a-9a0f-11faf9e49e11"
            }
          }
        },
        "f75b7002-9b03-4727-aa8e-268a25f592b5": {
          "id": "f75b7002-9b03-4727-aa8e-268a25f592b5",
          "prev": "64aa93f7-d0a4-4f3f-9152-cb117c0d33d2",
          "regions": {
            "5abe2054-886e-42de-903a-e910ebe92920": {
              "attrs": {
                "height": 0.8,
                "width": 0.8,
                "x": 0.1,
                "y": 0.1
              },
              "content": {
                "cell": "1fa941d8-24b8-49a4-9c3d-f5b162ef9fca",
                "part": "whole"
              },
              "id": "5abe2054-886e-42de-903a-e910ebe92920"
            }
          }
        },
        "f7ddf4dc-80d7-481b-9d21-1166031f8c04": {
          "id": "f7ddf4dc-80d7-481b-9d21-1166031f8c04",
          "prev": "350078d1-cdee-4f48-b929-7fb2ffc2f3d0",
          "regions": {
            "d28ec8ce-ab99-4765-9d6b-cb69c9024b92": {
              "attrs": {
                "height": 0.8,
                "width": 0.8,
                "x": 0.1,
                "y": 0.1
              },
              "content": {
                "cell": "a62c4cd9-9b6c-4a93-ab3c-2433ceac4255",
                "part": "whole"
              },
              "id": "d28ec8ce-ab99-4765-9d6b-cb69c9024b92"
            }
          }
        },
        "f8392f0b-5089-4d5e-84eb-e1722a4c85aa": {
          "id": "f8392f0b-5089-4d5e-84eb-e1722a4c85aa",
          "prev": "5532ce63-059b-4216-9065-4c46bd7d89f7",
          "regions": {
            "f0f7adf6-6207-4d11-b7ba-6e361b9e5592": {
              "attrs": {
                "height": 0.8,
                "width": 0.8,
                "x": 0.1,
                "y": 0.1
              },
              "content": {
                "cell": "16504a79-f399-44ff-ad96-31d5794a5e01",
                "part": "whole"
              },
              "id": "f0f7adf6-6207-4d11-b7ba-6e361b9e5592"
            }
          }
        },
        "fd0caf8a-3d5d-41f3-9caa-08c21b3f26a8": {
          "id": "fd0caf8a-3d5d-41f3-9caa-08c21b3f26a8",
          "prev": "e61374f0-3b22-46f1-8f83-d17fb10bba9a",
          "regions": {
            "5428603b-b20f-4e04-a4b5-91603986ef36": {
              "attrs": {
                "height": 0.8,
                "width": 0.8,
                "x": 0.1,
                "y": 0.1
              },
              "content": {
                "cell": "9d106b81-205c-4f6a-adb1-c27f54cf6d09",
                "part": "whole"
              },
              "id": "5428603b-b20f-4e04-a4b5-91603986ef36"
            }
          }
        },
        "fe7b1364-ffbc-4fd1-8a08-e3ba54ab969a": {
          "id": "fe7b1364-ffbc-4fd1-8a08-e3ba54ab969a",
          "prev": "6973a990-a560-45da-bf08-33dab23595da",
          "regions": {
            "b6b30b06-ee94-466d-946f-6880915a4513": {
              "attrs": {
                "height": 0.8,
                "width": 0.8,
                "x": 0.1,
                "y": 0.1
              },
              "content": {
                "cell": "c8f76150-5cb1-48ee-97dc-a21962811c13",
                "part": "whole"
              },
              "id": "b6b30b06-ee94-466d-946f-6880915a4513"
            }
          }
        },
        "fec8363d-0549-4194-8e81-38bd3a4f034f": {
          "id": "fec8363d-0549-4194-8e81-38bd3a4f034f",
          "prev": "f5a70ffb-4a57-44dc-bd98-766d4d57a191",
          "regions": {
            "0dc53c7c-b629-4e9d-baab-39de6d8d53ec": {
              "attrs": {
                "height": 0.8,
                "width": 0.8,
                "x": 0.1,
                "y": 0.1
              },
              "content": {
                "cell": "d56dc642-606f-4b63-ad4e-7152d90e52ef",
                "part": "whole"
              },
              "id": "0dc53c7c-b629-4e9d-baab-39de6d8d53ec"
            }
          }
        },
        "ff697b9e-7715-4ae9-ab5d-0e81997651c1": {
          "id": "ff697b9e-7715-4ae9-ab5d-0e81997651c1",
          "prev": "b44ea508-b605-40b2-87dc-6298f0c98fd0",
          "regions": {
            "6350ce57-f19a-4b15-8fbf-c4f8451a7daf": {
              "attrs": {
                "height": 0.8,
                "width": 0.8,
                "x": 0.1,
                "y": 0.1
              },
              "content": {
                "cell": "6b68b809-7766-429b-bc9b-39316030e16b",
                "part": "whole"
              },
              "id": "6350ce57-f19a-4b15-8fbf-c4f8451a7daf"
            }
          }
        }
      },
      "themes": {}
    },
    "toc": {
      "nav_menu": {
        "height": "345px",
        "width": "252px"
      },
      "number_sections": false,
      "sideBar": true,
      "skip_h1_title": false,
      "toc_cell": false,
      "toc_position": {
        "height": "582px",
        "left": "0px",
        "right": "1106px",
        "top": "111px",
        "width": "260px"
      },
      "toc_section_display": "block",
      "toc_window_display": false
    },
    "toc_position": {
      "height": "552px",
      "left": "0px",
      "right": "1067px",
      "top": "107px",
      "width": "299px"
    },
    "colab": {
      "provenance": [],
      "toc_visible": true,
      "include_colab_link": true
    }
  },
  "nbformat": 4,
  "nbformat_minor": 0
}